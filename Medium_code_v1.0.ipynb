{
  "nbformat": 4,
  "nbformat_minor": 0,
  "metadata": {
    "colab": {
      "name": "Medium_code.ipynb",
      "version": "0.3.2",
      "provenance": [],
      "toc_visible": true,
      "include_colab_link": true
    },
    "kernelspec": {
      "name": "python3",
      "display_name": "Python 3"
    },
    "accelerator": "GPU"
  },
  "cells": [
    {
      "cell_type": "markdown",
      "metadata": {
        "id": "view-in-github",
        "colab_type": "text"
      },
      "source": [
        "<a href=\"https://colab.research.google.com/github/shravankoninti/mlcourse.ai-1/blob/master/Medium_code_v1.0.ipynb\" target=\"_parent\"><img src=\"https://colab.research.google.com/assets/colab-badge.svg\" alt=\"Open In Colab\"/></a>"
      ]
    },
    {
      "metadata": {
        "id": "_7agl8_mMddD",
        "colab_type": "code",
        "colab": {}
      },
      "cell_type": "code",
      "source": [
        "# Install the PyDrive wrapper & import libraries.\n",
        "# This only needs to be done once in a notebook.\n",
        "!pip install -U -q PyDrive\n",
        "from pydrive.auth import GoogleAuth\n",
        "from pydrive.drive import GoogleDrive\n",
        "from google.colab import auth\n",
        "from oauth2client.client import GoogleCredentials\n",
        "\n",
        "# Authenticate and create the PyDrive client.\n",
        "# This only needs to be done once in a notebook.\n",
        "auth.authenticate_user()\n",
        "gauth = GoogleAuth()\n",
        "gauth.credentials = GoogleCredentials.get_application_default()\n",
        "drive = GoogleDrive(gauth)"
      ],
      "execution_count": 0,
      "outputs": []
    },
    {
      "metadata": {
        "id": "Z9c43ovzOPgx",
        "colab_type": "code",
        "colab": {}
      },
      "cell_type": "code",
      "source": [
        "#train.csv\n",
        "\n",
        "# Download a file based on its file ID.\n",
        "#\n",
        "# A file ID looks like: laggVyWshwcyP6kEI-y_W3P8D26sz\n",
        "file_id = '1DTuYupJwzsqO3ST99gC9qUt-lFIRVmQe' #https://drive.google.com/open?id=1DTuYupJwzsqO3ST99gC9qUt-lFIRVmQe\n",
        "downloaded = drive.CreateFile({'id': file_id})\n"
      ],
      "execution_count": 0,
      "outputs": []
    },
    {
      "metadata": {
        "id": "bi-Q0th9OS2i",
        "colab_type": "code",
        "colab": {}
      },
      "cell_type": "code",
      "source": [
        "downloaded.GetContentFile('train.csv')"
      ],
      "execution_count": 0,
      "outputs": []
    },
    {
      "metadata": {
        "id": "JfwQnN6VOVdY",
        "colab_type": "code",
        "colab": {}
      },
      "cell_type": "code",
      "source": [
        "\n",
        "file_id = '1Dy0AC_Yc0kTihNWxwXMYsU8ORPmm1N_q' #https://drive.google.com/open?id=1Dy0AC_Yc0kTihNWxwXMYsU8ORPmm1N_q\n",
        "downloaded = drive.CreateFile({'id': file_id}) \n",
        "  \n",
        "  "
      ],
      "execution_count": 0,
      "outputs": []
    },
    {
      "metadata": {
        "id": "2AVZWEAmOW9F",
        "colab_type": "code",
        "colab": {}
      },
      "cell_type": "code",
      "source": [
        "downloaded.GetContentFile('test.csv')"
      ],
      "execution_count": 0,
      "outputs": []
    },
    {
      "metadata": {
        "id": "WpRihH4vQJ0T",
        "colab_type": "code",
        "colab": {}
      },
      "cell_type": "code",
      "source": [
        "\n",
        "file_id = '1b-7WC4DccQ_PRXoU8GqZcLyHQJxgn-Xm' #https://drive.google.com/open?id=1b-7WC4DccQ_PRXoU8GqZcLyHQJxgn-Xm\n",
        "downloaded = drive.CreateFile({'id': file_id}) \n",
        "  \n",
        "  "
      ],
      "execution_count": 0,
      "outputs": []
    },
    {
      "metadata": {
        "id": "fNFZRhHmQR5_",
        "colab_type": "code",
        "colab": {}
      },
      "cell_type": "code",
      "source": [
        "downloaded.GetContentFile('train_log1p_recommends.csv')"
      ],
      "execution_count": 0,
      "outputs": []
    },
    {
      "metadata": {
        "id": "a7y6jvL6vbHm",
        "colab_type": "code",
        "colab": {}
      },
      "cell_type": "code",
      "source": [
        "\n",
        "file_id = '1LVjbFpNQs4eAafiIJLUX1JA_ieeFQdRo' #https://drive.google.com/open?id=1LVjbFpNQs4eAafiIJLUX1JA_ieeFQdRo\n",
        "downloaded = drive.CreateFile({'id': file_id}) \n",
        "  \n",
        "downloaded.GetContentFile('sample_submission.csv')"
      ],
      "execution_count": 0,
      "outputs": []
    },
    {
      "metadata": {
        "id": "qXDJh0sPOZW8",
        "colab_type": "code",
        "outputId": "78ed6eb4-a9e0-459d-9abf-c8b021dbaef0",
        "colab": {
          "base_uri": "https://localhost:8080/",
          "height": 52
        }
      },
      "cell_type": "code",
      "source": [
        "!ls"
      ],
      "execution_count": 10,
      "outputs": [
        {
          "output_type": "stream",
          "text": [
            "adc.json     sample_submission.csv  test.csv   train_log1p_recommends.csv\n",
            "sample_data  submission.csv\t    train.csv\n"
          ],
          "name": "stdout"
        }
      ]
    },
    {
      "metadata": {
        "id": "Ud0H9qCoPXuw",
        "colab_type": "code",
        "outputId": "b50cdbe5-3c11-40b1-b936-bcf237e5269b",
        "colab": {
          "base_uri": "https://localhost:8080/",
          "height": 917
        }
      },
      "cell_type": "code",
      "source": [
        "import os\n",
        "import numpy as np\n",
        "import pandas as pd\n",
        "from matplotlib import pyplot as plt\n",
        "%matplotlib inline\n",
        "import json\n",
        "from tqdm import tqdm_notebook\n",
        "from sklearn.feature_extraction.text import CountVectorizer\n",
        "from sklearn.metrics import mean_absolute_error\n",
        "\n",
        "\n",
        "import numpy as np\n",
        "import pandas as pd\n",
        "import json\n",
        "from sklearn.feature_extraction.text import CountVectorizer\n",
        "from sklearn.metrics import mean_absolute_error\n",
        "from sklearn.linear_model import Ridge\n",
        "from scipy.sparse import csr_matrix, hstack\n",
        "from scipy.stats import probplot\n",
        "import pickle\n",
        "from bs4 import BeautifulSoup\n",
        "import matplotlib.pyplot as plt\n",
        "import matplotlib.gridspec as gridspec\n",
        "%matplotlib inline\n",
        "import seaborn as sns \n",
        "import gc\n",
        "import warnings\n",
        "warnings.filterwarnings('ignore')\n",
        "import time\n",
        "from sklearn.preprocessing import StandardScaler\n",
        "from scipy.sparse import (csr_matrix, hstack)\n",
        "\n",
        "\n",
        "import os\n",
        "import json\n",
        "import numpy as np\n",
        "import pandas as pd\n",
        "import matplotlib.pyplot as plt\n",
        "from nltk.tokenize import word_tokenize\n",
        "from nltk import (PorterStemmer, WordNetLemmatizer)\n",
        "from sklearn.feature_extraction.text import (CountVectorizer,\n",
        "                                             TfidfVectorizer)\n",
        "from sklearn.metrics import mean_absolute_error\n",
        "from sklearn.linear_model import (RidgeCV, Ridge)\n",
        "from sklearn.model_selection import (GridSearchCV, \n",
        "                                     cross_val_score,\n",
        "                                     train_test_split)\n",
        "from sklearn.preprocessing import StandardScaler\n",
        "from scipy.sparse import (csr_matrix, hstack)\n",
        "\n",
        "import nltk\n",
        "nltk.download(\"popular\")\n",
        "from sklearn.feature_extraction import text \n",
        "stop_words = text.ENGLISH_STOP_WORDS\n",
        "\n",
        "\n",
        "color = sns.color_palette()\n",
        "sns.set_style(\"whitegrid\")\n",
        "sns.set_context(\"paper\")\n",
        "sns.palplot(color)"
      ],
      "execution_count": 11,
      "outputs": [
        {
          "output_type": "stream",
          "text": [
            "[nltk_data] Downloading collection 'popular'\n",
            "[nltk_data]    | \n",
            "[nltk_data]    | Downloading package cmudict to /root/nltk_data...\n",
            "[nltk_data]    |   Package cmudict is already up-to-date!\n",
            "[nltk_data]    | Downloading package gazetteers to /root/nltk_data...\n",
            "[nltk_data]    |   Package gazetteers is already up-to-date!\n",
            "[nltk_data]    | Downloading package genesis to /root/nltk_data...\n",
            "[nltk_data]    |   Package genesis is already up-to-date!\n",
            "[nltk_data]    | Downloading package gutenberg to /root/nltk_data...\n",
            "[nltk_data]    |   Package gutenberg is already up-to-date!\n",
            "[nltk_data]    | Downloading package inaugural to /root/nltk_data...\n",
            "[nltk_data]    |   Package inaugural is already up-to-date!\n",
            "[nltk_data]    | Downloading package movie_reviews to\n",
            "[nltk_data]    |     /root/nltk_data...\n",
            "[nltk_data]    |   Package movie_reviews is already up-to-date!\n",
            "[nltk_data]    | Downloading package names to /root/nltk_data...\n",
            "[nltk_data]    |   Package names is already up-to-date!\n",
            "[nltk_data]    | Downloading package shakespeare to /root/nltk_data...\n",
            "[nltk_data]    |   Package shakespeare is already up-to-date!\n",
            "[nltk_data]    | Downloading package stopwords to /root/nltk_data...\n",
            "[nltk_data]    |   Package stopwords is already up-to-date!\n",
            "[nltk_data]    | Downloading package treebank to /root/nltk_data...\n",
            "[nltk_data]    |   Package treebank is already up-to-date!\n",
            "[nltk_data]    | Downloading package twitter_samples to\n",
            "[nltk_data]    |     /root/nltk_data...\n",
            "[nltk_data]    |   Package twitter_samples is already up-to-date!\n",
            "[nltk_data]    | Downloading package omw to /root/nltk_data...\n",
            "[nltk_data]    |   Package omw is already up-to-date!\n",
            "[nltk_data]    | Downloading package wordnet to /root/nltk_data...\n",
            "[nltk_data]    |   Package wordnet is already up-to-date!\n",
            "[nltk_data]    | Downloading package wordnet_ic to /root/nltk_data...\n",
            "[nltk_data]    |   Package wordnet_ic is already up-to-date!\n",
            "[nltk_data]    | Downloading package words to /root/nltk_data...\n",
            "[nltk_data]    |   Package words is already up-to-date!\n",
            "[nltk_data]    | Downloading package maxent_ne_chunker to\n",
            "[nltk_data]    |     /root/nltk_data...\n",
            "[nltk_data]    |   Package maxent_ne_chunker is already up-to-date!\n",
            "[nltk_data]    | Downloading package punkt to /root/nltk_data...\n",
            "[nltk_data]    |   Package punkt is already up-to-date!\n",
            "[nltk_data]    | Downloading package snowball_data to\n",
            "[nltk_data]    |     /root/nltk_data...\n",
            "[nltk_data]    |   Package snowball_data is already up-to-date!\n",
            "[nltk_data]    | Downloading package averaged_perceptron_tagger to\n",
            "[nltk_data]    |     /root/nltk_data...\n",
            "[nltk_data]    |   Package averaged_perceptron_tagger is already up-\n",
            "[nltk_data]    |       to-date!\n",
            "[nltk_data]    | \n",
            "[nltk_data]  Done downloading collection popular\n"
          ],
          "name": "stdout"
        },
        {
          "output_type": "display_data",
          "data": {
            "image/png": "[encoded data removed]",
            "text/plain": [
              "<Figure size 432x72 with 1 Axes>"
            ]
          },
          "metadata": {
            "tags": []
          }
        }
      ]
    },
    {
      "metadata": {
        "id": "l0JPEoDnPqee",
        "colab_type": "code",
        "outputId": "a8b41cc2-f075-44e1-97b9-1a5c2c6f38eb",
        "colab": {
          "base_uri": "https://localhost:8080/",
          "height": 87
        }
      },
      "cell_type": "code",
      "source": [
        "# read data from file\n",
        "# train = pd.read_csv(\"../input/train.csv\") \n",
        "# test = pd.read_csv(\"../input/test.csv\")\n",
        "\n",
        "train = pd.read_csv(\"train.csv\", index_col = 0, encoding = 'utf-8') \n",
        "test = pd.read_csv(\"test.csv\", index_col = 0 ,encoding = 'utf-8')\n",
        "\n",
        "# check the number of features and data points in train\n",
        "print(\"Number of data points in train: %d\" % train.shape[0])\n",
        "print(\"Number of features in train: %d\" % train.shape[1])\n",
        "\n",
        "# check the number of features and data points in test\n",
        "print(\"Number of data points in test: %d\" % test.shape[0])\n",
        "print(\"Number of features in test: %d\" % test.shape[1])"
      ],
      "execution_count": 12,
      "outputs": [
        {
          "output_type": "stream",
          "text": [
            "Number of data points in train: 62313\n",
            "Number of features in train: 14\n",
            "Number of data points in test: 34645\n",
            "Number of features in test: 13\n"
          ],
          "name": "stdout"
        }
      ]
    },
    {
      "metadata": {
        "id": "aMo6GHtRQwKk",
        "colab_type": "code",
        "outputId": "5d18f686-e172-4b6c-940d-096766244d6b",
        "colab": {
          "base_uri": "https://localhost:8080/",
          "height": 338
        }
      },
      "cell_type": "code",
      "source": [
        "train.head(2)"
      ],
      "execution_count": 13,
      "outputs": [
        {
          "output_type": "execute_result",
          "data": {
            "text/html": [
              "<div>\n",
              "<style scoped>\n",
              "    .dataframe tbody tr th:only-of-type {\n",
              "        vertical-align: middle;\n",
              "    }\n",
              "\n",
              "    .dataframe tbody tr th {\n",
              "        vertical-align: top;\n",
              "    }\n",
              "\n",
              "    .dataframe thead th {\n",
              "        text-align: right;\n",
              "    }\n",
              "</style>\n",
              "<table border=\"1\" class=\"dataframe\">\n",
              "  <thead>\n",
              "    <tr style=\"text-align: right;\">\n",
              "      <th></th>\n",
              "      <th>content</th>\n",
              "      <th>published</th>\n",
              "      <th>title</th>\n",
              "      <th>author</th>\n",
              "      <th>domain</th>\n",
              "      <th>tags</th>\n",
              "      <th>length</th>\n",
              "      <th>url</th>\n",
              "      <th>dow</th>\n",
              "      <th>year</th>\n",
              "      <th>month</th>\n",
              "      <th>hour</th>\n",
              "      <th>number_of_tags</th>\n",
              "      <th>target</th>\n",
              "    </tr>\n",
              "  </thead>\n",
              "  <tbody>\n",
              "    <tr>\n",
              "      <th>0</th>\n",
              "      <td>Susan BrattonTrusted Hot Sex Advisor To Millio...</td>\n",
              "      <td>1970-01-01 00:00:00.001</td>\n",
              "      <td>Saving Your Marriage By Watching Steamy Sex Ed...</td>\n",
              "      <td>Susan Bratton</td>\n",
              "      <td>medium.com</td>\n",
              "      <td>Lovemaking Sex SexPositions EarlyBird SexEdVideos</td>\n",
              "      <td>5473</td>\n",
              "      <td>http://personallifemedia.com/2017/01/saving-ma...</td>\n",
              "      <td>3</td>\n",
              "      <td>1970</td>\n",
              "      <td>1</td>\n",
              "      <td>0</td>\n",
              "      <td>5</td>\n",
              "      <td>1.09861</td>\n",
              "    </tr>\n",
              "    <tr>\n",
              "      <th>1</th>\n",
              "      <td>Ryo OoishiDec 31, 1969やってよかった中学受験明日から息子の中学受験がは...</td>\n",
              "      <td>1970-01-01 00:00:00.001</td>\n",
              "      <td>やってよかった中学受験</td>\n",
              "      <td>Ryo Ooishi</td>\n",
              "      <td>medium.com</td>\n",
              "      <td>NaN</td>\n",
              "      <td>5325</td>\n",
              "      <td>https://medium.com/@ooishi/%E3%82%84%E3%81%A3%...</td>\n",
              "      <td>3</td>\n",
              "      <td>1970</td>\n",
              "      <td>1</td>\n",
              "      <td>0</td>\n",
              "      <td>0</td>\n",
              "      <td>2.56495</td>\n",
              "    </tr>\n",
              "  </tbody>\n",
              "</table>\n",
              "</div>"
            ],
            "text/plain": [
              "                                             content                published  \\\n",
              "0  Susan BrattonTrusted Hot Sex Advisor To Millio...  1970-01-01 00:00:00.001   \n",
              "1  Ryo OoishiDec 31, 1969やってよかった中学受験明日から息子の中学受験がは...  1970-01-01 00:00:00.001   \n",
              "\n",
              "                                               title         author  \\\n",
              "0  Saving Your Marriage By Watching Steamy Sex Ed...  Susan Bratton   \n",
              "1                                        やってよかった中学受験     Ryo Ooishi   \n",
              "\n",
              "       domain                                               tags  length  \\\n",
              "0  medium.com  Lovemaking Sex SexPositions EarlyBird SexEdVideos    5473   \n",
              "1  medium.com                                                NaN    5325   \n",
              "\n",
              "                                                 url  dow  year  month  hour  \\\n",
              "0  http://personallifemedia.com/2017/01/saving-ma...    3  1970      1     0   \n",
              "1  https://medium.com/@ooishi/%E3%82%84%E3%81%A3%...    3  1970      1     0   \n",
              "\n",
              "   number_of_tags   target  \n",
              "0               5  1.09861  \n",
              "1               0  2.56495  "
            ]
          },
          "metadata": {
            "tags": []
          },
          "execution_count": 13
        }
      ]
    },
    {
      "metadata": {
        "id": "12P5oz5CSduH",
        "colab_type": "code",
        "outputId": "fe8e5609-0567-46ca-e0de-614cdf8b850b",
        "colab": {
          "base_uri": "https://localhost:8080/",
          "height": 251
        }
      },
      "cell_type": "code",
      "source": [
        "test.head(2)"
      ],
      "execution_count": 14,
      "outputs": [
        {
          "output_type": "execute_result",
          "data": {
            "text/html": [
              "<div>\n",
              "<style scoped>\n",
              "    .dataframe tbody tr th:only-of-type {\n",
              "        vertical-align: middle;\n",
              "    }\n",
              "\n",
              "    .dataframe tbody tr th {\n",
              "        vertical-align: top;\n",
              "    }\n",
              "\n",
              "    .dataframe thead th {\n",
              "        text-align: right;\n",
              "    }\n",
              "</style>\n",
              "<table border=\"1\" class=\"dataframe\">\n",
              "  <thead>\n",
              "    <tr style=\"text-align: right;\">\n",
              "      <th></th>\n",
              "      <th>content</th>\n",
              "      <th>published</th>\n",
              "      <th>title</th>\n",
              "      <th>author</th>\n",
              "      <th>domain</th>\n",
              "      <th>tags</th>\n",
              "      <th>length</th>\n",
              "      <th>url</th>\n",
              "      <th>dow</th>\n",
              "      <th>year</th>\n",
              "      <th>month</th>\n",
              "      <th>hour</th>\n",
              "      <th>number_of_tags</th>\n",
              "    </tr>\n",
              "  </thead>\n",
              "  <tbody>\n",
              "    <tr>\n",
              "      <th>0</th>\n",
              "      <td>Member previewHITRECORDhitrecord.org is a new ...</td>\n",
              "      <td>2018-02-21 17:01:00.928</td>\n",
              "      <td>For Night Owls, the Day Starts with a Nocturna...</td>\n",
              "      <td>HITRECORD</td>\n",
              "      <td>medium.com</td>\n",
              "      <td>MorningRoutines Hitrecord Podcast Night</td>\n",
              "      <td>12500</td>\n",
              "      <td>https://medium.com/on-mornings/nocturnalmornin...</td>\n",
              "      <td>2</td>\n",
              "      <td>2018</td>\n",
              "      <td>2</td>\n",
              "      <td>17</td>\n",
              "      <td>4</td>\n",
              "    </tr>\n",
              "    <tr>\n",
              "      <th>1</th>\n",
              "      <td>Member previewMaria Bustillosis a journalist a...</td>\n",
              "      <td>2017-12-07 15:56:00.967</td>\n",
              "      <td>Blockchain is Memory</td>\n",
              "      <td>Maria Bustillos</td>\n",
              "      <td>medium.com</td>\n",
              "      <td>Blockchain Technology History Network WordsTha...</td>\n",
              "      <td>6703</td>\n",
              "      <td>https://medium.com/wordsthatmatter/never-break...</td>\n",
              "      <td>3</td>\n",
              "      <td>2017</td>\n",
              "      <td>12</td>\n",
              "      <td>15</td>\n",
              "      <td>5</td>\n",
              "    </tr>\n",
              "  </tbody>\n",
              "</table>\n",
              "</div>"
            ],
            "text/plain": [
              "                                             content                published  \\\n",
              "0  Member previewHITRECORDhitrecord.org is a new ...  2018-02-21 17:01:00.928   \n",
              "1  Member previewMaria Bustillosis a journalist a...  2017-12-07 15:56:00.967   \n",
              "\n",
              "                                               title           author  \\\n",
              "0  For Night Owls, the Day Starts with a Nocturna...        HITRECORD   \n",
              "1                               Blockchain is Memory  Maria Bustillos   \n",
              "\n",
              "       domain                                               tags  length  \\\n",
              "0  medium.com            MorningRoutines Hitrecord Podcast Night   12500   \n",
              "1  medium.com  Blockchain Technology History Network WordsTha...    6703   \n",
              "\n",
              "                                                 url  dow  year  month  hour  \\\n",
              "0  https://medium.com/on-mornings/nocturnalmornin...    2  2018      2    17   \n",
              "1  https://medium.com/wordsthatmatter/never-break...    3  2017     12    15   \n",
              "\n",
              "   number_of_tags  \n",
              "0               4  \n",
              "1               5  "
            ]
          },
          "metadata": {
            "tags": []
          },
          "execution_count": 14
        }
      ]
    },
    {
      "metadata": {
        "id": "5vn6y7sySfgQ",
        "colab_type": "code",
        "outputId": "53f169e7-be40-4f19-ebff-3864b6d90920",
        "colab": {
          "base_uri": "https://localhost:8080/",
          "height": 277
        }
      },
      "cell_type": "code",
      "source": [
        "train.dtypes"
      ],
      "execution_count": 15,
      "outputs": [
        {
          "output_type": "execute_result",
          "data": {
            "text/plain": [
              "content            object\n",
              "published          object\n",
              "title              object\n",
              "author             object\n",
              "domain             object\n",
              "tags               object\n",
              "length              int64\n",
              "url                object\n",
              "dow                 int64\n",
              "year                int64\n",
              "month               int64\n",
              "hour                int64\n",
              "number_of_tags      int64\n",
              "target            float64\n",
              "dtype: object"
            ]
          },
          "metadata": {
            "tags": []
          },
          "execution_count": 15
        }
      ]
    },
    {
      "metadata": {
        "id": "Ap4_Yg9mYV5x",
        "colab_type": "code",
        "colab": {}
      },
      "cell_type": "code",
      "source": [
        "# plt.figure(1)\n",
        "# plt.subplot(221)\n",
        "# train['dow'].value_counts(normalize=True).plot.bar(figsize=(12,8), fontsize = 15.0)\n",
        "# plt.title('dow', fontweight=\"bold\", fontsize = 22.0)\n",
        "# plt.ylabel('Count %', fontsize = 20.0)\n",
        "\n",
        "\n",
        "# plt.subplot(222)\n",
        "# train['year'].value_counts(normalize=True).plot.bar(figsize=(12,8), fontsize = 15.0)\n",
        "# plt.title('year', fontweight=\"bold\",fontsize = 22.0)\n",
        "# plt.ylabel('Count %', fontsize = 20.0)\n",
        "\n",
        "# plt.subplot(223)\n",
        "# train['month'].value_counts(normalize=True).plot.bar(figsize=(12,8), fontsize = 15.0)\n",
        "# plt.title('month', fontweight=\"bold\", fontsize = 22.0)\n",
        "# plt.ylabel('Count %', fontsize = 20.0)\n",
        "\n",
        "# plt.subplot(224)\n",
        "# train['hour'].value_counts(normalize=True).plot.bar(figsize=(12,8), fontsize = 15.0)\n",
        "# plt.title('hour', fontweight=\"bold\", fontsize = 22.0)\n",
        "# plt.ylabel('Count %', fontsize = 20.0)\n",
        "# plt.tight_layout()"
      ],
      "execution_count": 0,
      "outputs": []
    },
    {
      "metadata": {
        "id": "_ycNrDzXYvXz",
        "colab_type": "code",
        "colab": {}
      },
      "cell_type": "code",
      "source": [
        "# plt.figure(1)\n",
        "# plt.subplot(121)\n",
        "# sns.distplot(train['target'])\n",
        "\n",
        "\n",
        "# plt.subplot(122)\n",
        "# train['target'].plot.box(figsize=(16,5))\n",
        "\n",
        "# plt.show()"
      ],
      "execution_count": 0,
      "outputs": []
    },
    {
      "metadata": {
        "id": "wwmeO5HWZUlD",
        "colab_type": "code",
        "colab": {}
      },
      "cell_type": "code",
      "source": [
        "# probplot(train.target.values, dist=\"norm\", plot=plt);"
      ],
      "execution_count": 0,
      "outputs": []
    },
    {
      "metadata": {
        "id": "Xlhbn8epZyja",
        "colab_type": "code",
        "colab": {}
      },
      "cell_type": "code",
      "source": [
        "# train.sort_values(by='target', ascending=False).reset_index(drop=True).loc[0, 'url']"
      ],
      "execution_count": 0,
      "outputs": []
    },
    {
      "metadata": {
        "id": "rJKj_JfWaOjn",
        "colab_type": "text"
      },
      "cell_type": "markdown",
      "source": [
        "## Other Features"
      ]
    },
    {
      "metadata": {
        "id": "XmcES3yhdP7b",
        "colab_type": "code",
        "colab": {}
      },
      "cell_type": "code",
      "source": [
        "# plt.figure(1)\n",
        "# plt.subplot(221)\n",
        "# train['domain'].value_counts(normalize=True).plot.bar(figsize=(12,8), fontsize = 15.0)\n",
        "# plt.title('domain', fontweight=\"bold\", fontsize = 22.0)\n",
        "# plt.ylabel('Count %', fontsize = 20.0)\n",
        "# plt.xticks(rotation=90)\n",
        "\n",
        "\n",
        "# plt.subplot(222)\n",
        "# test['domain'].value_counts(normalize=True).plot.bar(figsize=(12,8), fontsize = 15.0)\n",
        "# plt.title('domain', fontweight=\"bold\",fontsize = 22.0)\n",
        "# plt.ylabel('Count %', fontsize = 20.0)\n",
        "# plt.xticks(rotation=90)\n",
        "\n",
        "# plt.subplot(223)\n",
        "# train['month'].value_counts(normalize=True).plot.bar(figsize=(12,8), fontsize = 15.0)\n",
        "# plt.title('month', fontweight=\"bold\", fontsize = 22.0)\n",
        "# plt.ylabel('Count %', fontsize = 20.0)\n",
        "\n",
        "# plt.subplot(224)\n",
        "# train['hour'].value_counts(normalize=True).plot.bar(figsize=(12,8), fontsize = 15.0)\n",
        "# plt.title('hour', fontweight=\"bold\", fontsize = 22.0)\n",
        "# plt.ylabel('Count %', fontsize = 20.0)\n",
        "# plt.tight_layout()"
      ],
      "execution_count": 0,
      "outputs": []
    },
    {
      "metadata": {
        "id": "VbpG6CUzZ842",
        "colab_type": "code",
        "outputId": "665d1233-cf81-4148-ba49-dc5dc6d8a795",
        "colab": {
          "base_uri": "https://localhost:8080/",
          "height": 829
        }
      },
      "cell_type": "code",
      "source": [
        "plt.figure(figsize=(15,6))\n",
        "plt.suptitle(\"Length of post distribution\",fontsize=20)\n",
        "gridspec.GridSpec(2,1)\n",
        "\n",
        "plt.subplot2grid((2,1),(0,0))\n",
        "plt.xlim(0, 450000)\n",
        "sns.distplot(train.length.values, hist=False, color=color[0], kde_kws={\"shade\": True, \"lw\": 2})\n",
        "plt.title(\"Number of chars\")\n",
        "\n",
        "plt.subplot2grid((2,1),(1,0))\n",
        "plt.xlim(0, 450000)\n",
        "sns.boxplot(train.length.values);\n",
        "\n",
        "plt.figure(figsize=(15,6))\n",
        "plt.suptitle(\"Length of post distribution (log1p transformed)\",fontsize=20)\n",
        "gridspec.GridSpec(2,1)\n",
        "\n",
        "\n",
        "plt.subplot2grid((2,1),(0,0))\n",
        "sns.distplot(np.log1p(train.length.values), hist=False, color=color[0], kde_kws={\"shade\": True, \"lw\": 2})\n",
        "plt.title(\"Number of chars (log1p transformed)\")\n",
        "\n",
        "plt.subplot2grid((2,1),(1,0))\n",
        "sns.boxplot(np.log1p(train.length.values));"
      ],
      "execution_count": 21,
      "outputs": [
        {
          "output_type": "display_data",
          "data": {
            "image/png": "[encoded data removed]",
            "text/plain": [
              "<Figure size 1080x432 with 2 Axes>"
            ]
          },
          "metadata": {
            "tags": []
          }
        },
        {
          "output_type": "display_data",
          "data": {
            "image/png": "[encoded data removed]",
            "text/plain": [
              "<Figure size 1080x432 with 2 Axes>"
            ]
          },
          "metadata": {
            "tags": []
          }
        }
      ]
    },
    {
      "metadata": {
        "id": "nhjrKb83KSk5",
        "colab_type": "code",
        "colab": {}
      },
      "cell_type": "code",
      "source": [
        "# content_train = train['content'].values.tolist()\n",
        "# title_train = train['title'].values.tolist()\n",
        "# tags_train = train['tags'].values.tolist()\n",
        "# y_train = train['target'].values\n",
        "# # train.drop(['content', 'title', 'target', 'tags', 'published', 'length', 'url'], axis=1, inplace=True)\n",
        "\n",
        "# content_test = test['content'].values.tolist()\n",
        "# title_test = test['title'].values.tolist()\n",
        "# tags_test = test['tags'].values.tolist()\n",
        "# # test.drop(['content', 'title', 'tags', 'published', 'length', 'url'], axis=1, inplace=True)"
      ],
      "execution_count": 0,
      "outputs": []
    },
    {
      "metadata": {
        "id": "3IcIaIkNKX_2",
        "colab_type": "code",
        "outputId": "5956371a-706e-4bb8-a520-cd19a3a038dd",
        "colab": {
          "base_uri": "https://localhost:8080/",
          "height": 338
        }
      },
      "cell_type": "code",
      "source": [
        "train.head(2)"
      ],
      "execution_count": 23,
      "outputs": [
        {
          "output_type": "execute_result",
          "data": {
            "text/html": [
              "<div>\n",
              "<style scoped>\n",
              "    .dataframe tbody tr th:only-of-type {\n",
              "        vertical-align: middle;\n",
              "    }\n",
              "\n",
              "    .dataframe tbody tr th {\n",
              "        vertical-align: top;\n",
              "    }\n",
              "\n",
              "    .dataframe thead th {\n",
              "        text-align: right;\n",
              "    }\n",
              "</style>\n",
              "<table border=\"1\" class=\"dataframe\">\n",
              "  <thead>\n",
              "    <tr style=\"text-align: right;\">\n",
              "      <th></th>\n",
              "      <th>content</th>\n",
              "      <th>published</th>\n",
              "      <th>title</th>\n",
              "      <th>author</th>\n",
              "      <th>domain</th>\n",
              "      <th>tags</th>\n",
              "      <th>length</th>\n",
              "      <th>url</th>\n",
              "      <th>dow</th>\n",
              "      <th>year</th>\n",
              "      <th>month</th>\n",
              "      <th>hour</th>\n",
              "      <th>number_of_tags</th>\n",
              "      <th>target</th>\n",
              "    </tr>\n",
              "  </thead>\n",
              "  <tbody>\n",
              "    <tr>\n",
              "      <th>0</th>\n",
              "      <td>Susan BrattonTrusted Hot Sex Advisor To Millio...</td>\n",
              "      <td>1970-01-01 00:00:00.001</td>\n",
              "      <td>Saving Your Marriage By Watching Steamy Sex Ed...</td>\n",
              "      <td>Susan Bratton</td>\n",
              "      <td>medium.com</td>\n",
              "      <td>Lovemaking Sex SexPositions EarlyBird SexEdVideos</td>\n",
              "      <td>5473</td>\n",
              "      <td>http://personallifemedia.com/2017/01/saving-ma...</td>\n",
              "      <td>3</td>\n",
              "      <td>1970</td>\n",
              "      <td>1</td>\n",
              "      <td>0</td>\n",
              "      <td>5</td>\n",
              "      <td>1.09861</td>\n",
              "    </tr>\n",
              "    <tr>\n",
              "      <th>1</th>\n",
              "      <td>Ryo OoishiDec 31, 1969やってよかった中学受験明日から息子の中学受験がは...</td>\n",
              "      <td>1970-01-01 00:00:00.001</td>\n",
              "      <td>やってよかった中学受験</td>\n",
              "      <td>Ryo Ooishi</td>\n",
              "      <td>medium.com</td>\n",
              "      <td>NaN</td>\n",
              "      <td>5325</td>\n",
              "      <td>https://medium.com/@ooishi/%E3%82%84%E3%81%A3%...</td>\n",
              "      <td>3</td>\n",
              "      <td>1970</td>\n",
              "      <td>1</td>\n",
              "      <td>0</td>\n",
              "      <td>0</td>\n",
              "      <td>2.56495</td>\n",
              "    </tr>\n",
              "  </tbody>\n",
              "</table>\n",
              "</div>"
            ],
            "text/plain": [
              "                                             content                published  \\\n",
              "0  Susan BrattonTrusted Hot Sex Advisor To Millio...  1970-01-01 00:00:00.001   \n",
              "1  Ryo OoishiDec 31, 1969やってよかった中学受験明日から息子の中学受験がは...  1970-01-01 00:00:00.001   \n",
              "\n",
              "                                               title         author  \\\n",
              "0  Saving Your Marriage By Watching Steamy Sex Ed...  Susan Bratton   \n",
              "1                                        やってよかった中学受験     Ryo Ooishi   \n",
              "\n",
              "       domain                                               tags  length  \\\n",
              "0  medium.com  Lovemaking Sex SexPositions EarlyBird SexEdVideos    5473   \n",
              "1  medium.com                                                NaN    5325   \n",
              "\n",
              "                                                 url  dow  year  month  hour  \\\n",
              "0  http://personallifemedia.com/2017/01/saving-ma...    3  1970      1     0   \n",
              "1  https://medium.com/@ooishi/%E3%82%84%E3%81%A3%...    3  1970      1     0   \n",
              "\n",
              "   number_of_tags   target  \n",
              "0               5  1.09861  \n",
              "1               0  2.56495  "
            ]
          },
          "metadata": {
            "tags": []
          },
          "execution_count": 23
        }
      ]
    },
    {
      "metadata": {
        "id": "SlPYvbg4Kert",
        "colab_type": "code",
        "outputId": "ef92d069-5253-4ef6-a1d9-b6ac93d0f6e2",
        "colab": {
          "base_uri": "https://localhost:8080/",
          "height": 69
        }
      },
      "cell_type": "code",
      "source": [
        "train.columns"
      ],
      "execution_count": 24,
      "outputs": [
        {
          "output_type": "execute_result",
          "data": {
            "text/plain": [
              "Index(['content', 'published', 'title', 'author', 'domain', 'tags', 'length',\n",
              "       'url', 'dow', 'year', 'month', 'hour', 'number_of_tags', 'target'],\n",
              "      dtype='object')"
            ]
          },
          "metadata": {
            "tags": []
          },
          "execution_count": 24
        }
      ]
    },
    {
      "metadata": {
        "id": "kPnQtbPkKceb",
        "colab_type": "code",
        "outputId": "325f1d99-c0c1-4063-a979-7fc876cc4465",
        "colab": {
          "base_uri": "https://localhost:8080/",
          "height": 251
        }
      },
      "cell_type": "code",
      "source": [
        "test.head(2)"
      ],
      "execution_count": 25,
      "outputs": [
        {
          "output_type": "execute_result",
          "data": {
            "text/html": [
              "<div>\n",
              "<style scoped>\n",
              "    .dataframe tbody tr th:only-of-type {\n",
              "        vertical-align: middle;\n",
              "    }\n",
              "\n",
              "    .dataframe tbody tr th {\n",
              "        vertical-align: top;\n",
              "    }\n",
              "\n",
              "    .dataframe thead th {\n",
              "        text-align: right;\n",
              "    }\n",
              "</style>\n",
              "<table border=\"1\" class=\"dataframe\">\n",
              "  <thead>\n",
              "    <tr style=\"text-align: right;\">\n",
              "      <th></th>\n",
              "      <th>content</th>\n",
              "      <th>published</th>\n",
              "      <th>title</th>\n",
              "      <th>author</th>\n",
              "      <th>domain</th>\n",
              "      <th>tags</th>\n",
              "      <th>length</th>\n",
              "      <th>url</th>\n",
              "      <th>dow</th>\n",
              "      <th>year</th>\n",
              "      <th>month</th>\n",
              "      <th>hour</th>\n",
              "      <th>number_of_tags</th>\n",
              "    </tr>\n",
              "  </thead>\n",
              "  <tbody>\n",
              "    <tr>\n",
              "      <th>0</th>\n",
              "      <td>Member previewHITRECORDhitrecord.org is a new ...</td>\n",
              "      <td>2018-02-21 17:01:00.928</td>\n",
              "      <td>For Night Owls, the Day Starts with a Nocturna...</td>\n",
              "      <td>HITRECORD</td>\n",
              "      <td>medium.com</td>\n",
              "      <td>MorningRoutines Hitrecord Podcast Night</td>\n",
              "      <td>12500</td>\n",
              "      <td>https://medium.com/on-mornings/nocturnalmornin...</td>\n",
              "      <td>2</td>\n",
              "      <td>2018</td>\n",
              "      <td>2</td>\n",
              "      <td>17</td>\n",
              "      <td>4</td>\n",
              "    </tr>\n",
              "    <tr>\n",
              "      <th>1</th>\n",
              "      <td>Member previewMaria Bustillosis a journalist a...</td>\n",
              "      <td>2017-12-07 15:56:00.967</td>\n",
              "      <td>Blockchain is Memory</td>\n",
              "      <td>Maria Bustillos</td>\n",
              "      <td>medium.com</td>\n",
              "      <td>Blockchain Technology History Network WordsTha...</td>\n",
              "      <td>6703</td>\n",
              "      <td>https://medium.com/wordsthatmatter/never-break...</td>\n",
              "      <td>3</td>\n",
              "      <td>2017</td>\n",
              "      <td>12</td>\n",
              "      <td>15</td>\n",
              "      <td>5</td>\n",
              "    </tr>\n",
              "  </tbody>\n",
              "</table>\n",
              "</div>"
            ],
            "text/plain": [
              "                                             content                published  \\\n",
              "0  Member previewHITRECORDhitrecord.org is a new ...  2018-02-21 17:01:00.928   \n",
              "1  Member previewMaria Bustillosis a journalist a...  2017-12-07 15:56:00.967   \n",
              "\n",
              "                                               title           author  \\\n",
              "0  For Night Owls, the Day Starts with a Nocturna...        HITRECORD   \n",
              "1                               Blockchain is Memory  Maria Bustillos   \n",
              "\n",
              "       domain                                               tags  length  \\\n",
              "0  medium.com            MorningRoutines Hitrecord Podcast Night   12500   \n",
              "1  medium.com  Blockchain Technology History Network WordsTha...    6703   \n",
              "\n",
              "                                                 url  dow  year  month  hour  \\\n",
              "0  https://medium.com/on-mornings/nocturnalmornin...    2  2018      2    17   \n",
              "1  https://medium.com/wordsthatmatter/never-break...    3  2017     12    15   \n",
              "\n",
              "   number_of_tags  \n",
              "0               4  \n",
              "1               5  "
            ]
          },
          "metadata": {
            "tags": []
          },
          "execution_count": 25
        }
      ]
    },
    {
      "metadata": {
        "id": "XG_tLnwPKjGV",
        "colab_type": "code",
        "outputId": "432d167c-4e9e-40a2-e82c-aebab19dc4a7",
        "colab": {
          "base_uri": "https://localhost:8080/",
          "height": 69
        }
      },
      "cell_type": "code",
      "source": [
        "test.columns"
      ],
      "execution_count": 26,
      "outputs": [
        {
          "output_type": "execute_result",
          "data": {
            "text/plain": [
              "Index(['content', 'published', 'title', 'author', 'domain', 'tags', 'length',\n",
              "       'url', 'dow', 'year', 'month', 'hour', 'number_of_tags'],\n",
              "      dtype='object')"
            ]
          },
          "metadata": {
            "tags": []
          },
          "execution_count": 26
        }
      ]
    },
    {
      "metadata": {
        "id": "BPWkZ6sR6n4J",
        "colab_type": "code",
        "colab": {
          "base_uri": "https://localhost:8080/",
          "height": 121
        },
        "outputId": "3c9f11ae-396f-43f7-a61b-4cedb28e1902"
      },
      "cell_type": "code",
      "source": [
        "print(train['year'].nunique())\n",
        "print(train['domain'].nunique())\n",
        "print(train['hour'].nunique())\n",
        "print(train['month'].nunique())\n",
        "print(train['dow'].nunique())\n",
        "print(train['author'].nunique())"
      ],
      "execution_count": 27,
      "outputs": [
        {
          "output_type": "stream",
          "text": [
            "17\n",
            "221\n",
            "24\n",
            "12\n",
            "7\n",
            "31331\n"
          ],
          "name": "stdout"
        }
      ]
    },
    {
      "metadata": {
        "id": "o-ZNP7iS8jT6",
        "colab_type": "code",
        "colab": {}
      },
      "cell_type": "code",
      "source": [
        "# train = train[(train.year >= 2015) & (train['domain'] == 'medium.com')]\n",
        "# test = test[(test.year >= 2015) & (test['domain'] == 'medium.com')]"
      ],
      "execution_count": 0,
      "outputs": []
    },
    {
      "metadata": {
        "id": "Uum6KLPC8osk",
        "colab_type": "code",
        "colab": {
          "base_uri": "https://localhost:8080/",
          "height": 121
        },
        "outputId": "a14bf004-0df3-4258-8234-42f781f6674b"
      },
      "cell_type": "code",
      "source": [
        "print(train['year'].nunique())\n",
        "print(train['domain'].nunique())\n",
        "print(train['hour'].nunique())\n",
        "print(train['month'].nunique())\n",
        "print(train['dow'].nunique())\n",
        "print(train['author'].nunique())"
      ],
      "execution_count": 29,
      "outputs": [
        {
          "output_type": "stream",
          "text": [
            "17\n",
            "221\n",
            "24\n",
            "12\n",
            "7\n",
            "31331\n"
          ],
          "name": "stdout"
        }
      ]
    },
    {
      "metadata": {
        "id": "oXSeLOLPKltg",
        "colab_type": "code",
        "colab": {
          "base_uri": "https://localhost:8080/",
          "height": 243
        },
        "outputId": "aa554676-806e-4d4a-c0a3-8bcfbc3b04d9"
      },
      "cell_type": "code",
      "source": [
        "%%time\n",
        "\n",
        "idx_split = len(train)\n",
        "df_full = pd.concat([train, test])\n",
        "df_full['length'] = np.log1p(df_full['length'])\n",
        "print(df_full['length'].describe())\n",
        "\n",
        "bins = [5,7,9,11,14]\n",
        "\n",
        "group_names = ['is_short', 'is_medium', 'is_long', 'is_huge']\n",
        "df_full['content_length'] = pd.cut(df_full['length'], bins, labels=group_names)\n",
        "\n",
        "df_full['published'] = df_full[['published']].apply(pd.to_datetime)\n",
        "\n",
        "\n",
        "# Your code is here\n",
        "\n",
        "\n",
        "df_full['holiday']     = (df_full['published'].dt.dayofweek >= 5).astype(int) \n",
        "\n",
        "\n",
        "\n",
        "df_full['work_hours'] = df_full['published'].apply(lambda ts: 1 if (ts.date().weekday() in (0,1,2,3,4)) &\n",
        "                                             ((ts.hour>=8)&(ts.hour<=17)&(ts.hour!=12)) else 0)\n",
        "\n",
        "\n",
        "\n",
        "list_to_dums = [ 'dow', 'month', 'hour',  'year', 'number_of_tags','content_length']\n",
        "dummies = pd.get_dummies(df_full, columns = list_to_dums, drop_first=True,\n",
        "                            prefix=list_to_dums, sparse=False)\n",
        "\n",
        "X_train_feats = dummies.iloc[:idx_split, :]\n",
        "X_test_feats = dummies.iloc[idx_split:, :]\n",
        "\n",
        "print('TRAIN feats: {}'.format(X_train_feats.shape))\n",
        "print('TEST feats: {}'.format(X_test_feats.shape))\n",
        "del dummies, df_full\n",
        "gc.collect()"
      ],
      "execution_count": 30,
      "outputs": [
        {
          "output_type": "stream",
          "text": [
            "count    96958.000000\n",
            "mean         9.015384\n",
            "std          0.566949\n",
            "min          5.209486\n",
            "25%          8.691483\n",
            "50%          8.992806\n",
            "75%          9.322776\n",
            "max         13.311144\n",
            "Name: length, dtype: float64\n",
            "TRAIN feats: (62313, 77)\n",
            "TEST feats: (34645, 77)\n",
            "CPU times: user 1.1 s, sys: 19.7 ms, total: 1.11 s\n",
            "Wall time: 1.13 s\n"
          ],
          "name": "stdout"
        }
      ]
    },
    {
      "metadata": {
        "id": "MS1CerhyalB9",
        "colab_type": "code",
        "colab": {
          "base_uri": "https://localhost:8080/",
          "height": 295
        },
        "outputId": "40efa410-5630-43c6-9064-e2cdc08d59bb"
      },
      "cell_type": "code",
      "source": [
        "X_train_feats.columns"
      ],
      "execution_count": 31,
      "outputs": [
        {
          "output_type": "execute_result",
          "data": {
            "text/plain": [
              "Index(['author', 'content', 'domain', 'length', 'published', 'tags', 'target',\n",
              "       'title', 'url', 'holiday', 'work_hours', 'dow_1', 'dow_2', 'dow_3',\n",
              "       'dow_4', 'dow_5', 'dow_6', 'month_2', 'month_3', 'month_4', 'month_5',\n",
              "       'month_6', 'month_7', 'month_8', 'month_9', 'month_10', 'month_11',\n",
              "       'month_12', 'hour_1', 'hour_2', 'hour_3', 'hour_4', 'hour_5', 'hour_6',\n",
              "       'hour_7', 'hour_8', 'hour_9', 'hour_10', 'hour_11', 'hour_12',\n",
              "       'hour_13', 'hour_14', 'hour_15', 'hour_16', 'hour_17', 'hour_18',\n",
              "       'hour_19', 'hour_20', 'hour_21', 'hour_22', 'hour_23', 'year_1987',\n",
              "       'year_2003', 'year_2004', 'year_2005', 'year_2006', 'year_2007',\n",
              "       'year_2008', 'year_2009', 'year_2010', 'year_2011', 'year_2012',\n",
              "       'year_2013', 'year_2014', 'year_2015', 'year_2016', 'year_2017',\n",
              "       'year_2018', 'number_of_tags_1', 'number_of_tags_2', 'number_of_tags_3',\n",
              "       'number_of_tags_4', 'number_of_tags_5', 'number_of_tags_6',\n",
              "       'content_length_is_medium', 'content_length_is_long',\n",
              "       'content_length_is_huge'],\n",
              "      dtype='object')"
            ]
          },
          "metadata": {
            "tags": []
          },
          "execution_count": 31
        }
      ]
    },
    {
      "metadata": {
        "id": "yvZh8frC7FQk",
        "colab_type": "code",
        "colab": {
          "base_uri": "https://localhost:8080/",
          "height": 367
        },
        "outputId": "d96d484d-cdb7-4d69-a42c-d15f240ed53b"
      },
      "cell_type": "code",
      "source": [
        "X_train_feats.head(2)"
      ],
      "execution_count": 32,
      "outputs": [
        {
          "output_type": "execute_result",
          "data": {
            "text/html": [
              "<div>\n",
              "<style scoped>\n",
              "    .dataframe tbody tr th:only-of-type {\n",
              "        vertical-align: middle;\n",
              "    }\n",
              "\n",
              "    .dataframe tbody tr th {\n",
              "        vertical-align: top;\n",
              "    }\n",
              "\n",
              "    .dataframe thead th {\n",
              "        text-align: right;\n",
              "    }\n",
              "</style>\n",
              "<table border=\"1\" class=\"dataframe\">\n",
              "  <thead>\n",
              "    <tr style=\"text-align: right;\">\n",
              "      <th></th>\n",
              "      <th>author</th>\n",
              "      <th>content</th>\n",
              "      <th>domain</th>\n",
              "      <th>length</th>\n",
              "      <th>published</th>\n",
              "      <th>tags</th>\n",
              "      <th>target</th>\n",
              "      <th>title</th>\n",
              "      <th>url</th>\n",
              "      <th>holiday</th>\n",
              "      <th>...</th>\n",
              "      <th>year_2018</th>\n",
              "      <th>number_of_tags_1</th>\n",
              "      <th>number_of_tags_2</th>\n",
              "      <th>number_of_tags_3</th>\n",
              "      <th>number_of_tags_4</th>\n",
              "      <th>number_of_tags_5</th>\n",
              "      <th>number_of_tags_6</th>\n",
              "      <th>content_length_is_medium</th>\n",
              "      <th>content_length_is_long</th>\n",
              "      <th>content_length_is_huge</th>\n",
              "    </tr>\n",
              "  </thead>\n",
              "  <tbody>\n",
              "    <tr>\n",
              "      <th>0</th>\n",
              "      <td>Susan Bratton</td>\n",
              "      <td>Susan BrattonTrusted Hot Sex Advisor To Millio...</td>\n",
              "      <td>medium.com</td>\n",
              "      <td>8.607765</td>\n",
              "      <td>1970-01-01 00:00:00.001</td>\n",
              "      <td>Lovemaking Sex SexPositions EarlyBird SexEdVideos</td>\n",
              "      <td>1.09861</td>\n",
              "      <td>Saving Your Marriage By Watching Steamy Sex Ed...</td>\n",
              "      <td>http://personallifemedia.com/2017/01/saving-ma...</td>\n",
              "      <td>0</td>\n",
              "      <td>...</td>\n",
              "      <td>0</td>\n",
              "      <td>0</td>\n",
              "      <td>0</td>\n",
              "      <td>0</td>\n",
              "      <td>0</td>\n",
              "      <td>1</td>\n",
              "      <td>0</td>\n",
              "      <td>1</td>\n",
              "      <td>0</td>\n",
              "      <td>0</td>\n",
              "    </tr>\n",
              "    <tr>\n",
              "      <th>1</th>\n",
              "      <td>Ryo Ooishi</td>\n",
              "      <td>Ryo OoishiDec 31, 1969やってよかった中学受験明日から息子の中学受験がは...</td>\n",
              "      <td>medium.com</td>\n",
              "      <td>8.580356</td>\n",
              "      <td>1970-01-01 00:00:00.001</td>\n",
              "      <td>NaN</td>\n",
              "      <td>2.56495</td>\n",
              "      <td>やってよかった中学受験</td>\n",
              "      <td>https://medium.com/@ooishi/%E3%82%84%E3%81%A3%...</td>\n",
              "      <td>0</td>\n",
              "      <td>...</td>\n",
              "      <td>0</td>\n",
              "      <td>0</td>\n",
              "      <td>0</td>\n",
              "      <td>0</td>\n",
              "      <td>0</td>\n",
              "      <td>0</td>\n",
              "      <td>0</td>\n",
              "      <td>1</td>\n",
              "      <td>0</td>\n",
              "      <td>0</td>\n",
              "    </tr>\n",
              "  </tbody>\n",
              "</table>\n",
              "<p>2 rows × 77 columns</p>\n",
              "</div>"
            ],
            "text/plain": [
              "          author                                            content  \\\n",
              "0  Susan Bratton  Susan BrattonTrusted Hot Sex Advisor To Millio...   \n",
              "1     Ryo Ooishi  Ryo OoishiDec 31, 1969やってよかった中学受験明日から息子の中学受験がは...   \n",
              "\n",
              "       domain    length               published  \\\n",
              "0  medium.com  8.607765 1970-01-01 00:00:00.001   \n",
              "1  medium.com  8.580356 1970-01-01 00:00:00.001   \n",
              "\n",
              "                                                tags   target  \\\n",
              "0  Lovemaking Sex SexPositions EarlyBird SexEdVideos  1.09861   \n",
              "1                                                NaN  2.56495   \n",
              "\n",
              "                                               title  \\\n",
              "0  Saving Your Marriage By Watching Steamy Sex Ed...   \n",
              "1                                        やってよかった中学受験   \n",
              "\n",
              "                                                 url  holiday  \\\n",
              "0  http://personallifemedia.com/2017/01/saving-ma...        0   \n",
              "1  https://medium.com/@ooishi/%E3%82%84%E3%81%A3%...        0   \n",
              "\n",
              "            ...            year_2018  number_of_tags_1  number_of_tags_2  \\\n",
              "0           ...                    0                 0                 0   \n",
              "1           ...                    0                 0                 0   \n",
              "\n",
              "   number_of_tags_3  number_of_tags_4  number_of_tags_5  number_of_tags_6  \\\n",
              "0                 0                 0                 1                 0   \n",
              "1                 0                 0                 0                 0   \n",
              "\n",
              "   content_length_is_medium  content_length_is_long  content_length_is_huge  \n",
              "0                         1                       0                       0  \n",
              "1                         1                       0                       0  \n",
              "\n",
              "[2 rows x 77 columns]"
            ]
          },
          "metadata": {
            "tags": []
          },
          "execution_count": 32
        }
      ]
    },
    {
      "metadata": {
        "id": "9-LUKuac9wdQ",
        "colab_type": "code",
        "colab": {}
      },
      "cell_type": "code",
      "source": [
        "class StemmingLemmatizingTokenizer(object):\n",
        "    \n",
        "    def __init__(self, stemmer=PorterStemmer, lemmatizer=WordNetLemmatizer):\n",
        "        self.stemmer = stemmer()\n",
        "        self.lemmatizer = lemmatizer()\n",
        "        \n",
        "    def __call__(self, doc):\n",
        "        # strings of punctuation signs and digits\n",
        "        from string import punctuation, digits\n",
        "        # some other unicode chars i found in the content\n",
        "        other_unicode_chars = '’’”“\\u200b'\n",
        "        chars_to_remove = ''.join((punctuation,\n",
        "                                   digits,\n",
        "                                   other_unicode_chars))\n",
        "        # getting rid of punctuation signs and digits\n",
        "        transtab = str.maketrans(chars_to_remove, ' '*len(chars_to_remove))\n",
        "        # goiinf through all tokens with 3 or more chars\n",
        "        # lemmatizing the verbs first, then stemming all words\n",
        "        return [self.stemmer.stem(self.lemmatizer.lemmatize(token, pos='v')) \n",
        "                for token in word_tokenize(doc.translate(transtab)) \n",
        "                if len(token) >= 3]"
      ],
      "execution_count": 0,
      "outputs": []
    },
    {
      "metadata": {
        "id": "Q-_jq3MQ930E",
        "colab_type": "code",
        "colab": {}
      },
      "cell_type": "code",
      "source": [
        "from sklearn.feature_extraction import text \n",
        "stop_words = text.ENGLISH_STOP_WORDS\n",
        "temp = []\n",
        "s = StemmingLemmatizingTokenizer()\n",
        "for eggs in stop_words:\n",
        "    token = s(eggs)\n",
        "    if token:\n",
        "        temp += token\n",
        "stop_words = temp"
      ],
      "execution_count": 0,
      "outputs": []
    },
    {
      "metadata": {
        "id": "F7AR1K0t9qNH",
        "colab_type": "code",
        "colab": {}
      },
      "cell_type": "code",
      "source": [
        "author_vectorizer = CountVectorizer()\n",
        "counts_scaler = StandardScaler()\n",
        "content_vectorizer = TfidfVectorizer(ngram_range=(1, 2),\n",
        "                                     tokenizer=StemmingLemmatizingTokenizer(),\n",
        "                                     stop_words=stop_words,\n",
        "                                     max_features=20000)\n",
        "title_vectorizer = TfidfVectorizer(ngram_range=(2, 3), \n",
        "                                   tokenizer=StemmingLemmatizingTokenizer(),\n",
        "                                   stop_words=stop_words,\n",
        "                                   max_features=20000)"
      ],
      "execution_count": 0,
      "outputs": []
    },
    {
      "metadata": {
        "id": "mSCkfYOH-ATQ",
        "colab_type": "code",
        "colab": {
          "base_uri": "https://localhost:8080/",
          "height": 52
        },
        "outputId": "5cf8a846-5422-4fcd-c207-4a3e48372cbf"
      },
      "cell_type": "code",
      "source": [
        "%%time\n",
        "author_sparse = author_vectorizer.fit_transform(X_train_feats['author'])"
      ],
      "execution_count": 36,
      "outputs": [
        {
          "output_type": "stream",
          "text": [
            "CPU times: user 343 ms, sys: 11 ms, total: 354 ms\n",
            "Wall time: 355 ms\n"
          ],
          "name": "stdout"
        }
      ]
    },
    {
      "metadata": {
        "id": "zxePBIoMNIov",
        "colab_type": "code",
        "colab": {}
      },
      "cell_type": "code",
      "source": [
        "# %%time\n",
        "# content_sparse = content_vectorizer.fit_transform(X_train_feats['content'])"
      ],
      "execution_count": 0,
      "outputs": []
    },
    {
      "metadata": {
        "id": "rzFMHGuAA48q",
        "colab_type": "code",
        "colab": {}
      },
      "cell_type": "code",
      "source": [
        "def get_title_features(titles):\n",
        "    titles_lengths = np.array([len(title.split()) for title in titles])\n",
        "    is_short = (titles_lengths<6).astype('int')\n",
        "    is_medium = ((titles_lengths>=6) & (titles_lengths<11)).astype('int')\n",
        "    is_long = ((titles_lengths>=11) & (titles_lengths<20)).astype('int')\n",
        "    is_huge = (titles_lengths>=20).astype('int')\n",
        "    \n",
        "    length_types = np.hstack([is_short.reshape(-1, 1),\n",
        "                              is_medium.reshape(-1, 1),\n",
        "                              is_long.reshape(-1, 1),\n",
        "                              is_huge.reshape(-1, 1) ])\n",
        "    return length_types"
      ],
      "execution_count": 0,
      "outputs": []
    },
    {
      "metadata": {
        "id": "zjSZou3I_O_4",
        "colab_type": "code",
        "colab": {
          "base_uri": "https://localhost:8080/",
          "height": 52
        },
        "outputId": "3238c04f-ce71-4adb-bb83-8b931709d71f"
      },
      "cell_type": "code",
      "source": [
        "%%time\n",
        "\n",
        "title_length_types = get_title_features(X_train_feats['title'])"
      ],
      "execution_count": 39,
      "outputs": [
        {
          "output_type": "stream",
          "text": [
            "CPU times: user 51.3 ms, sys: 1.6 ms, total: 52.9 ms\n",
            "Wall time: 53.6 ms\n"
          ],
          "name": "stdout"
        }
      ]
    },
    {
      "metadata": {
        "id": "n9LFPuqeBjSA",
        "colab_type": "code",
        "colab": {
          "base_uri": "https://localhost:8080/",
          "height": 52
        },
        "outputId": "5b9e04c0-bf62-4359-e155-6535cd2fee18"
      },
      "cell_type": "code",
      "source": [
        "%%time\n",
        "title_sparse = title_vectorizer.fit_transform(X_train_feats['title'])"
      ],
      "execution_count": 40,
      "outputs": [
        {
          "output_type": "stream",
          "text": [
            "CPU times: user 25.2 s, sys: 50.9 ms, total: 25.3 s\n",
            "Wall time: 25.3 s\n"
          ],
          "name": "stdout"
        }
      ]
    },
    {
      "metadata": {
        "id": "K6j0uouzWsgu",
        "colab_type": "code",
        "colab": {
          "base_uri": "https://localhost:8080/",
          "height": 173
        },
        "outputId": "772f8587-bb7d-4e2d-865f-b7a3db2cf742"
      },
      "cell_type": "code",
      "source": [
        "X_train_feats['length'].describe()"
      ],
      "execution_count": 41,
      "outputs": [
        {
          "output_type": "execute_result",
          "data": {
            "text/plain": [
              "count    62313.000000\n",
              "mean         9.026759\n",
              "std          0.574208\n",
              "min          5.327876\n",
              "25%          8.699681\n",
              "50%          9.001839\n",
              "75%          9.337413\n",
              "max         12.955773\n",
              "Name: length, dtype: float64"
            ]
          },
          "metadata": {
            "tags": []
          },
          "execution_count": 41
        }
      ]
    },
    {
      "metadata": {
        "id": "ZXsawgAGyG-b",
        "colab_type": "code",
        "colab": {
          "base_uri": "https://localhost:8080/",
          "height": 52
        },
        "outputId": "d39cf82a-0f66-4b35-fdba-0a41dbde6042"
      },
      "cell_type": "code",
      "source": [
        "%%time\n",
        "content_sparse = content_vectorizer.fit_transform(X_train_feats['content'])"
      ],
      "execution_count": 42,
      "outputs": [
        {
          "output_type": "stream",
          "text": [
            "CPU times: user 56min 52s, sys: 9.53 s, total: 57min 1s\n",
            "Wall time: 57min 4s\n"
          ],
          "name": "stdout"
        }
      ]
    },
    {
      "metadata": {
        "id": "x3YDRY09CSYQ",
        "colab_type": "code",
        "colab": {}
      },
      "cell_type": "code",
      "source": [
        "train_target = X_train_feats['target'].values\n",
        "\n",
        "\n",
        "X_train_feats.drop(['author','content', 'title','domain', 'tags', 'published', 'url','length', 'target'], axis=1, inplace=True)\n"
      ],
      "execution_count": 0,
      "outputs": []
    },
    {
      "metadata": {
        "id": "PkMZcEusDakP",
        "colab_type": "code",
        "colab": {
          "base_uri": "https://localhost:8080/",
          "height": 277
        },
        "outputId": "54636d2d-c077-43b4-9f78-471b08b13dec"
      },
      "cell_type": "code",
      "source": [
        "X_train_feats.columns"
      ],
      "execution_count": 44,
      "outputs": [
        {
          "output_type": "execute_result",
          "data": {
            "text/plain": [
              "Index(['holiday', 'work_hours', 'dow_1', 'dow_2', 'dow_3', 'dow_4', 'dow_5',\n",
              "       'dow_6', 'month_2', 'month_3', 'month_4', 'month_5', 'month_6',\n",
              "       'month_7', 'month_8', 'month_9', 'month_10', 'month_11', 'month_12',\n",
              "       'hour_1', 'hour_2', 'hour_3', 'hour_4', 'hour_5', 'hour_6', 'hour_7',\n",
              "       'hour_8', 'hour_9', 'hour_10', 'hour_11', 'hour_12', 'hour_13',\n",
              "       'hour_14', 'hour_15', 'hour_16', 'hour_17', 'hour_18', 'hour_19',\n",
              "       'hour_20', 'hour_21', 'hour_22', 'hour_23', 'year_1987', 'year_2003',\n",
              "       'year_2004', 'year_2005', 'year_2006', 'year_2007', 'year_2008',\n",
              "       'year_2009', 'year_2010', 'year_2011', 'year_2012', 'year_2013',\n",
              "       'year_2014', 'year_2015', 'year_2016', 'year_2017', 'year_2018',\n",
              "       'number_of_tags_1', 'number_of_tags_2', 'number_of_tags_3',\n",
              "       'number_of_tags_4', 'number_of_tags_5', 'number_of_tags_6',\n",
              "       'content_length_is_medium', 'content_length_is_long',\n",
              "       'content_length_is_huge'],\n",
              "      dtype='object')"
            ]
          },
          "metadata": {
            "tags": []
          },
          "execution_count": 44
        }
      ]
    },
    {
      "metadata": {
        "id": "bQVewpkdFWGr",
        "colab_type": "code",
        "colab": {
          "base_uri": "https://localhost:8080/",
          "height": 159
        },
        "outputId": "fe5cab7e-949f-4f71-abbc-349045eb8e57"
      },
      "cell_type": "code",
      "source": [
        "X_train_feats.head(2)"
      ],
      "execution_count": 45,
      "outputs": [
        {
          "output_type": "execute_result",
          "data": {
            "text/html": [
              "<div>\n",
              "<style scoped>\n",
              "    .dataframe tbody tr th:only-of-type {\n",
              "        vertical-align: middle;\n",
              "    }\n",
              "\n",
              "    .dataframe tbody tr th {\n",
              "        vertical-align: top;\n",
              "    }\n",
              "\n",
              "    .dataframe thead th {\n",
              "        text-align: right;\n",
              "    }\n",
              "</style>\n",
              "<table border=\"1\" class=\"dataframe\">\n",
              "  <thead>\n",
              "    <tr style=\"text-align: right;\">\n",
              "      <th></th>\n",
              "      <th>holiday</th>\n",
              "      <th>work_hours</th>\n",
              "      <th>dow_1</th>\n",
              "      <th>dow_2</th>\n",
              "      <th>dow_3</th>\n",
              "      <th>dow_4</th>\n",
              "      <th>dow_5</th>\n",
              "      <th>dow_6</th>\n",
              "      <th>month_2</th>\n",
              "      <th>month_3</th>\n",
              "      <th>...</th>\n",
              "      <th>year_2018</th>\n",
              "      <th>number_of_tags_1</th>\n",
              "      <th>number_of_tags_2</th>\n",
              "      <th>number_of_tags_3</th>\n",
              "      <th>number_of_tags_4</th>\n",
              "      <th>number_of_tags_5</th>\n",
              "      <th>number_of_tags_6</th>\n",
              "      <th>content_length_is_medium</th>\n",
              "      <th>content_length_is_long</th>\n",
              "      <th>content_length_is_huge</th>\n",
              "    </tr>\n",
              "  </thead>\n",
              "  <tbody>\n",
              "    <tr>\n",
              "      <th>0</th>\n",
              "      <td>0</td>\n",
              "      <td>0</td>\n",
              "      <td>0</td>\n",
              "      <td>0</td>\n",
              "      <td>1</td>\n",
              "      <td>0</td>\n",
              "      <td>0</td>\n",
              "      <td>0</td>\n",
              "      <td>0</td>\n",
              "      <td>0</td>\n",
              "      <td>...</td>\n",
              "      <td>0</td>\n",
              "      <td>0</td>\n",
              "      <td>0</td>\n",
              "      <td>0</td>\n",
              "      <td>0</td>\n",
              "      <td>1</td>\n",
              "      <td>0</td>\n",
              "      <td>1</td>\n",
              "      <td>0</td>\n",
              "      <td>0</td>\n",
              "    </tr>\n",
              "    <tr>\n",
              "      <th>1</th>\n",
              "      <td>0</td>\n",
              "      <td>0</td>\n",
              "      <td>0</td>\n",
              "      <td>0</td>\n",
              "      <td>1</td>\n",
              "      <td>0</td>\n",
              "      <td>0</td>\n",
              "      <td>0</td>\n",
              "      <td>0</td>\n",
              "      <td>0</td>\n",
              "      <td>...</td>\n",
              "      <td>0</td>\n",
              "      <td>0</td>\n",
              "      <td>0</td>\n",
              "      <td>0</td>\n",
              "      <td>0</td>\n",
              "      <td>0</td>\n",
              "      <td>0</td>\n",
              "      <td>1</td>\n",
              "      <td>0</td>\n",
              "      <td>0</td>\n",
              "    </tr>\n",
              "  </tbody>\n",
              "</table>\n",
              "<p>2 rows × 68 columns</p>\n",
              "</div>"
            ],
            "text/plain": [
              "   holiday  work_hours  dow_1  dow_2  dow_3  dow_4  dow_5  dow_6  month_2  \\\n",
              "0        0           0      0      0      1      0      0      0        0   \n",
              "1        0           0      0      0      1      0      0      0        0   \n",
              "\n",
              "   month_3           ...            year_2018  number_of_tags_1  \\\n",
              "0        0           ...                    0                 0   \n",
              "1        0           ...                    0                 0   \n",
              "\n",
              "   number_of_tags_2  number_of_tags_3  number_of_tags_4  number_of_tags_5  \\\n",
              "0                 0                 0                 0                 1   \n",
              "1                 0                 0                 0                 0   \n",
              "\n",
              "   number_of_tags_6  content_length_is_medium  content_length_is_long  \\\n",
              "0                 0                         1                       0   \n",
              "1                 0                         1                       0   \n",
              "\n",
              "   content_length_is_huge  \n",
              "0                       0  \n",
              "1                       0  \n",
              "\n",
              "[2 rows x 68 columns]"
            ]
          },
          "metadata": {
            "tags": []
          },
          "execution_count": 45
        }
      ]
    },
    {
      "metadata": {
        "id": "mZtWHz7eA3bQ",
        "colab_type": "code",
        "colab": {}
      },
      "cell_type": "code",
      "source": [
        "# tmp_scaled = StandardScaler().fit_transform(X_train_feats[[ 'dow', 'month', 'hour',  'year', 'number_of_tags','content_length', 'holiday', 'work_hours']])\n",
        "\n",
        "train_data = hstack([X_train_feats,\n",
        "                     title_sparse,\n",
        "                     title_length_types,                     \n",
        "                     author_sparse\n",
        "                     ]).tocsr()"
      ],
      "execution_count": 0,
      "outputs": []
    },
    {
      "metadata": {
        "id": "dhLtU6ePQ13j",
        "colab_type": "code",
        "colab": {
          "base_uri": "https://localhost:8080/",
          "height": 335
        },
        "outputId": "08900028-b00b-44bc-802b-798da3a0aff2"
      },
      "cell_type": "code",
      "source": [
        "%%time\n",
        "ridge = Ridge()\n",
        "X_train, X_test, y_train, y_test = train_test_split(train_data, train_target, random_state=17)\n",
        "ridge.fit(X_train, y_train);\n",
        "ridge_pred = ridge.predict(X_test)\n",
        "plt.hist(y_test, bins=30, alpha=.5, color='red',\n",
        "         label='true values', range=(0,10));\n",
        "plt.hist(ridge_pred, bins=30, alpha=.5, color='green',\n",
        "         label='predicted values', range=(0,10));\n",
        "plt.legend();\n",
        "valid_mae = mean_absolute_error(y_test, ridge_pred)\n",
        "print(valid_mae, np.expm1(valid_mae))\n",
        "\n",
        "# 1.593240573415355 3.919665662483231\n",
        "# 1.1878605076859372 2.2800560402295527\n",
        "# 1.187723240593236 2.2796058273734254"
      ],
      "execution_count": 47,
      "outputs": [
        {
          "output_type": "stream",
          "text": [
            "1.2150358628689335 2.3704149349032733\n",
            "CPU times: user 1.34 s, sys: 1.02 ms, total: 1.34 s\n",
            "Wall time: 1.35 s\n"
          ],
          "name": "stdout"
        },
        {
          "output_type": "display_data",
          "data": {
            "image/png": "[encoded data removed]",
            "text/plain": [
              "<Figure size 460.8x316.8 with 1 Axes>"
            ]
          },
          "metadata": {
            "tags": []
          }
        }
      ]
    },
    {
      "metadata": {
        "id": "Woo3K2-3sr0r",
        "colab_type": "code",
        "colab": {
          "base_uri": "https://localhost:8080/",
          "height": 52
        },
        "outputId": "63caf086-6d48-45b9-aa5f-6889ddd42b23"
      },
      "cell_type": "code",
      "source": [
        "train_data"
      ],
      "execution_count": 48,
      "outputs": [
        {
          "output_type": "execute_result",
          "data": {
            "text/plain": [
              "<62313x49854 sparse matrix of type '<class 'numpy.float64'>'\n",
              "\twith 637575 stored elements in Compressed Sparse Row format>"
            ]
          },
          "metadata": {
            "tags": []
          },
          "execution_count": 48
        }
      ]
    },
    {
      "metadata": {
        "id": "UTXjikS5tjQ2",
        "colab_type": "code",
        "colab": {
          "base_uri": "https://localhost:8080/",
          "height": 35
        },
        "outputId": "1a2f81b6-acaf-4f6e-81cf-587fc2ce31f0"
      },
      "cell_type": "code",
      "source": [
        "X_train_feats.shape"
      ],
      "execution_count": 49,
      "outputs": [
        {
          "output_type": "execute_result",
          "data": {
            "text/plain": [
              "(62313, 68)"
            ]
          },
          "metadata": {
            "tags": []
          },
          "execution_count": 49
        }
      ]
    },
    {
      "metadata": {
        "id": "DB1nQWLwtgRx",
        "colab_type": "code",
        "colab": {
          "base_uri": "https://localhost:8080/",
          "height": 35
        },
        "outputId": "8497a9cb-b0d2-47c8-8427-6091a4168ad0"
      },
      "cell_type": "code",
      "source": [
        "X_test_feats.shape"
      ],
      "execution_count": 50,
      "outputs": [
        {
          "output_type": "execute_result",
          "data": {
            "text/plain": [
              "(34645, 77)"
            ]
          },
          "metadata": {
            "tags": []
          },
          "execution_count": 50
        }
      ]
    },
    {
      "metadata": {
        "id": "lkZIOwUfeMrr",
        "colab_type": "text"
      },
      "cell_type": "markdown",
      "source": [
        "#### Test dataset prep"
      ]
    },
    {
      "metadata": {
        "id": "xwmvITBqRGLx",
        "colab_type": "code",
        "colab": {
          "base_uri": "https://localhost:8080/",
          "height": 52
        },
        "outputId": "24988bd2-64ad-40fc-bcf0-d8b346e71495"
      },
      "cell_type": "code",
      "source": [
        "%%time\n",
        "author_sparse = author_vectorizer.transform(X_test_feats['author'])\n",
        "\n",
        "\n",
        "title_length_types = get_title_features(X_test_feats['title'])\n",
        "\n",
        "title_sparse = title_vectorizer.transform(X_test_feats['title'])\n",
        "\n",
        "X_test_feats.drop(['author','content', 'title','domain', 'tags', 'published', 'url','length','target'], axis=1, inplace=True)\n",
        "\n",
        "test_data = hstack([X_test_feats,\n",
        "                     title_sparse,\n",
        "                     title_length_types,                     \n",
        "                     author_sparse\n",
        "                     ]).tocsr()"
      ],
      "execution_count": 51,
      "outputs": [
        {
          "output_type": "stream",
          "text": [
            "CPU times: user 15.7 s, sys: 13 ms, total: 15.7 s\n",
            "Wall time: 15.7 s\n"
          ],
          "name": "stdout"
        }
      ]
    },
    {
      "metadata": {
        "id": "KiCrJclkr9XZ",
        "colab_type": "code",
        "colab": {
          "base_uri": "https://localhost:8080/",
          "height": 52
        },
        "outputId": "a4b326b2-63c7-41a5-deaf-645837c76278"
      },
      "cell_type": "code",
      "source": [
        "test_data"
      ],
      "execution_count": 52,
      "outputs": [
        {
          "output_type": "execute_result",
          "data": {
            "text/plain": [
              "<34645x49854 sparse matrix of type '<class 'numpy.float64'>'\n",
              "\twith 323668 stored elements in Compressed Sparse Row format>"
            ]
          },
          "metadata": {
            "tags": []
          },
          "execution_count": 52
        }
      ]
    },
    {
      "metadata": {
        "id": "LCwIlmlqrgIy",
        "colab_type": "code",
        "colab": {}
      },
      "cell_type": "code",
      "source": [
        "ridge_test_pred = ridge.predict(test_data)"
      ],
      "execution_count": 0,
      "outputs": []
    },
    {
      "metadata": {
        "id": "k4rKqhLnv7e5",
        "colab_type": "code",
        "colab": {
          "base_uri": "https://localhost:8080/",
          "height": 35
        },
        "outputId": "13ef58c9-d947-4664-aac6-6eda238f09c2"
      },
      "cell_type": "code",
      "source": [
        "ridge_test_pred.shape"
      ],
      "execution_count": 54,
      "outputs": [
        {
          "output_type": "execute_result",
          "data": {
            "text/plain": [
              "(34645,)"
            ]
          },
          "metadata": {
            "tags": []
          },
          "execution_count": 54
        }
      ]
    },
    {
      "metadata": {
        "id": "7GORNXsnv3no",
        "colab_type": "code",
        "colab": {
          "base_uri": "https://localhost:8080/",
          "height": 166
        },
        "outputId": "1e78be92-dba0-4b15-fe1a-602eebe7baa9"
      },
      "cell_type": "code",
      "source": [
        "submission.shape"
      ],
      "execution_count": 55,
      "outputs": [
        {
          "output_type": "error",
          "ename": "NameError",
          "evalue": "ignored",
          "traceback": [
            "\u001b[0;31m---------------------------------------------------------------------------\u001b[0m",
            "\u001b[0;31mNameError\u001b[0m                                 Traceback (most recent call last)",
            "\u001b[0;32m<ipython-input-55-fb1b60f3db62>\u001b[0m in \u001b[0;36m<module>\u001b[0;34m()\u001b[0m\n\u001b[0;32m----> 1\u001b[0;31m \u001b[0msubmission\u001b[0m\u001b[0;34m.\u001b[0m\u001b[0mshape\u001b[0m\u001b[0;34m\u001b[0m\u001b[0;34m\u001b[0m\u001b[0m\n\u001b[0m",
            "\u001b[0;31mNameError\u001b[0m: name 'submission' is not defined"
          ]
        }
      ]
    },
    {
      "metadata": {
        "id": "Zt_kO208r6WJ",
        "colab_type": "code",
        "colab": {}
      },
      "cell_type": "code",
      "source": [
        "submission = pd.read_csv('sample_submission.csv', index_col='id')\n",
        "\n",
        "submission['log_recommends'] = ridge_test_pred\n",
        "submission.to_csv('submission.csv')"
      ],
      "execution_count": 0,
      "outputs": []
    }
  ]
}