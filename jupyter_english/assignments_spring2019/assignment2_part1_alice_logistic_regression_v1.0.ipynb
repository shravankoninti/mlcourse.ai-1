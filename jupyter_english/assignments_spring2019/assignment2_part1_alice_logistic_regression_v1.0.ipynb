{
  "nbformat": 4,
  "nbformat_minor": 0,
  "metadata": {
    "colab": {
      "name": "assignment2_part1_alice_logistic_regression.ipynb",
      "version": "0.3.2",
      "provenance": [],
      "toc_visible": true
    },
    "kernelspec": {
      "display_name": "Python 3",
      "language": "python",
      "name": "python3"
    }
  },
  "cells": [
    {
      "metadata": {
        "id": "31GmmAV2UWuu",
        "colab_type": "text"
      },
      "cell_type": "markdown",
      "source": [
        "<center>\n",
        "<img src=\"https://github.com/shravankoninti/mlcourse.ai-1/blob/master/img/ods_stickers.jpg?raw=1\" />\n",
        "    \n",
        "## [mlcourse.ai](https://mlcourse.ai) – Open Machine Learning Course \n",
        "Authors: [Yury Kashnitskiy](https://yorko.github.io) (@yorko), Yury Isakov. Edited by Anna Tarelina (@feuerengel), and Kolchenko Sergey (@KolchenkoSergey). This material is subject to the terms and conditions of the [Creative Commons CC BY-NC-SA 4.0](https://creativecommons.org/licenses/by-nc-sa/4.0/) license. Free use is permitted for any non-commercial purpose."
      ]
    },
    {
      "metadata": {
        "id": "aeTjl2IsUWux",
        "colab_type": "text"
      },
      "cell_type": "markdown",
      "source": [
        "# <center> Assignment #2. Spring 2019\n",
        "## <center>  Competition 1. User Identification with Logistic Regression <br>(beating baselines in the \"Alice\" competition)\n",
        "\n",
        "    \n",
        "Today we are going to practice working with sparse matrices, training Logistic Regression models, and doing feature engineering. We will reproduce a couple of baselines in the  Kaggle Inclass competition [\"Catch Me If You Can: Intruder Detection through Webpage Session Tracking\"](https://www.kaggle.com/c/catch-me-if-you-can-intruder-detection-through-webpage-session-tracking2) (a.k.a. \"Alice\"). More credits will be given for beating stronger baselines. \n",
        "\n",
        "Prior to working on the assignment, you'd better check out the corresponding course material:\n",
        " 1. [Classification, Decision Trees and k Nearest Neighbors](https://nbviewer.jupyter.org/github/Yorko/mlcourse_open/blob/master/jupyter_english/topic03_decision_trees_kNN/topic3_decision_trees_kNN.ipynb?flush_cache=true), the same as an interactive web-based [Kaggle Kernel](https://www.kaggle.com/kashnitsky/topic-3-decision-trees-and-knn) (basics of machine learning are covered here)\n",
        " 2. Linear classification and regression in 5 parts: \n",
        "    - [ordinary least squares](https://www.kaggle.com/kashnitsky/topic-4-linear-models-part-1-ols)\n",
        "    - [linear classification](https://www.kaggle.com/kashnitsky/topic-4-linear-models-part-2-classification)\n",
        "    - [regularization](https://www.kaggle.com/kashnitsky/topic-4-linear-models-part-3-regularization)\n",
        "    - [logistic regression: pros and cons](https://www.kaggle.com/kashnitsky/topic-4-linear-models-part-4-more-of-logit)\n",
        "    - [validation](https://www.kaggle.com/kashnitsky/topic-4-linear-models-part-5-validation)\n",
        " 3. You can also practice with demo assignments, which are simpler and already shared with solutions: \n",
        "    - \" Sarcasm detection with logistic regression\": [assignment](https://www.kaggle.com/kashnitsky/a4-demo-sarcasm-detection-with-logit) + [solution](https://www.kaggle.com/kashnitsky/a4-demo-sarcasm-detection-with-logit-solution)\n",
        "    - \"Linear regression as optimization\": [assignment](https://www.kaggle.com/kashnitsky/a4-demo-linear-regression-as-optimization/edit) (solution cannot be officially shared)\n",
        "    - \"Exploring OLS, Lasso and Random Forest in a regression task\": [assignment](https://www.kaggle.com/kashnitsky/a6-demo-linear-models-and-rf-for-regression) + [solution](https://www.kaggle.com/kashnitsky/a6-demo-regression-solution)\n",
        " 4. Alice baseline with logistic regression and \"bag of sites\", [Kernel](https://www.kaggle.com/kashnitsky/alice-logistic-regression-baseline)\n",
        " 5. Correct time-aware cross-validation scheme, more features, and hyperparameter optimization, [Kernel](https://www.kaggle.com/kashnitsky/correct-time-aware-cross-validation-scheme)\n",
        " 6. Other [Kernels](https://www.kaggle.com/c/catch-me-if-you-can-intruder-detection-through-webpage-session-tracking2/kernels?sortBy=voteCount&group=everyone&pageSize=20&competitionId=7173) in this competition. You can share yours as well, but not high-performing ones (Public LB MAE shall be < 0.95). Please don't spoil the competitive spirit. \n",
        " 7. If that's still not enough, watch two videos on logistic regression: [mlcourse.ai/video](https://mlcourse.ai/video)\n",
        "\n",
        "**Your task:**\n",
        " 1. \"Follow me\". Complete the missing code and submit your answers via [the google form](https://docs.google.com/forms/d/15PVw9CYlX6QnxRHKIDS161kGAq3v7iiO15W3qKTePEY). Use **the same email** as in A1 (for newcomers: remember your email and use it for all forms during the course). 12 credits max. for this part\n",
        " 2. \"Freeride\". Come up with good features to beat the baselines \"A2 baseline (10 credits)\" (**0.95640** Public LB ROC-AUC, press \"Load more\" in the bottom of the [Leaderboard](https://www.kaggle.com/c/catch-me-if-you-can-intruder-detection-through-webpage-session-tracking2/leaderboard) to actually see it) and \"A2 strong baseline (20 credits)\" (**0.95965** Public LB ROC-AUC). As names suggest, you'll get 10 more credits for beating the first one, and 10 more (20 in total) for beating the second one. You need to name your [team](https://www.kaggle.com/c/catch-me-if-you-can-intruder-detection-through-webpage-session-tracking2/team) (out of 1 person) in full accordance with the [course rating](https://docs.google.com/spreadsheets/d/1LAy1eK8vIONzIWgcCEaVmhKPSj579zK5lrECf_tQT60/edit?usp=sharing) (for newcomers: you need to name your team with your real full name). You can think of it as a part of the assignment.\n",
        " 3. If you've beaten \"A2 baseline (10 credits)\" or performed better, you need to upload your solution as described in [course roadmap](https://mlcourse.ai/roadmap) (\"Kaggle Inclass Competition Alice\" -> Rules). For all baselines that you see on Public Leaderboard, it's OK to beat them on Public LB as well. But 10 winners will be defined according to the private LB, which will be revealed by @yorko on March 11. \n",
        " \n",
        "### <center> Deadline for A2: 2019 March 10, 20:59 GMT (London time)"
      ]
    },
    {
      "metadata": {
        "id": "Ye9ctwFJUWu0",
        "colab_type": "text"
      },
      "cell_type": "markdown",
      "source": [
        "# Part 1. Follow me"
      ]
    },
    {
      "metadata": {
        "id": "EDeYsHHHUWu4",
        "colab_type": "text"
      },
      "cell_type": "markdown",
      "source": [
        "<img src='https://github.com/shravankoninti/mlcourse.ai-1/blob/master/img/followme_alice.png?raw=1' width=50%>\n",
        "\n",
        "*image credit [@muradosmann](https://www.instagram.com/muradosmann/?hl=en)*"
      ]
    },
    {
      "metadata": {
        "id": "1kblukqNUWu5",
        "colab_type": "code",
        "colab": {}
      },
      "cell_type": "code",
      "source": [
        "# Import libraries and set desired options\n",
        "import pickle\n",
        "import numpy as np\n",
        "import pandas as pd\n",
        "from scipy.sparse import csr_matrix, hstack\n",
        "from sklearn.preprocessing import StandardScaler\n",
        "from sklearn.metrics import roc_auc_score\n",
        "from sklearn.linear_model import LogisticRegression\n",
        "from matplotlib import pyplot as plt\n",
        "import seaborn as sns\n",
        "from sklearn.feature_extraction.text import TfidfVectorizer, TfidfTransformer\n",
        "from sklearn.model_selection import cross_val_score, StratifiedKFold, GridSearchCV, train_test_split, TimeSeriesSplit\n",
        "sns.set()"
      ],
      "execution_count": 0,
      "outputs": []
    },
    {
      "metadata": {
        "id": "uk4gyQzCzVJJ",
        "colab_type": "code",
        "colab": {}
      },
      "cell_type": "code",
      "source": [
        "from __future__ import division, print_function\n",
        "## to ignore warnings as we don't like them as such\n",
        "import warnings\n",
        "warnings.filterwarnings('ignore')\n",
        "#plotting lib's\n",
        "from matplotlib import pyplot as plt\n",
        "%matplotlib inline\n",
        "import seaborn as sns\n",
        "sns.set()\n",
        "#other's\n",
        "import xgboost as xgb\n",
        "from sklearn.model_selection import train_test_split, cross_val_predict, TimeSeriesSplit\n",
        "from sklearn.model_selection import validation_curve, learning_curve\n",
        "from sklearn.metrics import confusion_matrix\n",
        "import pickle\n",
        "import numpy as np\n",
        "import pandas as pd\n",
        "from scipy.sparse import csr_matrix\n",
        "from scipy.sparse import hstack\n",
        "from sklearn.preprocessing import StandardScaler\n",
        "from sklearn.metrics import roc_auc_score\n",
        "from sklearn.feature_extraction.text import TfidfVectorizer, TfidfTransformer\n",
        "from sklearn.linear_model import LogisticRegressionCV, LogisticRegression\n",
        "from sklearn.model_selection import cross_val_score, StratifiedKFold, GridSearchCV, train_test_split, TimeSeriesSplit\n",
        "from sklearn.metrics import accuracy_score , roc_curve, auc\n",
        "from sklearn.ensemble import RandomForestRegressor, RandomForestClassifier"
      ],
      "execution_count": 0,
      "outputs": []
    },
    {
      "metadata": {
        "id": "I3RtRUCFUWu-",
        "colab_type": "text"
      },
      "cell_type": "markdown",
      "source": [
        "##### Problem description\n",
        "\n",
        "In this competition, we'll analyze the sequence of websites consequently visited by a particular person and try to predict whether this person is Alice or someone else. As a metric we will use [ROC AUC](https://en.wikipedia.org/wiki/Receiver_operating_characteristic)."
      ]
    },
    {
      "metadata": {
        "id": "tlGtJbwpUWu_",
        "colab_type": "text"
      },
      "cell_type": "markdown",
      "source": [
        "### 1. Data Downloading and Transformation\n",
        "Register on [Kaggle](www.kaggle.com), if you have not done it before.\n",
        "Go to the competition [page](https://inclass.kaggle.com/c/catch-me-if-you-can-intruder-detection-through-webpage-session-tracking2) and download the data.\n",
        "\n",
        "First, read the training and test sets. Then we'll explore the data in hand and do a couple of simple exercises. "
      ]
    },
    {
      "metadata": {
        "id": "_GxyQunIWFaq",
        "colab_type": "code",
        "colab": {}
      },
      "cell_type": "code",
      "source": [
        "# Install the PyDrive wrapper & import libraries.\n",
        "# This only needs to be done once in a notebook.\n",
        "!pip install -U -q PyDrive\n",
        "from pydrive.auth import GoogleAuth\n",
        "from pydrive.drive import GoogleDrive\n",
        "from google.colab import auth\n",
        "from oauth2client.client import GoogleCredentials\n",
        "\n",
        "# Authenticate and create the PyDrive client.\n",
        "# This only needs to be done once in a notebook.\n",
        "auth.authenticate_user()\n",
        "gauth = GoogleAuth()\n",
        "gauth.credentials = GoogleCredentials.get_application_default()\n",
        "drive = GoogleDrive(gauth)"
      ],
      "execution_count": 0,
      "outputs": []
    },
    {
      "metadata": {
        "id": "lBzeIBXZWI17",
        "colab_type": "code",
        "colab": {}
      },
      "cell_type": "code",
      "source": [
        "#train.csv\n",
        "\n",
        "# Download a file based on its file ID.\n",
        "#\n",
        "# A file ID looks like: laggVyWshwcyP6kEI-y_W3P8D26sz\n",
        "file_id = '1fNEwqatg5VjL6q27S_yaRwVaZXUFL0u6' #https://drive.google.com/open?id=1fNEwqatg5VjL6q27S_yaRwVaZXUFL0u6\n",
        "downloaded = drive.CreateFile({'id': file_id})\n"
      ],
      "execution_count": 0,
      "outputs": []
    },
    {
      "metadata": {
        "id": "PvtutZfRWNjn",
        "colab_type": "code",
        "colab": {}
      },
      "cell_type": "code",
      "source": [
        "downloaded.GetContentFile('train_sessions.csv')"
      ],
      "execution_count": 0,
      "outputs": []
    },
    {
      "metadata": {
        "id": "5JiqHV-LWQUq",
        "colab_type": "code",
        "colab": {}
      },
      "cell_type": "code",
      "source": [
        "\n",
        "file_id = '1mCdNKe_KZ77gZW24HAbwjXg4DTWK_l_Q' #https://drive.google.com/open?id=1mCdNKe_KZ77gZW24HAbwjXg4DTWK_l_Q\n",
        "downloaded = drive.CreateFile({'id': file_id})\n",
        "  \n",
        "  "
      ],
      "execution_count": 0,
      "outputs": []
    },
    {
      "metadata": {
        "id": "1TIbX2SSWTxT",
        "colab_type": "code",
        "colab": {}
      },
      "cell_type": "code",
      "source": [
        "downloaded.GetContentFile('test_sessions.csv')"
      ],
      "execution_count": 0,
      "outputs": []
    },
    {
      "metadata": {
        "id": "5L0QO5ZDWa7R",
        "colab_type": "code",
        "colab": {}
      },
      "cell_type": "code",
      "source": [
        "downloaded.GetContentFile('site_dic.pkl')"
      ],
      "execution_count": 0,
      "outputs": []
    },
    {
      "metadata": {
        "id": "QTpOaqDoWXID",
        "colab_type": "code",
        "colab": {}
      },
      "cell_type": "code",
      "source": [
        "\n",
        "\n",
        "file_id = '1VCXQVDkZsT9IWz-mvkP-GiUKxdJ3k101' #https://drive.google.com/open?id=1VCXQVDkZsT9IWz-mvkP-GiUKxdJ3k101\n",
        "downloaded = drive.CreateFile({'id': file_id})\n",
        "  "
      ],
      "execution_count": 0,
      "outputs": []
    },
    {
      "metadata": {
        "id": "kTuYK8mVXOIV",
        "colab_type": "code",
        "colab": {}
      },
      "cell_type": "code",
      "source": [
        "downloaded.GetContentFile('site_dic.pkl')"
      ],
      "execution_count": 0,
      "outputs": []
    },
    {
      "metadata": {
        "id": "znne88LHXhGH",
        "colab_type": "code",
        "colab": {
          "base_uri": "https://localhost:8080/",
          "height": 52
        },
        "outputId": "afb801f6-92ff-4386-fc9c-70a4c813c551"
      },
      "cell_type": "code",
      "source": [
        "!ls"
      ],
      "execution_count": 693,
      "outputs": [
        {
          "output_type": "stream",
          "text": [
            "adc.json\tbaseline_2.csv\tsample_data   subm1.csv  test_sessions.csv\n",
            "baseline_1.csv\tbaseline_4.csv\tsite_dic.pkl  subm4.csv  train_sessions.csv\n"
          ],
          "name": "stdout"
        }
      ]
    },
    {
      "metadata": {
        "id": "T9qkzNg7WfRJ",
        "colab_type": "code",
        "colab": {
          "base_uri": "https://localhost:8080/",
          "height": 87
        },
        "outputId": "79b4a340-51d6-4313-ac0f-aa1954fcda92"
      },
      "cell_type": "code",
      "source": [
        "# read data from file\n",
        "# train = pd.read_csv(\"../input/train.csv\") \n",
        "# test = pd.read_csv(\"../input/test.csv\")\n",
        "\n",
        "train = pd.read_csv(\"train_sessions.csv\") \n",
        "test = pd.read_csv(\"test_sessions.csv\")\n",
        "\n",
        "# check the number of features and data points in train\n",
        "print(\"Number of data points in train: %d\" % train.shape[0])\n",
        "print(\"Number of features in train: %d\" % train.shape[1])\n",
        "\n",
        "# check the number of features and data points in test\n",
        "print(\"Number of data points in test: %d\" % test.shape[0])\n",
        "print(\"Number of features in test: %d\" % test.shape[1])"
      ],
      "execution_count": 694,
      "outputs": [
        {
          "output_type": "stream",
          "text": [
            "Number of data points in train: 253561\n",
            "Number of features in train: 22\n",
            "Number of data points in test: 82797\n",
            "Number of features in test: 21\n"
          ],
          "name": "stdout"
        }
      ]
    },
    {
      "metadata": {
        "scrolled": true,
        "id": "Pnwg3OFzUWvB",
        "colab_type": "code",
        "colab": {
          "base_uri": "https://localhost:8080/",
          "height": 455
        },
        "outputId": "2220d771-88c6-4ecd-939a-54de694ec5df"
      },
      "cell_type": "code",
      "source": [
        "# Read the training and test data sets\n",
        "train_df = pd.read_csv('train_sessions.csv',\n",
        "                       index_col='session_id', parse_dates=['time1'])\n",
        "test_df = pd.read_csv('test_sessions.csv',\n",
        "                      index_col='session_id', parse_dates=['time1'])\n",
        "\n",
        "# Sort the data by time\n",
        "train_df = train_df.sort_values(by='time1')\n",
        "\n",
        "# Look at the first rows of the training set\n",
        "train_df.head()"
      ],
      "execution_count": 695,
      "outputs": [
        {
          "output_type": "execute_result",
          "data": {
            "text/html": [
              "<div>\n",
              "<style scoped>\n",
              "    .dataframe tbody tr th:only-of-type {\n",
              "        vertical-align: middle;\n",
              "    }\n",
              "\n",
              "    .dataframe tbody tr th {\n",
              "        vertical-align: top;\n",
              "    }\n",
              "\n",
              "    .dataframe thead th {\n",
              "        text-align: right;\n",
              "    }\n",
              "</style>\n",
              "<table border=\"1\" class=\"dataframe\">\n",
              "  <thead>\n",
              "    <tr style=\"text-align: right;\">\n",
              "      <th></th>\n",
              "      <th>site1</th>\n",
              "      <th>time1</th>\n",
              "      <th>site2</th>\n",
              "      <th>time2</th>\n",
              "      <th>site3</th>\n",
              "      <th>time3</th>\n",
              "      <th>site4</th>\n",
              "      <th>time4</th>\n",
              "      <th>site5</th>\n",
              "      <th>time5</th>\n",
              "      <th>...</th>\n",
              "      <th>time6</th>\n",
              "      <th>site7</th>\n",
              "      <th>time7</th>\n",
              "      <th>site8</th>\n",
              "      <th>time8</th>\n",
              "      <th>site9</th>\n",
              "      <th>time9</th>\n",
              "      <th>site10</th>\n",
              "      <th>time10</th>\n",
              "      <th>target</th>\n",
              "    </tr>\n",
              "    <tr>\n",
              "      <th>session_id</th>\n",
              "      <th></th>\n",
              "      <th></th>\n",
              "      <th></th>\n",
              "      <th></th>\n",
              "      <th></th>\n",
              "      <th></th>\n",
              "      <th></th>\n",
              "      <th></th>\n",
              "      <th></th>\n",
              "      <th></th>\n",
              "      <th></th>\n",
              "      <th></th>\n",
              "      <th></th>\n",
              "      <th></th>\n",
              "      <th></th>\n",
              "      <th></th>\n",
              "      <th></th>\n",
              "      <th></th>\n",
              "      <th></th>\n",
              "      <th></th>\n",
              "      <th></th>\n",
              "    </tr>\n",
              "  </thead>\n",
              "  <tbody>\n",
              "    <tr>\n",
              "      <th>21669</th>\n",
              "      <td>56</td>\n",
              "      <td>2013-01-12 08:05:57</td>\n",
              "      <td>55.0</td>\n",
              "      <td>2013-01-12 08:05:57</td>\n",
              "      <td>NaN</td>\n",
              "      <td>NaN</td>\n",
              "      <td>NaN</td>\n",
              "      <td>NaN</td>\n",
              "      <td>NaN</td>\n",
              "      <td>NaN</td>\n",
              "      <td>...</td>\n",
              "      <td>NaN</td>\n",
              "      <td>NaN</td>\n",
              "      <td>NaN</td>\n",
              "      <td>NaN</td>\n",
              "      <td>NaN</td>\n",
              "      <td>NaN</td>\n",
              "      <td>NaN</td>\n",
              "      <td>NaN</td>\n",
              "      <td>NaN</td>\n",
              "      <td>0</td>\n",
              "    </tr>\n",
              "    <tr>\n",
              "      <th>54843</th>\n",
              "      <td>56</td>\n",
              "      <td>2013-01-12 08:37:23</td>\n",
              "      <td>55.0</td>\n",
              "      <td>2013-01-12 08:37:23</td>\n",
              "      <td>56.0</td>\n",
              "      <td>2013-01-12 09:07:07</td>\n",
              "      <td>55.0</td>\n",
              "      <td>2013-01-12 09:07:09</td>\n",
              "      <td>NaN</td>\n",
              "      <td>NaN</td>\n",
              "      <td>...</td>\n",
              "      <td>NaN</td>\n",
              "      <td>NaN</td>\n",
              "      <td>NaN</td>\n",
              "      <td>NaN</td>\n",
              "      <td>NaN</td>\n",
              "      <td>NaN</td>\n",
              "      <td>NaN</td>\n",
              "      <td>NaN</td>\n",
              "      <td>NaN</td>\n",
              "      <td>0</td>\n",
              "    </tr>\n",
              "    <tr>\n",
              "      <th>77292</th>\n",
              "      <td>946</td>\n",
              "      <td>2013-01-12 08:50:13</td>\n",
              "      <td>946.0</td>\n",
              "      <td>2013-01-12 08:50:14</td>\n",
              "      <td>951.0</td>\n",
              "      <td>2013-01-12 08:50:15</td>\n",
              "      <td>946.0</td>\n",
              "      <td>2013-01-12 08:50:15</td>\n",
              "      <td>946.0</td>\n",
              "      <td>2013-01-12 08:50:16</td>\n",
              "      <td>...</td>\n",
              "      <td>2013-01-12 08:50:16</td>\n",
              "      <td>948.0</td>\n",
              "      <td>2013-01-12 08:50:16</td>\n",
              "      <td>784.0</td>\n",
              "      <td>2013-01-12 08:50:16</td>\n",
              "      <td>949.0</td>\n",
              "      <td>2013-01-12 08:50:17</td>\n",
              "      <td>946.0</td>\n",
              "      <td>2013-01-12 08:50:17</td>\n",
              "      <td>0</td>\n",
              "    </tr>\n",
              "    <tr>\n",
              "      <th>114021</th>\n",
              "      <td>945</td>\n",
              "      <td>2013-01-12 08:50:17</td>\n",
              "      <td>948.0</td>\n",
              "      <td>2013-01-12 08:50:17</td>\n",
              "      <td>949.0</td>\n",
              "      <td>2013-01-12 08:50:18</td>\n",
              "      <td>948.0</td>\n",
              "      <td>2013-01-12 08:50:18</td>\n",
              "      <td>945.0</td>\n",
              "      <td>2013-01-12 08:50:18</td>\n",
              "      <td>...</td>\n",
              "      <td>2013-01-12 08:50:18</td>\n",
              "      <td>947.0</td>\n",
              "      <td>2013-01-12 08:50:19</td>\n",
              "      <td>945.0</td>\n",
              "      <td>2013-01-12 08:50:19</td>\n",
              "      <td>946.0</td>\n",
              "      <td>2013-01-12 08:50:19</td>\n",
              "      <td>946.0</td>\n",
              "      <td>2013-01-12 08:50:20</td>\n",
              "      <td>0</td>\n",
              "    </tr>\n",
              "    <tr>\n",
              "      <th>146670</th>\n",
              "      <td>947</td>\n",
              "      <td>2013-01-12 08:50:20</td>\n",
              "      <td>950.0</td>\n",
              "      <td>2013-01-12 08:50:20</td>\n",
              "      <td>948.0</td>\n",
              "      <td>2013-01-12 08:50:20</td>\n",
              "      <td>947.0</td>\n",
              "      <td>2013-01-12 08:50:21</td>\n",
              "      <td>950.0</td>\n",
              "      <td>2013-01-12 08:50:21</td>\n",
              "      <td>...</td>\n",
              "      <td>2013-01-12 08:50:21</td>\n",
              "      <td>946.0</td>\n",
              "      <td>2013-01-12 08:50:21</td>\n",
              "      <td>951.0</td>\n",
              "      <td>2013-01-12 08:50:22</td>\n",
              "      <td>946.0</td>\n",
              "      <td>2013-01-12 08:50:22</td>\n",
              "      <td>947.0</td>\n",
              "      <td>2013-01-12 08:50:22</td>\n",
              "      <td>0</td>\n",
              "    </tr>\n",
              "  </tbody>\n",
              "</table>\n",
              "<p>5 rows × 21 columns</p>\n",
              "</div>"
            ],
            "text/plain": [
              "            site1               time1  site2                time2  site3  \\\n",
              "session_id                                                                 \n",
              "21669          56 2013-01-12 08:05:57   55.0  2013-01-12 08:05:57    NaN   \n",
              "54843          56 2013-01-12 08:37:23   55.0  2013-01-12 08:37:23   56.0   \n",
              "77292         946 2013-01-12 08:50:13  946.0  2013-01-12 08:50:14  951.0   \n",
              "114021        945 2013-01-12 08:50:17  948.0  2013-01-12 08:50:17  949.0   \n",
              "146670        947 2013-01-12 08:50:20  950.0  2013-01-12 08:50:20  948.0   \n",
              "\n",
              "                          time3  site4                time4  site5  \\\n",
              "session_id                                                           \n",
              "21669                       NaN    NaN                  NaN    NaN   \n",
              "54843       2013-01-12 09:07:07   55.0  2013-01-12 09:07:09    NaN   \n",
              "77292       2013-01-12 08:50:15  946.0  2013-01-12 08:50:15  946.0   \n",
              "114021      2013-01-12 08:50:18  948.0  2013-01-12 08:50:18  945.0   \n",
              "146670      2013-01-12 08:50:20  947.0  2013-01-12 08:50:21  950.0   \n",
              "\n",
              "                          time5  ...                  time6  site7  \\\n",
              "session_id                       ...                                 \n",
              "21669                       NaN  ...                    NaN    NaN   \n",
              "54843                       NaN  ...                    NaN    NaN   \n",
              "77292       2013-01-12 08:50:16  ...    2013-01-12 08:50:16  948.0   \n",
              "114021      2013-01-12 08:50:18  ...    2013-01-12 08:50:18  947.0   \n",
              "146670      2013-01-12 08:50:21  ...    2013-01-12 08:50:21  946.0   \n",
              "\n",
              "                          time7  site8                time8  site9  \\\n",
              "session_id                                                           \n",
              "21669                       NaN    NaN                  NaN    NaN   \n",
              "54843                       NaN    NaN                  NaN    NaN   \n",
              "77292       2013-01-12 08:50:16  784.0  2013-01-12 08:50:16  949.0   \n",
              "114021      2013-01-12 08:50:19  945.0  2013-01-12 08:50:19  946.0   \n",
              "146670      2013-01-12 08:50:21  951.0  2013-01-12 08:50:22  946.0   \n",
              "\n",
              "                          time9 site10               time10 target  \n",
              "session_id                                                          \n",
              "21669                       NaN    NaN                  NaN      0  \n",
              "54843                       NaN    NaN                  NaN      0  \n",
              "77292       2013-01-12 08:50:17  946.0  2013-01-12 08:50:17      0  \n",
              "114021      2013-01-12 08:50:19  946.0  2013-01-12 08:50:20      0  \n",
              "146670      2013-01-12 08:50:22  947.0  2013-01-12 08:50:22      0  \n",
              "\n",
              "[5 rows x 21 columns]"
            ]
          },
          "metadata": {
            "tags": []
          },
          "execution_count": 695
        }
      ]
    },
    {
      "metadata": {
        "id": "cOEN3Kp1bkNd",
        "colab_type": "code",
        "colab": {
          "base_uri": "https://localhost:8080/",
          "height": 455
        },
        "outputId": "f83c6b10-50ff-47d4-a09c-5a5c1d54b390"
      },
      "cell_type": "code",
      "source": [
        "# Read the training and test data sets, change paths if needed\n",
        "times = ['time%s' % i for i in range(1, 11)]\n",
        "train_df = pd.read_csv('train_sessions.csv',\n",
        "                       index_col='session_id', parse_dates=times)\n",
        "test_df = pd.read_csv('test_sessions.csv',\n",
        "                      index_col='session_id', parse_dates=times)\n",
        "\n",
        "# Sort the data by time\n",
        "train_df = train_df.sort_values(by='time1')\n",
        "\n",
        "# Look at the first rows of the training set\n",
        "train_df.head()"
      ],
      "execution_count": 696,
      "outputs": [
        {
          "output_type": "execute_result",
          "data": {
            "text/html": [
              "<div>\n",
              "<style scoped>\n",
              "    .dataframe tbody tr th:only-of-type {\n",
              "        vertical-align: middle;\n",
              "    }\n",
              "\n",
              "    .dataframe tbody tr th {\n",
              "        vertical-align: top;\n",
              "    }\n",
              "\n",
              "    .dataframe thead th {\n",
              "        text-align: right;\n",
              "    }\n",
              "</style>\n",
              "<table border=\"1\" class=\"dataframe\">\n",
              "  <thead>\n",
              "    <tr style=\"text-align: right;\">\n",
              "      <th></th>\n",
              "      <th>site1</th>\n",
              "      <th>time1</th>\n",
              "      <th>site2</th>\n",
              "      <th>time2</th>\n",
              "      <th>site3</th>\n",
              "      <th>time3</th>\n",
              "      <th>site4</th>\n",
              "      <th>time4</th>\n",
              "      <th>site5</th>\n",
              "      <th>time5</th>\n",
              "      <th>...</th>\n",
              "      <th>time6</th>\n",
              "      <th>site7</th>\n",
              "      <th>time7</th>\n",
              "      <th>site8</th>\n",
              "      <th>time8</th>\n",
              "      <th>site9</th>\n",
              "      <th>time9</th>\n",
              "      <th>site10</th>\n",
              "      <th>time10</th>\n",
              "      <th>target</th>\n",
              "    </tr>\n",
              "    <tr>\n",
              "      <th>session_id</th>\n",
              "      <th></th>\n",
              "      <th></th>\n",
              "      <th></th>\n",
              "      <th></th>\n",
              "      <th></th>\n",
              "      <th></th>\n",
              "      <th></th>\n",
              "      <th></th>\n",
              "      <th></th>\n",
              "      <th></th>\n",
              "      <th></th>\n",
              "      <th></th>\n",
              "      <th></th>\n",
              "      <th></th>\n",
              "      <th></th>\n",
              "      <th></th>\n",
              "      <th></th>\n",
              "      <th></th>\n",
              "      <th></th>\n",
              "      <th></th>\n",
              "      <th></th>\n",
              "    </tr>\n",
              "  </thead>\n",
              "  <tbody>\n",
              "    <tr>\n",
              "      <th>21669</th>\n",
              "      <td>56</td>\n",
              "      <td>2013-01-12 08:05:57</td>\n",
              "      <td>55.0</td>\n",
              "      <td>2013-01-12 08:05:57</td>\n",
              "      <td>NaN</td>\n",
              "      <td>NaT</td>\n",
              "      <td>NaN</td>\n",
              "      <td>NaT</td>\n",
              "      <td>NaN</td>\n",
              "      <td>NaT</td>\n",
              "      <td>...</td>\n",
              "      <td>NaT</td>\n",
              "      <td>NaN</td>\n",
              "      <td>NaT</td>\n",
              "      <td>NaN</td>\n",
              "      <td>NaT</td>\n",
              "      <td>NaN</td>\n",
              "      <td>NaT</td>\n",
              "      <td>NaN</td>\n",
              "      <td>NaT</td>\n",
              "      <td>0</td>\n",
              "    </tr>\n",
              "    <tr>\n",
              "      <th>54843</th>\n",
              "      <td>56</td>\n",
              "      <td>2013-01-12 08:37:23</td>\n",
              "      <td>55.0</td>\n",
              "      <td>2013-01-12 08:37:23</td>\n",
              "      <td>56.0</td>\n",
              "      <td>2013-01-12 09:07:07</td>\n",
              "      <td>55.0</td>\n",
              "      <td>2013-01-12 09:07:09</td>\n",
              "      <td>NaN</td>\n",
              "      <td>NaT</td>\n",
              "      <td>...</td>\n",
              "      <td>NaT</td>\n",
              "      <td>NaN</td>\n",
              "      <td>NaT</td>\n",
              "      <td>NaN</td>\n",
              "      <td>NaT</td>\n",
              "      <td>NaN</td>\n",
              "      <td>NaT</td>\n",
              "      <td>NaN</td>\n",
              "      <td>NaT</td>\n",
              "      <td>0</td>\n",
              "    </tr>\n",
              "    <tr>\n",
              "      <th>77292</th>\n",
              "      <td>946</td>\n",
              "      <td>2013-01-12 08:50:13</td>\n",
              "      <td>946.0</td>\n",
              "      <td>2013-01-12 08:50:14</td>\n",
              "      <td>951.0</td>\n",
              "      <td>2013-01-12 08:50:15</td>\n",
              "      <td>946.0</td>\n",
              "      <td>2013-01-12 08:50:15</td>\n",
              "      <td>946.0</td>\n",
              "      <td>2013-01-12 08:50:16</td>\n",
              "      <td>...</td>\n",
              "      <td>2013-01-12 08:50:16</td>\n",
              "      <td>948.0</td>\n",
              "      <td>2013-01-12 08:50:16</td>\n",
              "      <td>784.0</td>\n",
              "      <td>2013-01-12 08:50:16</td>\n",
              "      <td>949.0</td>\n",
              "      <td>2013-01-12 08:50:17</td>\n",
              "      <td>946.0</td>\n",
              "      <td>2013-01-12 08:50:17</td>\n",
              "      <td>0</td>\n",
              "    </tr>\n",
              "    <tr>\n",
              "      <th>114021</th>\n",
              "      <td>945</td>\n",
              "      <td>2013-01-12 08:50:17</td>\n",
              "      <td>948.0</td>\n",
              "      <td>2013-01-12 08:50:17</td>\n",
              "      <td>949.0</td>\n",
              "      <td>2013-01-12 08:50:18</td>\n",
              "      <td>948.0</td>\n",
              "      <td>2013-01-12 08:50:18</td>\n",
              "      <td>945.0</td>\n",
              "      <td>2013-01-12 08:50:18</td>\n",
              "      <td>...</td>\n",
              "      <td>2013-01-12 08:50:18</td>\n",
              "      <td>947.0</td>\n",
              "      <td>2013-01-12 08:50:19</td>\n",
              "      <td>945.0</td>\n",
              "      <td>2013-01-12 08:50:19</td>\n",
              "      <td>946.0</td>\n",
              "      <td>2013-01-12 08:50:19</td>\n",
              "      <td>946.0</td>\n",
              "      <td>2013-01-12 08:50:20</td>\n",
              "      <td>0</td>\n",
              "    </tr>\n",
              "    <tr>\n",
              "      <th>146670</th>\n",
              "      <td>947</td>\n",
              "      <td>2013-01-12 08:50:20</td>\n",
              "      <td>950.0</td>\n",
              "      <td>2013-01-12 08:50:20</td>\n",
              "      <td>948.0</td>\n",
              "      <td>2013-01-12 08:50:20</td>\n",
              "      <td>947.0</td>\n",
              "      <td>2013-01-12 08:50:21</td>\n",
              "      <td>950.0</td>\n",
              "      <td>2013-01-12 08:50:21</td>\n",
              "      <td>...</td>\n",
              "      <td>2013-01-12 08:50:21</td>\n",
              "      <td>946.0</td>\n",
              "      <td>2013-01-12 08:50:21</td>\n",
              "      <td>951.0</td>\n",
              "      <td>2013-01-12 08:50:22</td>\n",
              "      <td>946.0</td>\n",
              "      <td>2013-01-12 08:50:22</td>\n",
              "      <td>947.0</td>\n",
              "      <td>2013-01-12 08:50:22</td>\n",
              "      <td>0</td>\n",
              "    </tr>\n",
              "  </tbody>\n",
              "</table>\n",
              "<p>5 rows × 21 columns</p>\n",
              "</div>"
            ],
            "text/plain": [
              "            site1               time1  site2               time2  site3  \\\n",
              "session_id                                                                \n",
              "21669          56 2013-01-12 08:05:57   55.0 2013-01-12 08:05:57    NaN   \n",
              "54843          56 2013-01-12 08:37:23   55.0 2013-01-12 08:37:23   56.0   \n",
              "77292         946 2013-01-12 08:50:13  946.0 2013-01-12 08:50:14  951.0   \n",
              "114021        945 2013-01-12 08:50:17  948.0 2013-01-12 08:50:17  949.0   \n",
              "146670        947 2013-01-12 08:50:20  950.0 2013-01-12 08:50:20  948.0   \n",
              "\n",
              "                         time3  site4               time4  site5  \\\n",
              "session_id                                                         \n",
              "21669                      NaT    NaN                 NaT    NaN   \n",
              "54843      2013-01-12 09:07:07   55.0 2013-01-12 09:07:09    NaN   \n",
              "77292      2013-01-12 08:50:15  946.0 2013-01-12 08:50:15  946.0   \n",
              "114021     2013-01-12 08:50:18  948.0 2013-01-12 08:50:18  945.0   \n",
              "146670     2013-01-12 08:50:20  947.0 2013-01-12 08:50:21  950.0   \n",
              "\n",
              "                         time5  ...                 time6  site7  \\\n",
              "session_id                      ...                                \n",
              "21669                      NaT  ...                   NaT    NaN   \n",
              "54843                      NaT  ...                   NaT    NaN   \n",
              "77292      2013-01-12 08:50:16  ...   2013-01-12 08:50:16  948.0   \n",
              "114021     2013-01-12 08:50:18  ...   2013-01-12 08:50:18  947.0   \n",
              "146670     2013-01-12 08:50:21  ...   2013-01-12 08:50:21  946.0   \n",
              "\n",
              "                         time7  site8               time8  site9  \\\n",
              "session_id                                                         \n",
              "21669                      NaT    NaN                 NaT    NaN   \n",
              "54843                      NaT    NaN                 NaT    NaN   \n",
              "77292      2013-01-12 08:50:16  784.0 2013-01-12 08:50:16  949.0   \n",
              "114021     2013-01-12 08:50:19  945.0 2013-01-12 08:50:19  946.0   \n",
              "146670     2013-01-12 08:50:21  951.0 2013-01-12 08:50:22  946.0   \n",
              "\n",
              "                         time9 site10              time10 target  \n",
              "session_id                                                        \n",
              "21669                      NaT    NaN                 NaT      0  \n",
              "54843                      NaT    NaN                 NaT      0  \n",
              "77292      2013-01-12 08:50:17  946.0 2013-01-12 08:50:17      0  \n",
              "114021     2013-01-12 08:50:19  946.0 2013-01-12 08:50:20      0  \n",
              "146670     2013-01-12 08:50:22  947.0 2013-01-12 08:50:22      0  \n",
              "\n",
              "[5 rows x 21 columns]"
            ]
          },
          "metadata": {
            "tags": []
          },
          "execution_count": 696
        }
      ]
    },
    {
      "metadata": {
        "id": "KPXquMYuUWvJ",
        "colab_type": "text"
      },
      "cell_type": "markdown",
      "source": [
        "The training data set contains the following features:\n",
        "\n",
        "- **site1** – id of the first visited website in the session\n",
        "- **time1** – visiting time for the first website in the session\n",
        "- ...\n",
        "- **site10** – id of the tenth visited website in the session\n",
        "- **time10** – visiting time for the tenth website in the session\n",
        "- **target** – target variable, 1 for Alice's sessions, and 0 for the other users' sessions\n",
        "    \n",
        "User sessions are chosen in the way that they are shorter than 30 min. long and contain no more than 10 websites. I.e. a session is considered over either if a user has visited 10 websites or if a session has lasted over 30 minutes.\n",
        "\n",
        "There are some empty values in the table, it means that some sessions contain less than ten websites. Replace empty values with 0 and change columns types to integer. Also load the websites dictionary and check how it looks like:"
      ]
    },
    {
      "metadata": {
        "id": "HDjFy3PlUWvL",
        "colab_type": "code",
        "colab": {
          "base_uri": "https://localhost:8080/",
          "height": 219
        },
        "outputId": "0d72812a-e316-427c-9fd1-70ccfdd3f4b2"
      },
      "cell_type": "code",
      "source": [
        "# Change site1, ..., site10 columns type to integer and fill NA-values with zeros\n",
        "sites = ['site%s' % i for i in range(1, 11)]\n",
        "train_df[sites] = train_df[sites].fillna(0).astype('int')\n",
        "test_df[sites] = test_df[sites].fillna(0).astype('int')\n",
        "\n",
        "# Load websites dictionary\n",
        "with open(r\"site_dic.pkl\", \"rb\") as input_file:\n",
        "    site_dict = pickle.load(input_file)\n",
        "\n",
        "# Create dataframe for the dictionary\n",
        "sites_dict = pd.DataFrame(list(site_dict.keys()), index=list(site_dict.values()), columns=['site'])\n",
        "print(u'Websites total:', sites_dict.shape[0])\n",
        "sites_dict.head()"
      ],
      "execution_count": 697,
      "outputs": [
        {
          "output_type": "stream",
          "text": [
            "Websites total: 48371\n"
          ],
          "name": "stdout"
        },
        {
          "output_type": "execute_result",
          "data": {
            "text/html": [
              "<div>\n",
              "<style scoped>\n",
              "    .dataframe tbody tr th:only-of-type {\n",
              "        vertical-align: middle;\n",
              "    }\n",
              "\n",
              "    .dataframe tbody tr th {\n",
              "        vertical-align: top;\n",
              "    }\n",
              "\n",
              "    .dataframe thead th {\n",
              "        text-align: right;\n",
              "    }\n",
              "</style>\n",
              "<table border=\"1\" class=\"dataframe\">\n",
              "  <thead>\n",
              "    <tr style=\"text-align: right;\">\n",
              "      <th></th>\n",
              "      <th>site</th>\n",
              "    </tr>\n",
              "  </thead>\n",
              "  <tbody>\n",
              "    <tr>\n",
              "      <th>25075</th>\n",
              "      <td>www.abmecatronique.com</td>\n",
              "    </tr>\n",
              "    <tr>\n",
              "      <th>13997</th>\n",
              "      <td>groups.live.com</td>\n",
              "    </tr>\n",
              "    <tr>\n",
              "      <th>42436</th>\n",
              "      <td>majeureliguefootball.wordpress.com</td>\n",
              "    </tr>\n",
              "    <tr>\n",
              "      <th>30911</th>\n",
              "      <td>cdt46.media.tourinsoft.eu</td>\n",
              "    </tr>\n",
              "    <tr>\n",
              "      <th>8104</th>\n",
              "      <td>www.hdwallpapers.eu</td>\n",
              "    </tr>\n",
              "  </tbody>\n",
              "</table>\n",
              "</div>"
            ],
            "text/plain": [
              "                                     site\n",
              "25075              www.abmecatronique.com\n",
              "13997                     groups.live.com\n",
              "42436  majeureliguefootball.wordpress.com\n",
              "30911           cdt46.media.tourinsoft.eu\n",
              "8104                  www.hdwallpapers.eu"
            ]
          },
          "metadata": {
            "tags": []
          },
          "execution_count": 697
        }
      ]
    },
    {
      "metadata": {
        "id": "kF1PXO9iUWvS",
        "colab_type": "text"
      },
      "cell_type": "markdown",
      "source": [
        "### 2. Brief Exploratory Data Analysis"
      ]
    },
    {
      "metadata": {
        "id": "dhSdTQiHUWvV",
        "colab_type": "text"
      },
      "cell_type": "markdown",
      "source": [
        "Before we start training models, we have to perform Exploratory Data Analysis ([EDA](https://en.wikipedia.org/wiki/Exploratory_data_analysis)). Today, we are going to perform a shorter version, but we will use other techniques as we move forward. Let's check which websites in the training data set are the most visited. As you can see, they are Google services and a bioinformatics website (a website with 'zero'-index is our missed values, just ignore it):"
      ]
    },
    {
      "metadata": {
        "id": "1WqLQjU_UWvX",
        "colab_type": "code",
        "colab": {
          "base_uri": "https://localhost:8080/",
          "height": 275
        },
        "outputId": "a6114501-ef4e-4fb1-ceed-afdbae720385"
      },
      "cell_type": "code",
      "source": [
        "# Top websites in the training data set\n",
        "top_sites = pd.Series(train_df[sites].values.flatten()\n",
        "                     ).value_counts().sort_values(ascending=False).head(5)\n",
        "print(top_sites)\n",
        "sites_dict.loc[top_sites.drop(0).index]"
      ],
      "execution_count": 698,
      "outputs": [
        {
          "output_type": "stream",
          "text": [
            "21     123776\n",
            "0      122730\n",
            "23      87619\n",
            "782     77055\n",
            "22      58258\n",
            "dtype: int64\n"
          ],
          "name": "stdout"
        },
        {
          "output_type": "execute_result",
          "data": {
            "text/html": [
              "<div>\n",
              "<style scoped>\n",
              "    .dataframe tbody tr th:only-of-type {\n",
              "        vertical-align: middle;\n",
              "    }\n",
              "\n",
              "    .dataframe tbody tr th {\n",
              "        vertical-align: top;\n",
              "    }\n",
              "\n",
              "    .dataframe thead th {\n",
              "        text-align: right;\n",
              "    }\n",
              "</style>\n",
              "<table border=\"1\" class=\"dataframe\">\n",
              "  <thead>\n",
              "    <tr style=\"text-align: right;\">\n",
              "      <th></th>\n",
              "      <th>site</th>\n",
              "    </tr>\n",
              "  </thead>\n",
              "  <tbody>\n",
              "    <tr>\n",
              "      <th>21</th>\n",
              "      <td>www.google.fr</td>\n",
              "    </tr>\n",
              "    <tr>\n",
              "      <th>23</th>\n",
              "      <td>www.google.com</td>\n",
              "    </tr>\n",
              "    <tr>\n",
              "      <th>782</th>\n",
              "      <td>annotathon.org</td>\n",
              "    </tr>\n",
              "    <tr>\n",
              "      <th>22</th>\n",
              "      <td>apis.google.com</td>\n",
              "    </tr>\n",
              "  </tbody>\n",
              "</table>\n",
              "</div>"
            ],
            "text/plain": [
              "                site\n",
              "21     www.google.fr\n",
              "23    www.google.com\n",
              "782   annotathon.org\n",
              "22   apis.google.com"
            ]
          },
          "metadata": {
            "tags": []
          },
          "execution_count": 698
        }
      ]
    },
    {
      "metadata": {
        "id": "8u2Xmsy3UWvd",
        "colab_type": "text"
      },
      "cell_type": "markdown",
      "source": [
        "##### 1. What kind of websites does Alice visit the most?\n",
        "*For discussions, please stick to [ODS Slack](https://opendatascience.slack.com/), channel #mlcourse_ai, pinned thread __#a2_q1__*\n",
        "\n",
        "- videohostings\n",
        "- social networks\n",
        "- torrent trackers\n",
        "- news"
      ]
    },
    {
      "metadata": {
        "id": "hL11amTwUWve",
        "colab_type": "code",
        "colab": {
          "base_uri": "https://localhost:8080/",
          "height": 156
        },
        "outputId": "b8c13e82-f9d4-4233-b56f-695c40bec6a1"
      },
      "cell_type": "code",
      "source": [
        "# You code here\n",
        "# Top websites in the training data set\n",
        "top_sites = pd.Series(train_df[train_df['target'] == 1][sites].values.flatten()).value_counts().sort_values(ascending=False).head(5)\n",
        "print(top_sites)\n",
        "# sites_dict.loc[top_sites.drop(0).index]\n",
        "\n",
        "site_dict_2 = {y:x for x,y in site_dict.items()}\n",
        "site_dict_2.items()\n",
        "\n",
        "for siteid, website in site_dict_2.items():\n",
        "  if siteid == 77:\n",
        "    print('{0} corresponds to {1}'.format(siteid, website))\n",
        "  if siteid == 80:\n",
        "    print('{0} corresponds to {1}'.format(siteid, website))"
      ],
      "execution_count": 699,
      "outputs": [
        {
          "output_type": "stream",
          "text": [
            "77    1382\n",
            "80    1354\n",
            "76    1307\n",
            "29     897\n",
            "21     857\n",
            "dtype: int64\n",
            "80 corresponds to s.youtube.com\n",
            "77 corresponds to i1.ytimg.com\n"
          ],
          "name": "stdout"
        }
      ]
    },
    {
      "metadata": {
        "id": "a0MQqde5UWvi",
        "colab_type": "text"
      },
      "cell_type": "markdown",
      "source": [
        "Now let us look at the timestamps and try to characterize sessions as timeframes:"
      ]
    },
    {
      "metadata": {
        "id": "xGN2o4hTUWvk",
        "colab_type": "code",
        "colab": {
          "base_uri": "https://localhost:8080/",
          "height": 260
        },
        "outputId": "14c847e6-ed6d-4939-9295-24d71c6de228"
      },
      "cell_type": "code",
      "source": [
        "# Create a separate dataframe where we will work with timestamps\n",
        "time_df = pd.DataFrame(index=train_df.index)\n",
        "time_df['target'] = train_df['target']\n",
        "\n",
        "# Find sessions' starting and ending\n",
        "time_df['min'] = train_df[times].min(axis=1)\n",
        "time_df['max'] = train_df[times].max(axis=1)\n",
        "\n",
        "# Calculate sessions' duration in seconds\n",
        "time_df['seconds'] = (time_df['max'] - time_df['min']) / np.timedelta64(1, 's')\n",
        "\n",
        "print(time_df.head())\n",
        "\n",
        "\n",
        "# Find the test dataset time \n",
        "\n",
        "time_test_df = pd.DataFrame(index=test_df.index)\n",
        "# time_test_df['target'] = test_df['target']\n",
        "\n",
        "# Find sessions' starting and ending\n",
        "time_test_df['min'] = test_df[times].min(axis=1)\n",
        "time_test_df['max'] = test_df[times].max(axis=1)\n",
        "\n",
        "# Calculate sessions' duration in seconds\n",
        "time_test_df['seconds'] = (time_test_df['max'] - time_test_df['min']) / np.timedelta64(1, 's')\n",
        "\n",
        "print(time_test_df.head())"
      ],
      "execution_count": 700,
      "outputs": [
        {
          "output_type": "stream",
          "text": [
            "            target                 min                 max  seconds\n",
            "session_id                                                         \n",
            "21669            0 2013-01-12 08:05:57 2013-01-12 08:05:57      0.0\n",
            "54843            0 2013-01-12 08:37:23 2013-01-12 09:07:09   1786.0\n",
            "77292            0 2013-01-12 08:50:13 2013-01-12 08:50:17      4.0\n",
            "114021           0 2013-01-12 08:50:17 2013-01-12 08:50:20      3.0\n",
            "146670           0 2013-01-12 08:50:20 2013-01-12 08:50:22      2.0\n",
            "                           min                 max  seconds\n",
            "session_id                                                 \n",
            "1          2014-10-04 11:19:53 2014-10-04 11:20:00      7.0\n",
            "2          2014-07-03 11:00:28 2014-07-03 11:01:53     85.0\n",
            "3          2014-12-05 15:55:12 2014-12-05 15:56:36     84.0\n",
            "4          2014-11-04 10:03:19 2014-11-04 10:03:23      4.0\n",
            "5          2014-05-16 15:05:31 2014-05-16 15:05:44     13.0\n"
          ],
          "name": "stdout"
        }
      ]
    },
    {
      "metadata": {
        "id": "rAVP6Cq2UWvq",
        "colab_type": "text"
      },
      "cell_type": "markdown",
      "source": [
        "In order to perform the next task, generate descriptive statistics as you did in the first assignment.\n",
        "\n",
        "*In the next question, we are using the notion of \"approximately the same\". To be strict, let's define it: $a$ is approximately the same as $b$ ($a \\approx b $) if their difference is less than or equal to 5% of the maximum between $a$ and $b$, i.e. $a \\approx b \\leftrightarrow \\frac{|a-b|}{max(a,b)} \\leq 0.05$.*\n",
        "\n",
        "##### 2. Select all correct statements:\n",
        "*For discussions, please stick to [ODS Slack](https://opendatascience.slack.com/), channel #mlcourse_ai, pinned thread __#a2_q2__*\n",
        "\n",
        "- on average, Alice's session is shorter than that of other users\n",
        "- more than 1% of all sessions in the dataset belong to Alice\n",
        "- minimum and maximum durations of Alice's and other users' sessions are approximately the same\n",
        "- standard deviation of Alice's sessions duration is approximately the same as for non-Alice's sessions\n",
        "- less than a quarter of Alice's sessions are greater than or equal to 40 seconds"
      ]
    },
    {
      "metadata": {
        "id": "awUXk3IzUWvr",
        "colab_type": "code",
        "colab": {
          "base_uri": "https://localhost:8080/",
          "height": 52
        },
        "outputId": "c047e622-22a5-4a02-ed46-636bb847211b"
      },
      "cell_type": "code",
      "source": [
        "# You code here\n",
        "alice_time_df = time_df[time_df['target'] == 1]\n",
        "print(alice_time_df['seconds'].mean())\n",
        "\n",
        "non_alice_time_df = time_df[time_df['target'] == 0]\n",
        "print(non_alice_time_df['seconds'].mean())\n"
      ],
      "execution_count": 701,
      "outputs": [
        {
          "output_type": "stream",
          "text": [
            "52.29647366129734\n",
            "139.28237232552215\n"
          ],
          "name": "stdout"
        }
      ]
    },
    {
      "metadata": {
        "id": "DeiPIj_Pg09I",
        "colab_type": "code",
        "colab": {
          "base_uri": "https://localhost:8080/",
          "height": 87
        },
        "outputId": "85202ae5-7ca0-4b16-a321-0b08a1ea5178"
      },
      "cell_type": "code",
      "source": [
        "print(time_df['target'].value_counts())\n",
        "print(2297/251264)"
      ],
      "execution_count": 702,
      "outputs": [
        {
          "output_type": "stream",
          "text": [
            "0    251264\n",
            "1      2297\n",
            "Name: target, dtype: int64\n",
            "0.009141779164544065\n"
          ],
          "name": "stdout"
        }
      ]
    },
    {
      "metadata": {
        "id": "M65X98qVhSUo",
        "colab_type": "code",
        "colab": {
          "base_uri": "https://localhost:8080/",
          "height": 171
        },
        "outputId": "24b18e1f-c405-4cf3-fce1-8d967a13c005"
      },
      "cell_type": "code",
      "source": [
        "# time_df.groupby(['target'])('seconds').min()\n",
        "\n",
        "time_df.groupby(['target'])\\\n",
        "  .agg({'seconds': [np.mean, np.sum, np.min, np.max, np.std]})\n"
      ],
      "execution_count": 703,
      "outputs": [
        {
          "output_type": "execute_result",
          "data": {
            "text/html": [
              "<div>\n",
              "<style scoped>\n",
              "    .dataframe tbody tr th:only-of-type {\n",
              "        vertical-align: middle;\n",
              "    }\n",
              "\n",
              "    .dataframe tbody tr th {\n",
              "        vertical-align: top;\n",
              "    }\n",
              "\n",
              "    .dataframe thead tr th {\n",
              "        text-align: left;\n",
              "    }\n",
              "\n",
              "    .dataframe thead tr:last-of-type th {\n",
              "        text-align: right;\n",
              "    }\n",
              "</style>\n",
              "<table border=\"1\" class=\"dataframe\">\n",
              "  <thead>\n",
              "    <tr>\n",
              "      <th></th>\n",
              "      <th colspan=\"5\" halign=\"left\">seconds</th>\n",
              "    </tr>\n",
              "    <tr>\n",
              "      <th></th>\n",
              "      <th>mean</th>\n",
              "      <th>sum</th>\n",
              "      <th>amin</th>\n",
              "      <th>amax</th>\n",
              "      <th>std</th>\n",
              "    </tr>\n",
              "    <tr>\n",
              "      <th>target</th>\n",
              "      <th></th>\n",
              "      <th></th>\n",
              "      <th></th>\n",
              "      <th></th>\n",
              "      <th></th>\n",
              "    </tr>\n",
              "  </thead>\n",
              "  <tbody>\n",
              "    <tr>\n",
              "      <th>0</th>\n",
              "      <td>139.282372</td>\n",
              "      <td>34996646.0</td>\n",
              "      <td>0.0</td>\n",
              "      <td>1800.0</td>\n",
              "      <td>296.653518</td>\n",
              "    </tr>\n",
              "    <tr>\n",
              "      <th>1</th>\n",
              "      <td>52.296474</td>\n",
              "      <td>120125.0</td>\n",
              "      <td>0.0</td>\n",
              "      <td>1763.0</td>\n",
              "      <td>153.309014</td>\n",
              "    </tr>\n",
              "  </tbody>\n",
              "</table>\n",
              "</div>"
            ],
            "text/plain": [
              "           seconds                                     \n",
              "              mean         sum amin    amax         std\n",
              "target                                                 \n",
              "0       139.282372  34996646.0  0.0  1800.0  296.653518\n",
              "1        52.296474    120125.0  0.0  1763.0  153.309014"
            ]
          },
          "metadata": {
            "tags": []
          },
          "execution_count": 703
        }
      ]
    },
    {
      "metadata": {
        "id": "qqI8BTew8cQ5",
        "colab_type": "code",
        "colab": {}
      },
      "cell_type": "code",
      "source": [
        "#on average, Alice's session is shorter than that of other users\n",
        "#minimum and maximum durations of Alice's and other users' sessions are approximately the same"
      ],
      "execution_count": 0,
      "outputs": []
    },
    {
      "metadata": {
        "id": "6-BGX0jpmDC4",
        "colab_type": "code",
        "colab": {
          "base_uri": "https://localhost:8080/",
          "height": 35
        },
        "outputId": "214e7993-43e8-45f9-c191-1e4551fe7408"
      },
      "cell_type": "code",
      "source": [
        "def approx(a,b):\n",
        "  c = abs(a-b)\n",
        "  d = max(a,b)\n",
        "  return c/d\n",
        "\n",
        "print(approx(1800, 1763))"
      ],
      "execution_count": 705,
      "outputs": [
        {
          "output_type": "stream",
          "text": [
            "0.020555555555555556\n"
          ],
          "name": "stdout"
        }
      ]
    },
    {
      "metadata": {
        "id": "FZztcuhkuAqH",
        "colab_type": "code",
        "colab": {
          "base_uri": "https://localhost:8080/",
          "height": 69
        },
        "outputId": "c0f81082-924f-4a1f-e6f0-192eb46f1aa3"
      },
      "cell_type": "code",
      "source": [
        "bins = [-1,40, 1800]\n",
        "\n",
        "group_names = ['<=40', '>40']\n",
        "time_df['flag'] = pd.cut(time_df['seconds'], bins, labels=group_names)\n",
        "time_df['flag'].value_counts()"
      ],
      "execution_count": 706,
      "outputs": [
        {
          "output_type": "execute_result",
          "data": {
            "text/plain": [
              "<=40    145084\n",
              ">40     108477\n",
              "Name: flag, dtype: int64"
            ]
          },
          "metadata": {
            "tags": []
          },
          "execution_count": 706
        }
      ]
    },
    {
      "metadata": {
        "id": "x3TaUfqDbmsZ",
        "colab_type": "code",
        "colab": {
          "base_uri": "https://localhost:8080/",
          "height": 52
        },
        "outputId": "d6f89b6a-c101-446a-881b-f47dfe9befd4"
      },
      "cell_type": "code",
      "source": [
        "alice_40=time_df[(time_df['target']==1) & (time_df['seconds']>=40)]\n",
        "print(alice_40.shape[0])\n",
        "alice=time_df[(time_df['target']==1)]\n",
        "print(alice.shape[0])\n",
        "# approx_same(alice.shape[0]*.25,alice_40.shape[0])"
      ],
      "execution_count": 707,
      "outputs": [
        {
          "output_type": "stream",
          "text": [
            "554\n",
            "2297\n"
          ],
          "name": "stdout"
        }
      ]
    },
    {
      "metadata": {
        "id": "nJS2172c7xf7",
        "colab_type": "code",
        "colab": {
          "base_uri": "https://localhost:8080/",
          "height": 35
        },
        "outputId": "eca6637b-9a1e-44c0-c812-52a6411ce9b9"
      },
      "cell_type": "code",
      "source": [
        "a = 554\n",
        "b = 2297\n",
        "# c = \n",
        "print(a/b)"
      ],
      "execution_count": 708,
      "outputs": [
        {
          "output_type": "stream",
          "text": [
            "0.2411841532433609\n"
          ],
          "name": "stdout"
        }
      ]
    },
    {
      "metadata": {
        "id": "823zvNYmUWvv",
        "colab_type": "text"
      },
      "cell_type": "markdown",
      "source": [
        "In order to train our first model, we need to prepare the data. First of all, exclude the target variable from the training set. Now both training and test sets have the same number of columns, therefore aggregate them into one dataframe.  Thus, all transformations will be performed simultaneously on both training and test data sets. \n",
        "\n",
        "On the one hand, it leads to the fact that both data sets have one feature space (you don't have to worry that you forgot to transform a feature in some data sets). On the other hand, processing time will increase. \n",
        "For the enormously large sets it might turn out that it is impossible to transform both data sets simultaneously (and sometimes you have to split your transformations into several stages only for train/test data set).\n",
        "In our case, with this particular data set, we are going to perform all the transformations for the whole united dataframe at once, and before training the model or making predictions we will just take its appropriate part."
      ]
    },
    {
      "metadata": {
        "id": "bZ0MFWNIUWvw",
        "colab_type": "code",
        "colab": {}
      },
      "cell_type": "code",
      "source": [
        "# Our target variable\n",
        "y_train = train_df['target']\n",
        "\n",
        "# United dataframe of the initial data \n",
        "full_df = pd.concat([train_df.drop('target', axis=1), test_df])\n",
        "\n",
        "# Index to split the training and test data sets\n",
        "idx_split = train_df.shape[0]"
      ],
      "execution_count": 0,
      "outputs": []
    },
    {
      "metadata": {
        "id": "3kSi0dsCUWv0",
        "colab_type": "text"
      },
      "cell_type": "markdown",
      "source": [
        "For the very basic model, we will use only the visited websites in the session (but we will not take into account timestamp features). The point behind this data selection is: *Alice has her favorite sites, and the more often you see these sites in the session, the higher probability that this is Alice's session, and vice versa.*\n",
        "\n",
        "Let us prepare the data, we will take only features `site1, site2, ... , site10` from the whole dataframe. Keep in mind that the missing values are replaced with zero. Here is how the first rows of the dataframe look like:"
      ]
    },
    {
      "metadata": {
        "id": "JALfhaKwEI8o",
        "colab_type": "code",
        "colab": {
          "base_uri": "https://localhost:8080/",
          "height": 35
        },
        "outputId": "c7f99540-c456-4ba6-f2cc-40d3d7aeb187"
      },
      "cell_type": "code",
      "source": [
        "print(full_df.shape)"
      ],
      "execution_count": 710,
      "outputs": [
        {
          "output_type": "stream",
          "text": [
            "(336358, 20)\n"
          ],
          "name": "stdout"
        }
      ]
    },
    {
      "metadata": {
        "id": "CljOcyS3vfSI",
        "colab_type": "code",
        "colab": {
          "base_uri": "https://localhost:8080/",
          "height": 230
        },
        "outputId": "1e5ce5aa-3f9f-4a7d-906b-691715434aa1"
      },
      "cell_type": "code",
      "source": [
        "full_df.head(2)"
      ],
      "execution_count": 711,
      "outputs": [
        {
          "output_type": "execute_result",
          "data": {
            "text/html": [
              "<div>\n",
              "<style scoped>\n",
              "    .dataframe tbody tr th:only-of-type {\n",
              "        vertical-align: middle;\n",
              "    }\n",
              "\n",
              "    .dataframe tbody tr th {\n",
              "        vertical-align: top;\n",
              "    }\n",
              "\n",
              "    .dataframe thead th {\n",
              "        text-align: right;\n",
              "    }\n",
              "</style>\n",
              "<table border=\"1\" class=\"dataframe\">\n",
              "  <thead>\n",
              "    <tr style=\"text-align: right;\">\n",
              "      <th></th>\n",
              "      <th>site1</th>\n",
              "      <th>time1</th>\n",
              "      <th>site2</th>\n",
              "      <th>time2</th>\n",
              "      <th>site3</th>\n",
              "      <th>time3</th>\n",
              "      <th>site4</th>\n",
              "      <th>time4</th>\n",
              "      <th>site5</th>\n",
              "      <th>time5</th>\n",
              "      <th>site6</th>\n",
              "      <th>time6</th>\n",
              "      <th>site7</th>\n",
              "      <th>time7</th>\n",
              "      <th>site8</th>\n",
              "      <th>time8</th>\n",
              "      <th>site9</th>\n",
              "      <th>time9</th>\n",
              "      <th>site10</th>\n",
              "      <th>time10</th>\n",
              "    </tr>\n",
              "    <tr>\n",
              "      <th>session_id</th>\n",
              "      <th></th>\n",
              "      <th></th>\n",
              "      <th></th>\n",
              "      <th></th>\n",
              "      <th></th>\n",
              "      <th></th>\n",
              "      <th></th>\n",
              "      <th></th>\n",
              "      <th></th>\n",
              "      <th></th>\n",
              "      <th></th>\n",
              "      <th></th>\n",
              "      <th></th>\n",
              "      <th></th>\n",
              "      <th></th>\n",
              "      <th></th>\n",
              "      <th></th>\n",
              "      <th></th>\n",
              "      <th></th>\n",
              "      <th></th>\n",
              "    </tr>\n",
              "  </thead>\n",
              "  <tbody>\n",
              "    <tr>\n",
              "      <th>21669</th>\n",
              "      <td>56</td>\n",
              "      <td>2013-01-12 08:05:57</td>\n",
              "      <td>55</td>\n",
              "      <td>2013-01-12 08:05:57</td>\n",
              "      <td>0</td>\n",
              "      <td>NaT</td>\n",
              "      <td>0</td>\n",
              "      <td>NaT</td>\n",
              "      <td>0</td>\n",
              "      <td>NaT</td>\n",
              "      <td>0</td>\n",
              "      <td>NaT</td>\n",
              "      <td>0</td>\n",
              "      <td>NaT</td>\n",
              "      <td>0</td>\n",
              "      <td>NaT</td>\n",
              "      <td>0</td>\n",
              "      <td>NaT</td>\n",
              "      <td>0</td>\n",
              "      <td>NaT</td>\n",
              "    </tr>\n",
              "    <tr>\n",
              "      <th>54843</th>\n",
              "      <td>56</td>\n",
              "      <td>2013-01-12 08:37:23</td>\n",
              "      <td>55</td>\n",
              "      <td>2013-01-12 08:37:23</td>\n",
              "      <td>56</td>\n",
              "      <td>2013-01-12 09:07:07</td>\n",
              "      <td>55</td>\n",
              "      <td>2013-01-12 09:07:09</td>\n",
              "      <td>0</td>\n",
              "      <td>NaT</td>\n",
              "      <td>0</td>\n",
              "      <td>NaT</td>\n",
              "      <td>0</td>\n",
              "      <td>NaT</td>\n",
              "      <td>0</td>\n",
              "      <td>NaT</td>\n",
              "      <td>0</td>\n",
              "      <td>NaT</td>\n",
              "      <td>0</td>\n",
              "      <td>NaT</td>\n",
              "    </tr>\n",
              "  </tbody>\n",
              "</table>\n",
              "</div>"
            ],
            "text/plain": [
              "            site1               time1  site2               time2  site3  \\\n",
              "session_id                                                                \n",
              "21669          56 2013-01-12 08:05:57     55 2013-01-12 08:05:57      0   \n",
              "54843          56 2013-01-12 08:37:23     55 2013-01-12 08:37:23     56   \n",
              "\n",
              "                         time3  site4               time4  site5 time5  site6  \\\n",
              "session_id                                                                      \n",
              "21669                      NaT      0                 NaT      0   NaT      0   \n",
              "54843      2013-01-12 09:07:07     55 2013-01-12 09:07:09      0   NaT      0   \n",
              "\n",
              "           time6  site7 time7  site8 time8  site9 time9  site10 time10  \n",
              "session_id                                                              \n",
              "21669        NaT      0   NaT      0   NaT      0   NaT       0    NaT  \n",
              "54843        NaT      0   NaT      0   NaT      0   NaT       0    NaT  "
            ]
          },
          "metadata": {
            "tags": []
          },
          "execution_count": 711
        }
      ]
    },
    {
      "metadata": {
        "id": "9y4xaLAPUWv2",
        "colab_type": "code",
        "colab": {
          "base_uri": "https://localhost:8080/",
          "height": 233
        },
        "outputId": "f119dca8-4bae-428e-857d-8d508784307d"
      },
      "cell_type": "code",
      "source": [
        "# Dataframe with indices of visited websites in session\n",
        "full_sites = full_df[sites]\n",
        "full_sites.head()"
      ],
      "execution_count": 712,
      "outputs": [
        {
          "output_type": "execute_result",
          "data": {
            "text/html": [
              "<div>\n",
              "<style scoped>\n",
              "    .dataframe tbody tr th:only-of-type {\n",
              "        vertical-align: middle;\n",
              "    }\n",
              "\n",
              "    .dataframe tbody tr th {\n",
              "        vertical-align: top;\n",
              "    }\n",
              "\n",
              "    .dataframe thead th {\n",
              "        text-align: right;\n",
              "    }\n",
              "</style>\n",
              "<table border=\"1\" class=\"dataframe\">\n",
              "  <thead>\n",
              "    <tr style=\"text-align: right;\">\n",
              "      <th></th>\n",
              "      <th>site1</th>\n",
              "      <th>site2</th>\n",
              "      <th>site3</th>\n",
              "      <th>site4</th>\n",
              "      <th>site5</th>\n",
              "      <th>site6</th>\n",
              "      <th>site7</th>\n",
              "      <th>site8</th>\n",
              "      <th>site9</th>\n",
              "      <th>site10</th>\n",
              "    </tr>\n",
              "    <tr>\n",
              "      <th>session_id</th>\n",
              "      <th></th>\n",
              "      <th></th>\n",
              "      <th></th>\n",
              "      <th></th>\n",
              "      <th></th>\n",
              "      <th></th>\n",
              "      <th></th>\n",
              "      <th></th>\n",
              "      <th></th>\n",
              "      <th></th>\n",
              "    </tr>\n",
              "  </thead>\n",
              "  <tbody>\n",
              "    <tr>\n",
              "      <th>21669</th>\n",
              "      <td>56</td>\n",
              "      <td>55</td>\n",
              "      <td>0</td>\n",
              "      <td>0</td>\n",
              "      <td>0</td>\n",
              "      <td>0</td>\n",
              "      <td>0</td>\n",
              "      <td>0</td>\n",
              "      <td>0</td>\n",
              "      <td>0</td>\n",
              "    </tr>\n",
              "    <tr>\n",
              "      <th>54843</th>\n",
              "      <td>56</td>\n",
              "      <td>55</td>\n",
              "      <td>56</td>\n",
              "      <td>55</td>\n",
              "      <td>0</td>\n",
              "      <td>0</td>\n",
              "      <td>0</td>\n",
              "      <td>0</td>\n",
              "      <td>0</td>\n",
              "      <td>0</td>\n",
              "    </tr>\n",
              "    <tr>\n",
              "      <th>77292</th>\n",
              "      <td>946</td>\n",
              "      <td>946</td>\n",
              "      <td>951</td>\n",
              "      <td>946</td>\n",
              "      <td>946</td>\n",
              "      <td>945</td>\n",
              "      <td>948</td>\n",
              "      <td>784</td>\n",
              "      <td>949</td>\n",
              "      <td>946</td>\n",
              "    </tr>\n",
              "    <tr>\n",
              "      <th>114021</th>\n",
              "      <td>945</td>\n",
              "      <td>948</td>\n",
              "      <td>949</td>\n",
              "      <td>948</td>\n",
              "      <td>945</td>\n",
              "      <td>946</td>\n",
              "      <td>947</td>\n",
              "      <td>945</td>\n",
              "      <td>946</td>\n",
              "      <td>946</td>\n",
              "    </tr>\n",
              "    <tr>\n",
              "      <th>146670</th>\n",
              "      <td>947</td>\n",
              "      <td>950</td>\n",
              "      <td>948</td>\n",
              "      <td>947</td>\n",
              "      <td>950</td>\n",
              "      <td>952</td>\n",
              "      <td>946</td>\n",
              "      <td>951</td>\n",
              "      <td>946</td>\n",
              "      <td>947</td>\n",
              "    </tr>\n",
              "  </tbody>\n",
              "</table>\n",
              "</div>"
            ],
            "text/plain": [
              "            site1  site2  site3  site4  site5  site6  site7  site8  site9  \\\n",
              "session_id                                                                  \n",
              "21669          56     55      0      0      0      0      0      0      0   \n",
              "54843          56     55     56     55      0      0      0      0      0   \n",
              "77292         946    946    951    946    946    945    948    784    949   \n",
              "114021        945    948    949    948    945    946    947    945    946   \n",
              "146670        947    950    948    947    950    952    946    951    946   \n",
              "\n",
              "            site10  \n",
              "session_id          \n",
              "21669            0  \n",
              "54843            0  \n",
              "77292          946  \n",
              "114021         946  \n",
              "146670         947  "
            ]
          },
          "metadata": {
            "tags": []
          },
          "execution_count": 712
        }
      ]
    },
    {
      "metadata": {
        "id": "91q5gTdBUWv7",
        "colab_type": "text"
      },
      "cell_type": "markdown",
      "source": [
        "Sessions are sequences of website indices, and data in this representation is useless for machine learning method (just think, what happens if we switched all ids of all websites). \n",
        "\n",
        "According to our hypothesis (Alice has favorite websites), we need to transform this dataframe so each website has a corresponding feature (column) and its value is equal to number of this website visits in the session. It can be done in two lines:"
      ]
    },
    {
      "metadata": {
        "id": "Ka6KVQRNUWv9",
        "colab_type": "code",
        "colab": {
          "base_uri": "https://localhost:8080/",
          "height": 52
        },
        "outputId": "3653a74f-462c-4e43-eb20-58367c2159be"
      },
      "cell_type": "code",
      "source": [
        "# sequence of indices\n",
        "sites_flatten = full_sites.values.flatten()\n",
        "print(sites_flatten)\n",
        "print(sites_flatten.shape)\n",
        "\n",
        "# and the matrix we are looking for \n",
        "# (make sure you understand which of the `csr_matrix` constructors is used here)\n",
        "# a further toy example will help you with it\n",
        "full_sites_sparse = csr_matrix(([1] * sites_flatten.shape[0], sites_flatten,\n",
        "                                range(0, sites_flatten.shape[0]  + 10, 10)))[:, 1:]"
      ],
      "execution_count": 713,
      "outputs": [
        {
          "output_type": "stream",
          "text": [
            "[  56   55    0 ... 1098 1098 1098]\n",
            "(3363580,)\n"
          ],
          "name": "stdout"
        }
      ]
    },
    {
      "metadata": {
        "id": "ehh1RDXqUWwA",
        "colab_type": "code",
        "colab": {
          "base_uri": "https://localhost:8080/",
          "height": 35
        },
        "outputId": "bf488728-4a35-49cf-fe06-8fb7c7ff49c4"
      },
      "cell_type": "code",
      "source": [
        "full_sites_sparse.shape"
      ],
      "execution_count": 714,
      "outputs": [
        {
          "output_type": "execute_result",
          "data": {
            "text/plain": [
              "(336358, 48371)"
            ]
          },
          "metadata": {
            "tags": []
          },
          "execution_count": 714
        }
      ]
    },
    {
      "metadata": {
        "id": "qsRInImXUWwI",
        "colab_type": "code",
        "colab": {
          "base_uri": "https://localhost:8080/",
          "height": 35
        },
        "outputId": "b728ca8a-2cda-4a20-af21-7e3ea1727c7d"
      },
      "cell_type": "code",
      "source": [
        "336358*48371/1e9"
      ],
      "execution_count": 715,
      "outputs": [
        {
          "output_type": "execute_result",
          "data": {
            "text/plain": [
              "16.269972818"
            ]
          },
          "metadata": {
            "tags": []
          },
          "execution_count": 715
        }
      ]
    },
    {
      "metadata": {
        "id": "feYsiYdjUWwT",
        "colab_type": "text"
      },
      "cell_type": "markdown",
      "source": [
        "If you understand what just happened here, then you can skip the next passage (perhaps, you can handle logistic regression too?), If not, then let us figure it out.\n",
        "\n",
        "### Important detour #1: Sparse Matrices\n",
        "\n",
        "Let us estimate how much memory it will require to store our data in the example above. Our united dataframe contains 336 thousand samples of 48 thousand integer features in each. It's easy to calculate the required amount of memory, roughly:\n",
        "\n",
        "$$336\\ K * 48\\ K * 8\\ bytes \\approx 16* 10^9 * 8\\ bytes = 128\\ GB,$$\n",
        "\n",
        "(that's the [exact](http://www.wolframalpha.com/input/?i=336358*48371*8+bytes) value). Obviously, ordinary mortals have no such volumes (strictly speaking, Python may allow you to create such a matrix, but it will not be easy to do anything with it). The interesting fact is that most of the elements of our matrix are zeros. If we count non-zero elements, then it will be about 1.8 million, i.е. slightly more than 10% of all matrix elements. Such a matrix, where most elements are zeros, is called sparse, and the ratio between the number of zero elements and the total number of elements is called the sparseness of the matrix.\n",
        "\n",
        "For the work with such matrices you can use `scipy.sparse` library, check [documentation](https://docs.scipy.org/doc/scipy-0.18.1/reference/sparse.html) to understand what possible types of sparse matrices are, how to work with them and in which cases their usage is most effective. You can learn how they are arranged, for example, in Wikipedia [article](https://en.wikipedia.org/wiki/Sparse_matrix).\n",
        "Note, that a sparse matrix contains only non-zero elements, and you can get the allocated memory size like this (significant memory savings are obvious):"
      ]
    },
    {
      "metadata": {
        "id": "VAPmj45pUWwW",
        "colab_type": "code",
        "colab": {
          "base_uri": "https://localhost:8080/",
          "height": 52
        },
        "outputId": "3e470ffd-7224-4a2c-fc36-32973fb12118"
      },
      "cell_type": "code",
      "source": [
        "# How much memory does a sparse matrix occupy?\n",
        "print('{0} elements * {1} bytes = {2} bytes'.format(full_sites_sparse.count_nonzero(), 8, \n",
        "                                                    full_sites_sparse.count_nonzero() * 8))\n",
        "# Or just like this:\n",
        "print('sparse_matrix_size = {0} bytes'.format(full_sites_sparse.data.nbytes))"
      ],
      "execution_count": 716,
      "outputs": [
        {
          "output_type": "stream",
          "text": [
            "1866898 elements * 8 bytes = 14935184 bytes\n",
            "sparse_matrix_size = 14935184 bytes\n"
          ],
          "name": "stdout"
        }
      ]
    },
    {
      "metadata": {
        "id": "-FzvD7sKUWwd",
        "colab_type": "text"
      },
      "cell_type": "markdown",
      "source": [
        "Let us explore how the matrix with the websites has been formed using a mini example. Suppose we have the following table with user sessions:\n",
        "\n",
        "| id | site1 | site2 | site3 |\n",
        "|---|---|---|---|\n",
        "| 1 | 1 | 0 | 0 |\n",
        "| 2 | 1 | 3 | 1 |\n",
        "| 3 | 2 | 3 | 4 |\n",
        "\n",
        "There are 3 sessions, and no more than 3 websites in each. Users visited four different sites in total (there are numbers from 1 to 4 in the table cells). And let us assume that the mapping is:\n",
        "\n",
        " 1. vk.com\n",
        " 2. habrahabr.ru \n",
        " 3. yandex.ru\n",
        " 4. ods.ai\n",
        "\n",
        "If the user has visited less than 3 websites during the session, the last few values will be zero. We want to convert the original dataframe in a way that each session has a corresponding row which shows the number of visits to each particular site. I.e. we want to transform the previous table into the following form:\n",
        "\n",
        "| id | vk.com | habrahabr.ru | yandex.ru | ods.ai |\n",
        "|---|---|---|---|---|\n",
        "| 1 | 1 | 0 | 0 | 0 |\n",
        "| 2 | 2 | 0 | 1 | 0 |\n",
        "| 3 | 0 | 1 | 1 | 1 |\n",
        "\n",
        "\n",
        "To do this, use the constructor: `csr_matrix ((data, indices, indptr))` and create a frequency table (see examples, code and comments on the links above to see how it works). Here we set all the parameters explicitly for greater clarity:"
      ]
    },
    {
      "metadata": {
        "id": "XeMigc1Ih3aY",
        "colab_type": "code",
        "colab": {
          "base_uri": "https://localhost:8080/",
          "height": 35
        },
        "outputId": "8e5c6e20-0a0d-49ee-e634-0e5043139571"
      },
      "cell_type": "code",
      "source": [
        "data = [1] * 9\n",
        "print(data)"
      ],
      "execution_count": 717,
      "outputs": [
        {
          "output_type": "stream",
          "text": [
            "[1, 1, 1, 1, 1, 1, 1, 1, 1]\n"
          ],
          "name": "stdout"
        }
      ]
    },
    {
      "metadata": {
        "scrolled": true,
        "id": "o8kA460eUWwe",
        "colab_type": "code",
        "colab": {
          "base_uri": "https://localhost:8080/",
          "height": 69
        },
        "outputId": "6d9771be-80ea-48a7-913c-215bd15d1c13"
      },
      "cell_type": "code",
      "source": [
        "# data, create the list of ones, length of which equal to the number of elements in the initial dataframe (9)\n",
        "# By summing the number of ones in the cell, we get the frequency,\n",
        "# number of visits to a particular site per session\n",
        "data = [1] * 9\n",
        "\n",
        "# To do this, you need to correctly distribute the ones in cells\n",
        "# Indices - website ids, i.e. columns of a new matrix. We will sum ones up grouping them by sessions (ids)\n",
        "indices = [1, 0, 0, 1, 3, 1, 2, 3, 4]\n",
        "\n",
        "# Indices for the division into rows (sessions)\n",
        "# For example, line 0 is the elements between the indices [0; 3) - the rightmost value is not included\n",
        "# Line 1 is the elements between the indices [3; 6)\n",
        "# Line 2 is the elements between the indices [6; 9) \n",
        "indptr = [0, 3, 6, 9]\n",
        "\n",
        "# Aggregate these three variables into a tuple and compose a matrix\n",
        "# To display this matrix on the screen transform it into the usual \"dense\" matrix\n",
        "csr_matrix((data, indices, indptr)).todense()"
      ],
      "execution_count": 718,
      "outputs": [
        {
          "output_type": "execute_result",
          "data": {
            "text/plain": [
              "matrix([[2, 1, 0, 0, 0],\n",
              "        [0, 2, 0, 1, 0],\n",
              "        [0, 0, 1, 1, 1]])"
            ]
          },
          "metadata": {
            "tags": []
          },
          "execution_count": 718
        }
      ]
    },
    {
      "metadata": {
        "id": "cP-UdhDFUWwk",
        "colab_type": "text"
      },
      "cell_type": "markdown",
      "source": [
        "As you might have noticed, there are not four columns in the resulting matrix (corresponding to number of different websites) but five. A zero column has been added, which indicates if the session was shorter (in our mini example we took sessions of three). This column is excessive and should be removed from the dataframe (do that yourself).\n",
        "\n",
        "##### 3. What is the sparseness of the matrix in our small example?\n",
        "*For discussions, please stick to [ODS Slack](https://opendatascience.slack.com/), channel #mlcourse_ai, pinned thread __#a2_q3__*\n",
        "\n",
        "- 42%\n",
        "- 47%\n",
        "- 50%\n",
        "- 53%"
      ]
    },
    {
      "metadata": {
        "id": "0dp0bZDiUWwm",
        "colab_type": "code",
        "colab": {}
      },
      "cell_type": "code",
      "source": [
        "# Your code is here\n",
        "# non_zero = np.count_nonzero(full_sites_sparse.toarray())\n",
        "# total_val = np.product(X.shape)\n",
        "# test_df"
      ],
      "execution_count": 0,
      "outputs": []
    },
    {
      "metadata": {
        "id": "mk1_5zQjUWwq",
        "colab_type": "text"
      },
      "cell_type": "markdown",
      "source": [
        "Another benefit of using sparse matrices is that there are special implementations of both matrix operations and machine learning algorithms for them, which sometimes allows to significantly accelerate operations due to the data structure peculiarities. This applies to logistic regression as well. Now everything is ready to build our first model.\n",
        "\n",
        "### 3. Training the first model\n",
        "\n",
        "So, we have an algorithm and data for it. Let us build our first model, using [logistic regression](http://scikit-learn.org/stable/modules/generated/sklearn.linear_model.LogisticRegression.html) implementation from ` Sklearn` with default parameters. We will use the first 90% of the data for training (the training data set is sorted by time), and the remaining 10% for validation. Let's write a simple function that returns the quality of the model and then train our first classifier:"
      ]
    },
    {
      "metadata": {
        "id": "mR0rBybxUWwr",
        "colab_type": "code",
        "colab": {}
      },
      "cell_type": "code",
      "source": [
        "def get_auc_lr_valid(X, y, C=1.0, seed=17, ratio = 0.9):\n",
        "    # Split the data into the training and validation sets\n",
        "    idx = int(round(X.shape[0] * ratio))\n",
        "    # Classifier training\n",
        "    lr = LogisticRegression(C=C, random_state=seed, solver='liblinear').fit(X[:idx, :], y[:idx])\n",
        "    # Prediction for validation set\n",
        "    y_pred = lr.predict_proba(X[idx:, :])[:, 1]\n",
        "    # Calculate the quality\n",
        "    score = roc_auc_score(y[idx:], y_pred)\n",
        "    \n",
        "    return score"
      ],
      "execution_count": 0,
      "outputs": []
    },
    {
      "metadata": {
        "id": "c74FzcdPUWww",
        "colab_type": "code",
        "colab": {
          "base_uri": "https://localhost:8080/",
          "height": 69
        },
        "outputId": "a2d38a8a-8cc8-452f-aeb0-34c03a7e5a1d"
      },
      "cell_type": "code",
      "source": [
        "%%time\n",
        "# Select the training set from the united dataframe (where we have the answers)\n",
        "X_train = full_sites_sparse[:idx_split, :]\n",
        "\n",
        "# Calculate metric on the validation set\n",
        "print(get_auc_lr_valid(X_train, y_train))"
      ],
      "execution_count": 721,
      "outputs": [
        {
          "output_type": "stream",
          "text": [
            "0.9195244077552184\n",
            "CPU times: user 8.84 s, sys: 55.1 ms, total: 8.89 s\n",
            "Wall time: 8.9 s\n"
          ],
          "name": "stdout"
        }
      ]
    },
    {
      "metadata": {
        "id": "wAjMAdeFUWw2",
        "colab_type": "text"
      },
      "cell_type": "markdown",
      "source": [
        "The first model demonstrated the quality  of 0.92 on the validation set. Let's take it as the first baseline and starting point. To make a prediction on the test data set **we need to train the model again on the entire training data set** (until this moment, our model used only part of the data for training), which will increase its generalizing ability:"
      ]
    },
    {
      "metadata": {
        "id": "BVE9I3gpUWw3",
        "colab_type": "code",
        "colab": {}
      },
      "cell_type": "code",
      "source": [
        "# Function for writing predictions to a file\n",
        "def write_to_submission_file(predicted_labels, out_file,\n",
        "                             target='target', index_label=\"session_id\"):\n",
        "    predicted_df = pd.DataFrame(predicted_labels,\n",
        "                                index = np.arange(1, predicted_labels.shape[0] + 1),\n",
        "                                columns=[target])\n",
        "    predicted_df.to_csv(out_file, index_label=index_label)"
      ],
      "execution_count": 0,
      "outputs": []
    },
    {
      "metadata": {
        "id": "H0zmoR5oUWw-",
        "colab_type": "code",
        "colab": {}
      },
      "cell_type": "code",
      "source": [
        "# Train the model on the whole training data set\n",
        "# Use random_state=17 for repeatability\n",
        "# Parameter C=1 by default, but here we set it explicitly\n",
        "lr = LogisticRegression(C=1.0, random_state=17, solver='liblinear').fit(X_train, y_train)\n",
        "\n",
        "# Make a prediction for test data set\n",
        "X_test = full_sites_sparse[idx_split:,:]\n",
        "y_test = lr.predict_proba(X_test)[:, 1]\n",
        "\n",
        "# Write it to the file which could be submitted\n",
        "write_to_submission_file(y_test, 'baseline_1.csv')"
      ],
      "execution_count": 0,
      "outputs": []
    },
    {
      "metadata": {
        "id": "x0-ru79GUWxD",
        "colab_type": "text"
      },
      "cell_type": "markdown",
      "source": [
        "If you follow these steps and upload the answer to the competition [page](https://inclass.kaggle.com/c/catch-me-if-you-can-intruder-detection-through-webpage-session-tracking2), you will get `ROC AUC = 0.90812` on the public leaderboard (\"A2 baseline 1\").\n",
        "\n",
        "### 4. Model Improvement: Feature Engineering\n",
        "\n",
        "Now we are going to try to improve the quality of our model by adding new features to the data. But first, answer the following question:\n",
        "\n",
        "##### 4. What years are present in the training and test datasets, if united?\n",
        "*For discussions, please stick to [ODS Slack](https://opendatascience.slack.com/), channel #mlcourse_ai, pinned thread __#a2_q4__*\n",
        "\n",
        "- 13 and 14\n",
        "- 2012 and 2013\n",
        "- 2013 and 2014\n",
        "- 2014 and 2015"
      ]
    },
    {
      "metadata": {
        "id": "Xh6s8YGHUWxF",
        "colab_type": "code",
        "colab": {
          "base_uri": "https://localhost:8080/",
          "height": 52
        },
        "outputId": "05071a2d-d74b-4a71-cb8f-f6f1a7669301"
      },
      "cell_type": "code",
      "source": [
        "# Your code is here\n",
        "print(train_df.shape)\n",
        "print(time_df.shape)\n",
        "# time_df\n",
        "time_test_df['target'] = time_test_df.apply(lambda x: 0)\n"
      ],
      "execution_count": 724,
      "outputs": [
        {
          "output_type": "stream",
          "text": [
            "(253561, 21)\n",
            "(253561, 5)\n"
          ],
          "name": "stdout"
        }
      ]
    },
    {
      "metadata": {
        "id": "SuezHS3192HS",
        "colab_type": "code",
        "colab": {
          "base_uri": "https://localhost:8080/",
          "height": 87
        },
        "outputId": "886e6e41-c933-4579-99ed-2eedd2335872"
      },
      "cell_type": "code",
      "source": [
        "print(time_test_df.head(2))"
      ],
      "execution_count": 725,
      "outputs": [
        {
          "output_type": "stream",
          "text": [
            "                           min                 max  seconds  target\n",
            "session_id                                                         \n",
            "1          2014-10-04 11:19:53 2014-10-04 11:20:00      7.0     NaN\n",
            "2          2014-07-03 11:00:28 2014-07-03 11:01:53     85.0     NaN\n"
          ],
          "name": "stdout"
        }
      ]
    },
    {
      "metadata": {
        "id": "6znN4Gux99B6",
        "colab_type": "code",
        "colab": {
          "base_uri": "https://localhost:8080/",
          "height": 104
        },
        "outputId": "03cf1ed1-71ff-41d0-a2bd-1b7cccbcc075"
      },
      "cell_type": "code",
      "source": [
        "time_test_df.isnull().sum()"
      ],
      "execution_count": 726,
      "outputs": [
        {
          "output_type": "execute_result",
          "data": {
            "text/plain": [
              "min            0\n",
              "max            0\n",
              "seconds        0\n",
              "target     82797\n",
              "dtype: int64"
            ]
          },
          "metadata": {
            "tags": []
          },
          "execution_count": 726
        }
      ]
    },
    {
      "metadata": {
        "id": "ObqIYC3j-Lc5",
        "colab_type": "code",
        "colab": {}
      },
      "cell_type": "code",
      "source": [
        "time_test_df['target'].fillna(0, inplace=True)"
      ],
      "execution_count": 0,
      "outputs": []
    },
    {
      "metadata": {
        "id": "A1TaBtFi-cUO",
        "colab_type": "code",
        "colab": {
          "base_uri": "https://localhost:8080/",
          "height": 69
        },
        "outputId": "5bf28e89-8f68-4243-95bf-d81010ca615b"
      },
      "cell_type": "code",
      "source": [
        "#join two datasets\n",
        "final_train_test_df = pd.concat([time_df, time_test_df])\n",
        "print(time_df.shape)\n",
        "print(time_test_df.shape)\n",
        "print(final_train_test_df.shape)"
      ],
      "execution_count": 728,
      "outputs": [
        {
          "output_type": "stream",
          "text": [
            "(253561, 5)\n",
            "(82797, 4)\n",
            "(336358, 5)\n"
          ],
          "name": "stdout"
        }
      ]
    },
    {
      "metadata": {
        "id": "szP7aNlB_YIo",
        "colab_type": "code",
        "colab": {}
      },
      "cell_type": "code",
      "source": [
        "final_train_test_df['year_max'] = pd.DatetimeIndex(final_train_test_df['max']).year\n",
        "final_train_test_df['year_min'] = pd.DatetimeIndex(final_train_test_df['min']).year"
      ],
      "execution_count": 0,
      "outputs": []
    },
    {
      "metadata": {
        "id": "QV7IwYq9BkFK",
        "colab_type": "code",
        "colab": {
          "base_uri": "https://localhost:8080/",
          "height": 171
        },
        "outputId": "eb5faf2c-4b73-4fd4-c248-287a24aee4c7"
      },
      "cell_type": "code",
      "source": [
        "final_train_test_df.head(3)"
      ],
      "execution_count": 730,
      "outputs": [
        {
          "output_type": "execute_result",
          "data": {
            "text/html": [
              "<div>\n",
              "<style scoped>\n",
              "    .dataframe tbody tr th:only-of-type {\n",
              "        vertical-align: middle;\n",
              "    }\n",
              "\n",
              "    .dataframe tbody tr th {\n",
              "        vertical-align: top;\n",
              "    }\n",
              "\n",
              "    .dataframe thead th {\n",
              "        text-align: right;\n",
              "    }\n",
              "</style>\n",
              "<table border=\"1\" class=\"dataframe\">\n",
              "  <thead>\n",
              "    <tr style=\"text-align: right;\">\n",
              "      <th></th>\n",
              "      <th>flag</th>\n",
              "      <th>max</th>\n",
              "      <th>min</th>\n",
              "      <th>seconds</th>\n",
              "      <th>target</th>\n",
              "      <th>year_max</th>\n",
              "      <th>year_min</th>\n",
              "    </tr>\n",
              "    <tr>\n",
              "      <th>session_id</th>\n",
              "      <th></th>\n",
              "      <th></th>\n",
              "      <th></th>\n",
              "      <th></th>\n",
              "      <th></th>\n",
              "      <th></th>\n",
              "      <th></th>\n",
              "    </tr>\n",
              "  </thead>\n",
              "  <tbody>\n",
              "    <tr>\n",
              "      <th>21669</th>\n",
              "      <td>&lt;=40</td>\n",
              "      <td>2013-01-12 08:05:57</td>\n",
              "      <td>2013-01-12 08:05:57</td>\n",
              "      <td>0.0</td>\n",
              "      <td>0.0</td>\n",
              "      <td>2013</td>\n",
              "      <td>2013</td>\n",
              "    </tr>\n",
              "    <tr>\n",
              "      <th>54843</th>\n",
              "      <td>&gt;40</td>\n",
              "      <td>2013-01-12 09:07:09</td>\n",
              "      <td>2013-01-12 08:37:23</td>\n",
              "      <td>1786.0</td>\n",
              "      <td>0.0</td>\n",
              "      <td>2013</td>\n",
              "      <td>2013</td>\n",
              "    </tr>\n",
              "    <tr>\n",
              "      <th>77292</th>\n",
              "      <td>&lt;=40</td>\n",
              "      <td>2013-01-12 08:50:17</td>\n",
              "      <td>2013-01-12 08:50:13</td>\n",
              "      <td>4.0</td>\n",
              "      <td>0.0</td>\n",
              "      <td>2013</td>\n",
              "      <td>2013</td>\n",
              "    </tr>\n",
              "  </tbody>\n",
              "</table>\n",
              "</div>"
            ],
            "text/plain": [
              "            flag                 max                 min  seconds  target  \\\n",
              "session_id                                                                  \n",
              "21669       <=40 2013-01-12 08:05:57 2013-01-12 08:05:57      0.0     0.0   \n",
              "54843        >40 2013-01-12 09:07:09 2013-01-12 08:37:23   1786.0     0.0   \n",
              "77292       <=40 2013-01-12 08:50:17 2013-01-12 08:50:13      4.0     0.0   \n",
              "\n",
              "            year_max  year_min  \n",
              "session_id                      \n",
              "21669           2013      2013  \n",
              "54843           2013      2013  \n",
              "77292           2013      2013  "
            ]
          },
          "metadata": {
            "tags": []
          },
          "execution_count": 730
        }
      ]
    },
    {
      "metadata": {
        "id": "0x-MSjjNDqQ_",
        "colab_type": "code",
        "colab": {
          "base_uri": "https://localhost:8080/",
          "height": 52
        },
        "outputId": "df8004b7-c646-45c7-b261-19419d6ac0da"
      },
      "cell_type": "code",
      "source": [
        "print(final_train_test_df['year_max'].unique())\n",
        "print(final_train_test_df['year_min'].unique())"
      ],
      "execution_count": 731,
      "outputs": [
        {
          "output_type": "stream",
          "text": [
            "[2013 2014]\n",
            "[2013 2014]\n"
          ],
          "name": "stdout"
        }
      ]
    },
    {
      "metadata": {
        "id": "fc5ZKojaUWxJ",
        "colab_type": "text"
      },
      "cell_type": "markdown",
      "source": [
        "Create a feature that will be a number in YYYYMM format from the date when the session was held, for example 201407 -- year 2014 and 7th month. Thus, we will take into account the monthly [linear trend](http://people.duke.edu/~rnau/411trend.htm) for the entire period of the data provided."
      ]
    },
    {
      "metadata": {
        "id": "d4HL6rNBUWxK",
        "colab_type": "code",
        "colab": {}
      },
      "cell_type": "code",
      "source": [
        "# Dataframe for new features\n",
        "full_new_feat = pd.DataFrame(index=full_df.index)\n",
        "\n",
        "# Add start_month feature\n",
        "full_new_feat['start_month'] = full_df['time1'].apply(lambda ts: \n",
        "                                                      100 * ts.year + ts.month).astype('float64')"
      ],
      "execution_count": 0,
      "outputs": []
    },
    {
      "metadata": {
        "id": "ChyJlWjbEwsa",
        "colab_type": "code",
        "colab": {
          "base_uri": "https://localhost:8080/",
          "height": 141
        },
        "outputId": "728f26fd-0989-424e-d630-5bd58889eb47"
      },
      "cell_type": "code",
      "source": [
        "full_new_feat.head(2)"
      ],
      "execution_count": 733,
      "outputs": [
        {
          "output_type": "execute_result",
          "data": {
            "text/html": [
              "<div>\n",
              "<style scoped>\n",
              "    .dataframe tbody tr th:only-of-type {\n",
              "        vertical-align: middle;\n",
              "    }\n",
              "\n",
              "    .dataframe tbody tr th {\n",
              "        vertical-align: top;\n",
              "    }\n",
              "\n",
              "    .dataframe thead th {\n",
              "        text-align: right;\n",
              "    }\n",
              "</style>\n",
              "<table border=\"1\" class=\"dataframe\">\n",
              "  <thead>\n",
              "    <tr style=\"text-align: right;\">\n",
              "      <th></th>\n",
              "      <th>start_month</th>\n",
              "    </tr>\n",
              "    <tr>\n",
              "      <th>session_id</th>\n",
              "      <th></th>\n",
              "    </tr>\n",
              "  </thead>\n",
              "  <tbody>\n",
              "    <tr>\n",
              "      <th>21669</th>\n",
              "      <td>201301.0</td>\n",
              "    </tr>\n",
              "    <tr>\n",
              "      <th>54843</th>\n",
              "      <td>201301.0</td>\n",
              "    </tr>\n",
              "  </tbody>\n",
              "</table>\n",
              "</div>"
            ],
            "text/plain": [
              "            start_month\n",
              "session_id             \n",
              "21669          201301.0\n",
              "54843          201301.0"
            ]
          },
          "metadata": {
            "tags": []
          },
          "execution_count": 733
        }
      ]
    },
    {
      "metadata": {
        "id": "787KdIo5UWxQ",
        "colab_type": "text"
      },
      "cell_type": "markdown",
      "source": [
        "##### 5. Plot the graph of the number of Alice sessions versus the new feature, start_month. Choose the correct statement:\n",
        "\n",
        "*For discussions, please stick to [ODS Slack](https://opendatascience.slack.com/), channel #mlcourse_ai, pinned thread __#a2_q5__*\n",
        "\n",
        "- Alice wasn't online at all for the entire period\n",
        "- From the beginning of 2013 to mid-2014, the number of Alice's sessions per month decreased\n",
        "- The number of Alice's sessions per month is generally constant for the entire period\n",
        "- From the beginning of 2013 to mid-2014, the number of Alice's sessions per month increased\n",
        "\n",
        "*Hint: the graph will be more explicit if you treat `start_month` as a categorical ordinal variable*."
      ]
    },
    {
      "metadata": {
        "id": "iyYw1B7aJpXb",
        "colab_type": "code",
        "colab": {}
      },
      "cell_type": "code",
      "source": [
        "alice_ids = train_df[train_df['target'] == 1].reset_index()"
      ],
      "execution_count": 0,
      "outputs": []
    },
    {
      "metadata": {
        "id": "lxDkEnrBJ7xL",
        "colab_type": "code",
        "colab": {
          "base_uri": "https://localhost:8080/",
          "height": 294
        },
        "outputId": "17db3893-a8be-4ad8-ed0d-976c979837be"
      },
      "cell_type": "code",
      "source": [
        "alice_ids.head(3)"
      ],
      "execution_count": 735,
      "outputs": [
        {
          "output_type": "execute_result",
          "data": {
            "text/html": [
              "<div>\n",
              "<style scoped>\n",
              "    .dataframe tbody tr th:only-of-type {\n",
              "        vertical-align: middle;\n",
              "    }\n",
              "\n",
              "    .dataframe tbody tr th {\n",
              "        vertical-align: top;\n",
              "    }\n",
              "\n",
              "    .dataframe thead th {\n",
              "        text-align: right;\n",
              "    }\n",
              "</style>\n",
              "<table border=\"1\" class=\"dataframe\">\n",
              "  <thead>\n",
              "    <tr style=\"text-align: right;\">\n",
              "      <th></th>\n",
              "      <th>session_id</th>\n",
              "      <th>site1</th>\n",
              "      <th>time1</th>\n",
              "      <th>site2</th>\n",
              "      <th>time2</th>\n",
              "      <th>site3</th>\n",
              "      <th>time3</th>\n",
              "      <th>site4</th>\n",
              "      <th>time4</th>\n",
              "      <th>site5</th>\n",
              "      <th>...</th>\n",
              "      <th>time6</th>\n",
              "      <th>site7</th>\n",
              "      <th>time7</th>\n",
              "      <th>site8</th>\n",
              "      <th>time8</th>\n",
              "      <th>site9</th>\n",
              "      <th>time9</th>\n",
              "      <th>site10</th>\n",
              "      <th>time10</th>\n",
              "      <th>target</th>\n",
              "    </tr>\n",
              "  </thead>\n",
              "  <tbody>\n",
              "    <tr>\n",
              "      <th>0</th>\n",
              "      <td>251175</td>\n",
              "      <td>270</td>\n",
              "      <td>2013-02-12 16:25:10</td>\n",
              "      <td>270</td>\n",
              "      <td>2013-02-12 16:25:11</td>\n",
              "      <td>270</td>\n",
              "      <td>2013-02-12 16:32:10</td>\n",
              "      <td>21</td>\n",
              "      <td>2013-02-12 16:32:11</td>\n",
              "      <td>21</td>\n",
              "      <td>...</td>\n",
              "      <td>2013-02-12 16:32:25</td>\n",
              "      <td>21</td>\n",
              "      <td>2013-02-12 16:32:25</td>\n",
              "      <td>7832</td>\n",
              "      <td>2013-02-12 16:32:26</td>\n",
              "      <td>30</td>\n",
              "      <td>2013-02-12 16:32:27</td>\n",
              "      <td>7832</td>\n",
              "      <td>2013-02-12 16:32:27</td>\n",
              "      <td>1</td>\n",
              "    </tr>\n",
              "    <tr>\n",
              "      <th>1</th>\n",
              "      <td>196388</td>\n",
              "      <td>29</td>\n",
              "      <td>2013-02-12 16:32:27</td>\n",
              "      <td>7832</td>\n",
              "      <td>2013-02-12 16:32:28</td>\n",
              "      <td>37</td>\n",
              "      <td>2013-02-12 16:32:29</td>\n",
              "      <td>7832</td>\n",
              "      <td>2013-02-12 16:32:34</td>\n",
              "      <td>7832</td>\n",
              "      <td>...</td>\n",
              "      <td>2013-02-12 16:32:35</td>\n",
              "      <td>7832</td>\n",
              "      <td>2013-02-12 16:32:42</td>\n",
              "      <td>29</td>\n",
              "      <td>2013-02-12 16:32:42</td>\n",
              "      <td>7832</td>\n",
              "      <td>2013-02-12 16:32:51</td>\n",
              "      <td>7832</td>\n",
              "      <td>2013-02-12 16:32:53</td>\n",
              "      <td>1</td>\n",
              "    </tr>\n",
              "    <tr>\n",
              "      <th>2</th>\n",
              "      <td>172448</td>\n",
              "      <td>29</td>\n",
              "      <td>2013-02-12 16:32:53</td>\n",
              "      <td>7832</td>\n",
              "      <td>2013-02-12 16:33:11</td>\n",
              "      <td>7832</td>\n",
              "      <td>2013-02-12 16:33:12</td>\n",
              "      <td>29</td>\n",
              "      <td>2013-02-12 16:33:13</td>\n",
              "      <td>37</td>\n",
              "      <td>...</td>\n",
              "      <td>2013-02-12 16:33:24</td>\n",
              "      <td>29</td>\n",
              "      <td>2013-02-12 16:33:24</td>\n",
              "      <td>7832</td>\n",
              "      <td>2013-02-12 16:33:33</td>\n",
              "      <td>29</td>\n",
              "      <td>2013-02-12 16:33:34</td>\n",
              "      <td>270</td>\n",
              "      <td>2013-02-12 16:33:46</td>\n",
              "      <td>1</td>\n",
              "    </tr>\n",
              "  </tbody>\n",
              "</table>\n",
              "<p>3 rows × 22 columns</p>\n",
              "</div>"
            ],
            "text/plain": [
              "   session_id  site1               time1  site2               time2  site3  \\\n",
              "0      251175    270 2013-02-12 16:25:10    270 2013-02-12 16:25:11    270   \n",
              "1      196388     29 2013-02-12 16:32:27   7832 2013-02-12 16:32:28     37   \n",
              "2      172448     29 2013-02-12 16:32:53   7832 2013-02-12 16:33:11   7832   \n",
              "\n",
              "                time3  site4               time4  site5   ...    \\\n",
              "0 2013-02-12 16:32:10     21 2013-02-12 16:32:11     21   ...     \n",
              "1 2013-02-12 16:32:29   7832 2013-02-12 16:32:34   7832   ...     \n",
              "2 2013-02-12 16:33:12     29 2013-02-12 16:33:13     37   ...     \n",
              "\n",
              "                time6  site7               time7  site8               time8  \\\n",
              "0 2013-02-12 16:32:25     21 2013-02-12 16:32:25   7832 2013-02-12 16:32:26   \n",
              "1 2013-02-12 16:32:35   7832 2013-02-12 16:32:42     29 2013-02-12 16:32:42   \n",
              "2 2013-02-12 16:33:24     29 2013-02-12 16:33:24   7832 2013-02-12 16:33:33   \n",
              "\n",
              "   site9               time9  site10              time10  target  \n",
              "0     30 2013-02-12 16:32:27    7832 2013-02-12 16:32:27       1  \n",
              "1   7832 2013-02-12 16:32:51    7832 2013-02-12 16:32:53       1  \n",
              "2     29 2013-02-12 16:33:34     270 2013-02-12 16:33:46       1  \n",
              "\n",
              "[3 rows x 22 columns]"
            ]
          },
          "metadata": {
            "tags": []
          },
          "execution_count": 735
        }
      ]
    },
    {
      "metadata": {
        "id": "P8VnFV45UWxS",
        "colab_type": "code",
        "colab": {
          "base_uri": "https://localhost:8080/",
          "height": 411
        },
        "outputId": "95559bc9-d146-4331-88aa-ee0ec8db99ac"
      },
      "cell_type": "code",
      "source": [
        "\n",
        "\n",
        "full_new_feat_1 = full_new_feat.reset_index()\n",
        "#select the ids with alice_ids\n",
        "print(full_new_feat_1.shape)\n",
        "alice_sess_list = alice_ids['session_id'].values\n",
        "\n",
        "full_new_feat_2 = full_new_feat_1[full_new_feat_1['session_id'].isin(alice_sess_list)]  \n",
        "print(full_new_feat_2.shape)\n",
        "\n",
        "\n",
        "full_new_feat_2 = full_new_feat_2.groupby('start_month').count().reset_index()\n",
        "\n",
        "start_month = full_new_feat_2['start_month'].values\n",
        "\n",
        "session_id = full_new_feat_2['session_id'].values\n",
        "\n",
        "plt.plot(start_month, session_id, color='g')\n",
        "\n",
        "plt.xlabel('time')\n",
        "plt.ylabel('Session Count')\n",
        "plt.title('Session count vs time')\n",
        "plt.show()"
      ],
      "execution_count": 736,
      "outputs": [
        {
          "output_type": "stream",
          "text": [
            "(336358, 2)\n",
            "(3054, 2)\n"
          ],
          "name": "stdout"
        },
        {
          "output_type": "display_data",
          "data": {
            "image/png": "[encoded data removed]",
            "text/plain": [
              "<Figure size 576x396 with 1 Axes>"
            ]
          },
          "metadata": {
            "tags": []
          }
        }
      ]
    },
    {
      "metadata": {
        "id": "qFE1sWO-UWxW",
        "colab_type": "text"
      },
      "cell_type": "markdown",
      "source": [
        "In this way, we have an illustration and thoughts about the usefulness of the new feature, add it to the training sample and check the quality of the new model:"
      ]
    },
    {
      "metadata": {
        "id": "rIO-mXLyI8MS",
        "colab_type": "code",
        "colab": {
          "base_uri": "https://localhost:8080/",
          "height": 139
        },
        "outputId": "7ad3db94-3376-48ec-d8e0-f7de7551506a"
      },
      "cell_type": "code",
      "source": [
        "tmp = full_new_feat[['start_month']].values\n",
        "print(tmp)"
      ],
      "execution_count": 737,
      "outputs": [
        {
          "output_type": "stream",
          "text": [
            "[[201301.]\n",
            " [201301.]\n",
            " [201301.]\n",
            " ...\n",
            " [201405.]\n",
            " [201405.]\n",
            " [201411.]]\n"
          ],
          "name": "stdout"
        }
      ]
    },
    {
      "metadata": {
        "id": "x-UM5NM-SCnW",
        "colab_type": "code",
        "colab": {
          "base_uri": "https://localhost:8080/",
          "height": 35
        },
        "outputId": "4992b207-cd25-4b85-bb9f-3f31edcc1641"
      },
      "cell_type": "code",
      "source": [
        "idx_split"
      ],
      "execution_count": 738,
      "outputs": [
        {
          "output_type": "execute_result",
          "data": {
            "text/plain": [
              "253561"
            ]
          },
          "metadata": {
            "tags": []
          },
          "execution_count": 738
        }
      ]
    },
    {
      "metadata": {
        "id": "vaGMrz0pSeO3",
        "colab_type": "code",
        "colab": {
          "base_uri": "https://localhost:8080/",
          "height": 52
        },
        "outputId": "fa2d70a8-6886-4c86-e3f2-f6cfcb716f42"
      },
      "cell_type": "code",
      "source": [
        "full_sites_sparse"
      ],
      "execution_count": 739,
      "outputs": [
        {
          "output_type": "execute_result",
          "data": {
            "text/plain": [
              "<336358x48371 sparse matrix of type '<class 'numpy.int64'>'\n",
              "\twith 1866898 stored elements in Compressed Sparse Row format>"
            ]
          },
          "metadata": {
            "tags": []
          },
          "execution_count": 739
        }
      ]
    },
    {
      "metadata": {
        "id": "hvAweB0TUWxX",
        "colab_type": "code",
        "colab": {
          "base_uri": "https://localhost:8080/",
          "height": 35
        },
        "outputId": "9446a610-55bc-47d0-ad11-9b68929bd4a0"
      },
      "cell_type": "code",
      "source": [
        "# Add the new feature to the sparse matrix\n",
        "tmp = full_new_feat[['start_month']].values\n",
        "X_train = csr_matrix(hstack([full_sites_sparse[:idx_split,:], tmp[:idx_split,:]]))\n",
        "\n",
        "# Compute the metric on the validation set\n",
        "print(get_auc_lr_valid(X_train, y_train))"
      ],
      "execution_count": 740,
      "outputs": [
        {
          "output_type": "stream",
          "text": [
            "0.7508354860175162\n"
          ],
          "name": "stdout"
        }
      ]
    },
    {
      "metadata": {
        "id": "q4t2N_GFUWxb",
        "colab_type": "text"
      },
      "cell_type": "markdown",
      "source": [
        "The quality of the model has decreased significantly. We added a feature that definitely seemed useful to us, but its usage only worsened the model. Why did it happen?\n",
        "\n",
        "### Important detour #2: is it necessary to scale features?\n",
        "\n",
        "Here we give an intuitive reasoning (a rigorous mathematical justification for one or another aspect in linear models you can easily find on the internet). Consider the features more closely: those of them that correspond to the number of visits to a particular web-site per session vary from 0 to 10. The feature `start_month` has a completely different range: from 201301 to 201412, this means the contribution of this variable is significantly greater than the others. It would seem that problem can be avoided if we put less weight in a linear combination of attributes in this case, but in our case logistic regression with regularization is used (by default, this parameter is `C = 1`), which penalizes the model the stronger the greater its weights are. Therefore, for linear methods with regularization, it is recommended to convert features to the same scale (you can read more about the regularization, for example, [here](https://habrahabr.ru/company/ods/blog/322076/)).\n",
        "\n",
        "One way to do this is standardization: for each observation you need to subtract the average value of the feature and divide this difference by the standard deviation:\n",
        "\n",
        "$$ x^{*}_{i} = \\dfrac{x_{i} - \\mu_x}{\\sigma_x}$$\n",
        "\n",
        "The following practical tips can be given:\n",
        "- It is recommended to scale features if they have essentially different ranges or different units of measurement (for example, the country's population is indicated in units, and the country's GNP in trillions)\n",
        "- Scale features if you do not have a reason/expert opinion to give a greater weight to any of them\n",
        "- Scaling can be excessive if the ranges of some of your features differ from each other, but they are in the same system of units (for example, the proportion of middle-aged people and people over 80 among the entire population)\n",
        "- If you want to get an interpreted model, then build a model without regularization and scaling (most likely, its quality will be worse)\n",
        "- Binary features (which take only values of 0 or 1) are usually left without conversion, (but)\n",
        "- If the quality of the model is crucial, try different options and select one where the quality is better\n",
        "\n",
        "Getting back to `start_month`, let us rescale the new feature and train the model again. This time the quality has increased:"
      ]
    },
    {
      "metadata": {
        "id": "KofLV8ccYba_",
        "colab_type": "code",
        "colab": {
          "base_uri": "https://localhost:8080/",
          "height": 141
        },
        "outputId": "5a506481-789a-4055-8912-818e277e7538"
      },
      "cell_type": "code",
      "source": [
        "full_new_feat.head(2)"
      ],
      "execution_count": 741,
      "outputs": [
        {
          "output_type": "execute_result",
          "data": {
            "text/html": [
              "<div>\n",
              "<style scoped>\n",
              "    .dataframe tbody tr th:only-of-type {\n",
              "        vertical-align: middle;\n",
              "    }\n",
              "\n",
              "    .dataframe tbody tr th {\n",
              "        vertical-align: top;\n",
              "    }\n",
              "\n",
              "    .dataframe thead th {\n",
              "        text-align: right;\n",
              "    }\n",
              "</style>\n",
              "<table border=\"1\" class=\"dataframe\">\n",
              "  <thead>\n",
              "    <tr style=\"text-align: right;\">\n",
              "      <th></th>\n",
              "      <th>start_month</th>\n",
              "    </tr>\n",
              "    <tr>\n",
              "      <th>session_id</th>\n",
              "      <th></th>\n",
              "    </tr>\n",
              "  </thead>\n",
              "  <tbody>\n",
              "    <tr>\n",
              "      <th>21669</th>\n",
              "      <td>201301.0</td>\n",
              "    </tr>\n",
              "    <tr>\n",
              "      <th>54843</th>\n",
              "      <td>201301.0</td>\n",
              "    </tr>\n",
              "  </tbody>\n",
              "</table>\n",
              "</div>"
            ],
            "text/plain": [
              "            start_month\n",
              "session_id             \n",
              "21669          201301.0\n",
              "54843          201301.0"
            ]
          },
          "metadata": {
            "tags": []
          },
          "execution_count": 741
        }
      ]
    },
    {
      "metadata": {
        "id": "Q8Ee0dIiUWxk",
        "colab_type": "code",
        "colab": {
          "base_uri": "https://localhost:8080/",
          "height": 35
        },
        "outputId": "3fa64a1a-ac86-4ae3-af58-bb14f023d6b9"
      },
      "cell_type": "code",
      "source": [
        "# Add the new standardized feature to the sparse matrix\n",
        "tmp = StandardScaler().fit_transform(full_new_feat[['start_month']])\n",
        "X_train = csr_matrix(hstack([full_sites_sparse[:idx_split,:], tmp[:idx_split,:]]))\n",
        "\n",
        "# Compute metric on the validation set\n",
        "print(get_auc_lr_valid(X_train, y_train))"
      ],
      "execution_count": 742,
      "outputs": [
        {
          "output_type": "stream",
          "text": [
            "0.9196990680356892\n"
          ],
          "name": "stdout"
        }
      ]
    },
    {
      "metadata": {
        "id": "hBZ-kXFFUWxq",
        "colab_type": "text"
      },
      "cell_type": "markdown",
      "source": [
        "##### 6. Add to the training set a new feature \"n_unique_sites\" – the number of the unique web-sites in a session. Calculate how the quality on the validation set has changed\n",
        "\n",
        "*For discussions, please stick to [ODS Slack](https://opendatascience.slack.com/), channel #mlcourse_ai, pinned thread __#a2_q6__*\n",
        "\n",
        "- It has decreased. It is better not to add a new feature.\n",
        "- It has not changed.\n",
        "- It has decreased. The new feature should be scaled.\n",
        "- I am confused, and I do not know if it's necessary to scale a new feature.\n",
        "\n",
        "*Tips: use the nunique() function from `pandas`. Do not forget to include the start_month in the set. Will you scale a new feature? Why?*"
      ]
    },
    {
      "metadata": {
        "id": "cLKNR2W1bkHT",
        "colab_type": "code",
        "colab": {
          "base_uri": "https://localhost:8080/",
          "height": 141
        },
        "outputId": "b396ce18-745b-4e94-80c3-2f694a135f9d"
      },
      "cell_type": "code",
      "source": [
        "full_new_feat.head(2)"
      ],
      "execution_count": 743,
      "outputs": [
        {
          "output_type": "execute_result",
          "data": {
            "text/html": [
              "<div>\n",
              "<style scoped>\n",
              "    .dataframe tbody tr th:only-of-type {\n",
              "        vertical-align: middle;\n",
              "    }\n",
              "\n",
              "    .dataframe tbody tr th {\n",
              "        vertical-align: top;\n",
              "    }\n",
              "\n",
              "    .dataframe thead th {\n",
              "        text-align: right;\n",
              "    }\n",
              "</style>\n",
              "<table border=\"1\" class=\"dataframe\">\n",
              "  <thead>\n",
              "    <tr style=\"text-align: right;\">\n",
              "      <th></th>\n",
              "      <th>start_month</th>\n",
              "    </tr>\n",
              "    <tr>\n",
              "      <th>session_id</th>\n",
              "      <th></th>\n",
              "    </tr>\n",
              "  </thead>\n",
              "  <tbody>\n",
              "    <tr>\n",
              "      <th>21669</th>\n",
              "      <td>201301.0</td>\n",
              "    </tr>\n",
              "    <tr>\n",
              "      <th>54843</th>\n",
              "      <td>201301.0</td>\n",
              "    </tr>\n",
              "  </tbody>\n",
              "</table>\n",
              "</div>"
            ],
            "text/plain": [
              "            start_month\n",
              "session_id             \n",
              "21669          201301.0\n",
              "54843          201301.0"
            ]
          },
          "metadata": {
            "tags": []
          },
          "execution_count": 743
        }
      ]
    },
    {
      "metadata": {
        "id": "wpoDGkpy2sLo",
        "colab_type": "code",
        "colab": {}
      },
      "cell_type": "code",
      "source": [
        "unique_count_1  = pd.DataFrame(index=full_df.index)"
      ],
      "execution_count": 0,
      "outputs": []
    },
    {
      "metadata": {
        "id": "MCq1jOTY3N_g",
        "colab_type": "code",
        "colab": {
          "base_uri": "https://localhost:8080/",
          "height": 52
        },
        "outputId": "a1f1879c-df04-4f3b-d7df-be24f8989791"
      },
      "cell_type": "code",
      "source": [
        "%%time\n",
        "#Getting Unique Counts\n",
        "unique_count = []\n",
        "for row in full_sites.values:\n",
        "    unique = np.unique (row)\n",
        "    \n",
        "    if 0 in unique:\n",
        "        unique_count.append(len(unique) - 1)\n",
        "    else:\n",
        "        unique_count.append(len(unique))\n",
        "unique_count = np.array(unique_count).reshape(-1,1)\n"
      ],
      "execution_count": 745,
      "outputs": [
        {
          "output_type": "stream",
          "text": [
            "CPU times: user 4.06 s, sys: 8.05 ms, total: 4.07 s\n",
            "Wall time: 4.06 s\n"
          ],
          "name": "stdout"
        }
      ]
    },
    {
      "metadata": {
        "id": "s2Yrx2JF32IV",
        "colab_type": "code",
        "colab": {}
      },
      "cell_type": "code",
      "source": [
        "unique_count_1 = pd.DataFrame(unique_count, index = full_df.index)"
      ],
      "execution_count": 0,
      "outputs": []
    },
    {
      "metadata": {
        "id": "7gUJDrQU03WY",
        "colab_type": "code",
        "colab": {}
      },
      "cell_type": "code",
      "source": [
        "full_new_feat['n_unique_sites'] = unique_count_1"
      ],
      "execution_count": 0,
      "outputs": []
    },
    {
      "metadata": {
        "id": "2BeYTlA21Bbj",
        "colab_type": "code",
        "colab": {
          "base_uri": "https://localhost:8080/",
          "height": 35
        },
        "outputId": "54de1dbc-f734-4120-ac1c-283c22c33424"
      },
      "cell_type": "code",
      "source": [
        "full_new_feat.shape"
      ],
      "execution_count": 748,
      "outputs": [
        {
          "output_type": "execute_result",
          "data": {
            "text/plain": [
              "(336358, 2)"
            ]
          },
          "metadata": {
            "tags": []
          },
          "execution_count": 748
        }
      ]
    },
    {
      "metadata": {
        "id": "Ah8MKieT1EIA",
        "colab_type": "code",
        "colab": {
          "base_uri": "https://localhost:8080/",
          "height": 141
        },
        "outputId": "9fcf9f6d-3463-47c1-d537-d6fd21d97312"
      },
      "cell_type": "code",
      "source": [
        "full_new_feat.head(2)"
      ],
      "execution_count": 749,
      "outputs": [
        {
          "output_type": "execute_result",
          "data": {
            "text/html": [
              "<div>\n",
              "<style scoped>\n",
              "    .dataframe tbody tr th:only-of-type {\n",
              "        vertical-align: middle;\n",
              "    }\n",
              "\n",
              "    .dataframe tbody tr th {\n",
              "        vertical-align: top;\n",
              "    }\n",
              "\n",
              "    .dataframe thead th {\n",
              "        text-align: right;\n",
              "    }\n",
              "</style>\n",
              "<table border=\"1\" class=\"dataframe\">\n",
              "  <thead>\n",
              "    <tr style=\"text-align: right;\">\n",
              "      <th></th>\n",
              "      <th>start_month</th>\n",
              "      <th>n_unique_sites</th>\n",
              "    </tr>\n",
              "    <tr>\n",
              "      <th>session_id</th>\n",
              "      <th></th>\n",
              "      <th></th>\n",
              "    </tr>\n",
              "  </thead>\n",
              "  <tbody>\n",
              "    <tr>\n",
              "      <th>21669</th>\n",
              "      <td>201301.0</td>\n",
              "      <td>2</td>\n",
              "    </tr>\n",
              "    <tr>\n",
              "      <th>54843</th>\n",
              "      <td>201301.0</td>\n",
              "      <td>2</td>\n",
              "    </tr>\n",
              "  </tbody>\n",
              "</table>\n",
              "</div>"
            ],
            "text/plain": [
              "            start_month  n_unique_sites\n",
              "session_id                             \n",
              "21669          201301.0               2\n",
              "54843          201301.0               2"
            ]
          },
          "metadata": {
            "tags": []
          },
          "execution_count": 749
        }
      ]
    },
    {
      "metadata": {
        "id": "dWXm9e3LUWxr",
        "colab_type": "code",
        "colab": {
          "base_uri": "https://localhost:8080/",
          "height": 124
        },
        "outputId": "8b783381-1136-4905-e259-8621ee19ccdb"
      },
      "cell_type": "code",
      "source": [
        "# Your code is here\n",
        "\n",
        "\n",
        "# Add the new standardized feature to the sparse matrix\n",
        "tmp = StandardScaler().fit_transform(full_new_feat[['start_month', 'n_unique_sites']])\n",
        "X_train = csr_matrix(hstack([full_sites_sparse[:idx_split,:], tmp[:idx_split,:]]))\n",
        "\n",
        "# Compute metric on the validation set\n",
        "print(get_auc_lr_valid(X_train, y_train))\n"
      ],
      "execution_count": 750,
      "outputs": [
        {
          "output_type": "stream",
          "text": [
            "/usr/local/lib/python3.6/dist-packages/sklearn/preprocessing/data.py:625: DataConversionWarning: Data with input dtype int64, float64 were all converted to float64 by StandardScaler.\n",
            "  return self.partial_fit(X, y)\n",
            "/usr/local/lib/python3.6/dist-packages/sklearn/base.py:462: DataConversionWarning: Data with input dtype int64, float64 were all converted to float64 by StandardScaler.\n",
            "  return self.fit(X, **fit_params).transform(X)\n"
          ],
          "name": "stderr"
        },
        {
          "output_type": "stream",
          "text": [
            "0.9161731796685169\n"
          ],
          "name": "stdout"
        }
      ]
    },
    {
      "metadata": {
        "id": "DFiQw2U9UWxx",
        "colab_type": "text"
      },
      "cell_type": "markdown",
      "source": [
        "So, the new feature has slightly decreased the quality, so we will not use it. Nevertheless, do not rush to throw features out because they haven't performed well. They can be useful in a combination with other features (for example, when a new feature is a ratio or a product of two others).\n",
        "\n",
        "#####  7. Add two new features: start_hour and morning. Calculate the metric. Which of these features gives an improvement?\n",
        "\n",
        "The `start_hour` feature is the hour at which the session started (from 0 to 23), and the binary feature `morning` is equal to 1 if the session started in the morning and 0 if the session started later (we assume that morning means `start_hour` is equal to 11 or less).\n",
        "\n",
        "Will you scale the new features? Make your assumptions and test them in practice.\n",
        "\n",
        "*For discussions, please stick to [ODS Slack](https://opendatascience.slack.com/), channel #mlcourse_ai, pinned thread __#a2_q7__*\n",
        "\n",
        "- None of the features gave an improvement :(\n",
        "- `start_hour` feature gave an improvement, and `morning` did not\n",
        "- `morning` feature gave an improvement, and `start_hour` did not\n",
        "- Both features gave an improvement\n",
        "\n",
        "*Tip: find suitable functions for working with time series data in [documentation](http://pandas.pydata.org/pandas-docs/stable/api.html). Do not forget to include the `start_month` feature.*"
      ]
    },
    {
      "metadata": {
        "id": "sA705x16UWxy",
        "colab_type": "code",
        "colab": {}
      },
      "cell_type": "code",
      "source": [
        "# Your code is here\n",
        "\n",
        "full_new_feat['start_hour']  =  full_df['time1'].apply(lambda ts: ts.hour) \n",
        "full_new_feat['morning']  = full_new_feat['start_hour'].apply(lambda x: 1 if ((x >= 7) & (x <= 11)) else 0 )\n"
      ],
      "execution_count": 0,
      "outputs": []
    },
    {
      "metadata": {
        "id": "ljac5cG3Lcwt",
        "colab_type": "code",
        "colab": {
          "base_uri": "https://localhost:8080/",
          "height": 141
        },
        "outputId": "e559bddb-67f2-4a67-9137-80a41eca513b"
      },
      "cell_type": "code",
      "source": [
        "full_new_feat.head(2)"
      ],
      "execution_count": 752,
      "outputs": [
        {
          "output_type": "execute_result",
          "data": {
            "text/html": [
              "<div>\n",
              "<style scoped>\n",
              "    .dataframe tbody tr th:only-of-type {\n",
              "        vertical-align: middle;\n",
              "    }\n",
              "\n",
              "    .dataframe tbody tr th {\n",
              "        vertical-align: top;\n",
              "    }\n",
              "\n",
              "    .dataframe thead th {\n",
              "        text-align: right;\n",
              "    }\n",
              "</style>\n",
              "<table border=\"1\" class=\"dataframe\">\n",
              "  <thead>\n",
              "    <tr style=\"text-align: right;\">\n",
              "      <th></th>\n",
              "      <th>start_month</th>\n",
              "      <th>n_unique_sites</th>\n",
              "      <th>start_hour</th>\n",
              "      <th>morning</th>\n",
              "    </tr>\n",
              "    <tr>\n",
              "      <th>session_id</th>\n",
              "      <th></th>\n",
              "      <th></th>\n",
              "      <th></th>\n",
              "      <th></th>\n",
              "    </tr>\n",
              "  </thead>\n",
              "  <tbody>\n",
              "    <tr>\n",
              "      <th>21669</th>\n",
              "      <td>201301.0</td>\n",
              "      <td>2</td>\n",
              "      <td>8</td>\n",
              "      <td>1</td>\n",
              "    </tr>\n",
              "    <tr>\n",
              "      <th>54843</th>\n",
              "      <td>201301.0</td>\n",
              "      <td>2</td>\n",
              "      <td>8</td>\n",
              "      <td>1</td>\n",
              "    </tr>\n",
              "  </tbody>\n",
              "</table>\n",
              "</div>"
            ],
            "text/plain": [
              "            start_month  n_unique_sites  start_hour  morning\n",
              "session_id                                                  \n",
              "21669          201301.0               2           8        1\n",
              "54843          201301.0               2           8        1"
            ]
          },
          "metadata": {
            "tags": []
          },
          "execution_count": 752
        }
      ]
    },
    {
      "metadata": {
        "id": "I6na7lPiLnF1",
        "colab_type": "code",
        "colab": {
          "base_uri": "https://localhost:8080/",
          "height": 124
        },
        "outputId": "1cb61852-10f7-454c-f911-db423ea5c55b"
      },
      "cell_type": "code",
      "source": [
        "# Add the new standardized feature to the sparse matrix\n",
        "tmp = StandardScaler().fit_transform(full_new_feat[['start_month', 'n_unique_sites', 'start_hour','morning']])\n",
        "X_train = csr_matrix(hstack([full_sites_sparse[:idx_split,:], tmp[:idx_split,:]]))\n",
        "\n",
        "# Compute metric on the validation set\n",
        "print(get_auc_lr_valid(X_train, y_train))"
      ],
      "execution_count": 753,
      "outputs": [
        {
          "output_type": "stream",
          "text": [
            "/usr/local/lib/python3.6/dist-packages/sklearn/preprocessing/data.py:625: DataConversionWarning: Data with input dtype int64, float64 were all converted to float64 by StandardScaler.\n",
            "  return self.partial_fit(X, y)\n",
            "/usr/local/lib/python3.6/dist-packages/sklearn/base.py:462: DataConversionWarning: Data with input dtype int64, float64 were all converted to float64 by StandardScaler.\n",
            "  return self.fit(X, **fit_params).transform(X)\n"
          ],
          "name": "stderr"
        },
        {
          "output_type": "stream",
          "text": [
            "0.9559379060813782\n"
          ],
          "name": "stdout"
        }
      ]
    },
    {
      "metadata": {
        "id": "rCU_HWh3UWx1",
        "colab_type": "text"
      },
      "cell_type": "markdown",
      "source": [
        "### 5. Regularization and Parameter Tuning\n",
        "\n",
        "We have introduced features that improve the quality of our model in comparison with the first baseline. Can we do even better? After we have changed the training and test sets, it almost always makes sense to search for the optimal hyperparameters - the parameters of the model that do not change during training.\n",
        "\n",
        "For example, in week 3, you learned that, in decision trees, the depth of the tree is a hyperparameter, but the feature by which splitting occurs and its threshold is not. \n",
        "\n",
        "In the logistic regression that we use, the weights of each feature are changing, and we find their optimal values during training; meanwhile, the regularization parameter remains constant. This is the hyperparameter that we are going to optimize now.\n",
        "\n",
        "Calculate the quality on a validation set with a regularization parameter, which is equal to 1 by default:"
      ]
    },
    {
      "metadata": {
        "id": "8B6ZGW_7UWx2",
        "colab_type": "code",
        "colab": {
          "base_uri": "https://localhost:8080/",
          "height": 124
        },
        "outputId": "f96d8924-c925-4bf0-ce54-6f90e4c32d99"
      },
      "cell_type": "code",
      "source": [
        "# Compose the training set\n",
        "tmp_scaled = StandardScaler().fit_transform(full_new_feat[['start_month', \n",
        "                                                           'start_hour', \n",
        "                                                           'morning']])\n",
        "X_train = csr_matrix(hstack([full_sites_sparse[:idx_split,:], \n",
        "                             tmp_scaled[:idx_split,:]]))\n",
        "\n",
        "# Capture the quality with default parameters\n",
        "score_C_1 = get_auc_lr_valid(X_train, y_train)\n",
        "print(score_C_1)"
      ],
      "execution_count": 754,
      "outputs": [
        {
          "output_type": "stream",
          "text": [
            "/usr/local/lib/python3.6/dist-packages/sklearn/preprocessing/data.py:625: DataConversionWarning: Data with input dtype int64, float64 were all converted to float64 by StandardScaler.\n",
            "  return self.partial_fit(X, y)\n",
            "/usr/local/lib/python3.6/dist-packages/sklearn/base.py:462: DataConversionWarning: Data with input dtype int64, float64 were all converted to float64 by StandardScaler.\n",
            "  return self.fit(X, **fit_params).transform(X)\n"
          ],
          "name": "stderr"
        },
        {
          "output_type": "stream",
          "text": [
            "0.9591502513175755\n"
          ],
          "name": "stdout"
        }
      ]
    },
    {
      "metadata": {
        "id": "CjAQPFpQUWx5",
        "colab_type": "text"
      },
      "cell_type": "markdown",
      "source": [
        "We will try to beat this result by optimizing the regularization parameter. We will take a list of possible values of C and calculate the quality metric on the validation set for each of C-values:"
      ]
    },
    {
      "metadata": {
        "id": "sVr0HasoUWx6",
        "colab_type": "code",
        "colab": {
          "base_uri": "https://localhost:8080/",
          "height": 35
        },
        "outputId": "a70763df-5af3-4f20-b910-033d7e1e195b"
      },
      "cell_type": "code",
      "source": [
        "from tqdm import tqdm\n",
        "\n",
        "# List of possible C-values\n",
        "Cs = np.logspace(-3, 1, 10)\n",
        "scores = []\n",
        "for C in tqdm(Cs):\n",
        "    scores.append(get_auc_lr_valid(X_train, y_train, C=C))"
      ],
      "execution_count": 755,
      "outputs": [
        {
          "output_type": "stream",
          "text": [
            "100%|██████████| 10/10 [01:02<00:00, 11.65s/it]\n"
          ],
          "name": "stderr"
        }
      ]
    },
    {
      "metadata": {
        "id": "ZE4PSslKUWx8",
        "colab_type": "text"
      },
      "cell_type": "markdown",
      "source": [
        "Plot the graph of the quality metric (AUC-ROC) versus the value of the regularization parameter. The value of quality metric corresponding to the default value of C=1 is represented by a horizontal dotted line:"
      ]
    },
    {
      "metadata": {
        "id": "KcJLoTviUWyB",
        "colab_type": "code",
        "colab": {
          "base_uri": "https://localhost:8080/",
          "height": 381
        },
        "outputId": "221a7cad-a614-4f01-8501-b6d43dc0c08f"
      },
      "cell_type": "code",
      "source": [
        "plt.plot(Cs, scores, 'ro-')\n",
        "plt.xscale('log')\n",
        "plt.xlabel('C')\n",
        "plt.ylabel('AUC-ROC')\n",
        "plt.title('Regularization Parameter Tuning')\n",
        "# horizontal line -- model quality with default C value\n",
        "plt.axhline(y=score_C_1, linewidth=.5, color='b', linestyle='dashed') \n",
        "plt.show()"
      ],
      "execution_count": 756,
      "outputs": [
        {
          "output_type": "display_data",
          "data": {
            "image/png": "[encoded data removed]",
            "text/plain": [
              "<Figure size 576x396 with 1 Axes>"
            ]
          },
          "metadata": {
            "tags": []
          }
        }
      ]
    },
    {
      "metadata": {
        "id": "bvQLtGX8UWyD",
        "colab_type": "text"
      },
      "cell_type": "markdown",
      "source": [
        "##### 8. What is the value of parameter C (if rounded to 2 decimals) that corresponds to the highest model quality?\n",
        "\n",
        "*For discussions, please stick to [ODS Slack](https://opendatascience.slack.com/), channel #mlcourse_ai, pinned thread __#a2_q8__*\n",
        "\n",
        "- 0.17\n",
        "- 0.46\n",
        "- 1.29\n",
        "- 3.14"
      ]
    },
    {
      "metadata": {
        "id": "VvH0U4eDUWyF",
        "colab_type": "code",
        "colab": {}
      },
      "cell_type": "code",
      "source": [
        "# Your code is here\n"
      ],
      "execution_count": 0,
      "outputs": []
    },
    {
      "metadata": {
        "id": "ucwP1CtPUWyK",
        "colab_type": "text"
      },
      "cell_type": "markdown",
      "source": [
        "For the last task in this assignment: train the model using the optimal regularization parameter you found (do not round up to two digits like in the last question). If you do everything correctly and submit your solution, you should see `ROC AUC = 0.92784` on the public leaderboard (\"A2 baseline 2\"):"
      ]
    },
    {
      "metadata": {
        "id": "f7_8uNRWUWyK",
        "colab_type": "code",
        "colab": {
          "base_uri": "https://localhost:8080/",
          "height": 107
        },
        "outputId": "2d5c383a-e99c-4531-e714-a5813a1d15d8"
      },
      "cell_type": "code",
      "source": [
        "# Prepare the training and test data\n",
        "tmp_scaled = StandardScaler().fit_transform(full_new_feat[['start_month', 'start_hour', \n",
        "                                                           'morning']])\n",
        "X_train = csr_matrix(hstack([full_sites_sparse[:idx_split,:], \n",
        "                             tmp_scaled[:idx_split,:]]))\n",
        "X_test = csr_matrix(hstack([full_sites_sparse[idx_split:,:], \n",
        "                            tmp_scaled[idx_split:,:]]))\n",
        "\n",
        "# Train the model on the whole training data set using optimal regularization parameter\n",
        "lr = LogisticRegression(C=C, random_state=17, solver='liblinear').fit(X_train, y_train)\n",
        "\n",
        "# with C = 0.09 -- 0.92718(LB)\n",
        "# Make a prediction for the test set\n",
        "y_test = lr.predict_proba(X_test)[:, 1]\n",
        "\n",
        "# Write it to the submission file\n",
        "write_to_submission_file(y_test, 'baseline_2.csv')"
      ],
      "execution_count": 757,
      "outputs": [
        {
          "output_type": "stream",
          "text": [
            "/usr/local/lib/python3.6/dist-packages/sklearn/preprocessing/data.py:625: DataConversionWarning: Data with input dtype int64, float64 were all converted to float64 by StandardScaler.\n",
            "  return self.partial_fit(X, y)\n",
            "/usr/local/lib/python3.6/dist-packages/sklearn/base.py:462: DataConversionWarning: Data with input dtype int64, float64 were all converted to float64 by StandardScaler.\n",
            "  return self.fit(X, **fit_params).transform(X)\n"
          ],
          "name": "stderr"
        }
      ]
    },
    {
      "metadata": {
        "id": "Cx40lQT4uJzm",
        "colab_type": "code",
        "colab": {}
      },
      "cell_type": "code",
      "source": [
        "from sklearn.model_selection import TimeSeriesSplit, cross_val_score, GridSearchCV\n",
        "time_split = TimeSeriesSplit(n_splits=10)\n",
        "\n",
        "[(el[0].shape, el[1].shape) for el in time_split.split(X_train)]\n",
        "\n",
        "logit = LogisticRegression(C=1, random_state=17, solver='liblinear')"
      ],
      "execution_count": 0,
      "outputs": []
    },
    {
      "metadata": {
        "id": "x0JL_fK2vo9N",
        "colab_type": "code",
        "colab": {
          "base_uri": "https://localhost:8080/",
          "height": 52
        },
        "outputId": "166913aa-bf06-45cd-bbf3-45f4c325a4a5"
      },
      "cell_type": "code",
      "source": [
        "%%time\n",
        "cv_scores = cross_val_score(logit, X_train, y_train, cv=time_split, \n",
        "                            scoring='roc_auc', n_jobs=1) # hangs with n_jobs > 1, and locally this runs much faster"
      ],
      "execution_count": 759,
      "outputs": [
        {
          "output_type": "stream",
          "text": [
            "CPU times: user 43.7 s, sys: 117 ms, total: 43.9 s\n",
            "Wall time: 43.9 s\n"
          ],
          "name": "stdout"
        }
      ]
    },
    {
      "metadata": {
        "id": "0DR2tRC4wNgS",
        "colab_type": "code",
        "colab": {
          "base_uri": "https://localhost:8080/",
          "height": 69
        },
        "outputId": "84fb1918-6973-4116-adc8-721f4d9542c7"
      },
      "cell_type": "code",
      "source": [
        "cv_scores, cv_scores.mean()"
      ],
      "execution_count": 760,
      "outputs": [
        {
          "output_type": "execute_result",
          "data": {
            "text/plain": [
              "(array([0.80969538, 0.74049299, 0.94992278, 0.97277799, 0.89898102,\n",
              "        0.95081267, 0.9498438 , 0.92869503, 0.9601837 , 0.95607967]),\n",
              " 0.9117485025829065)"
            ]
          },
          "metadata": {
            "tags": []
          },
          "execution_count": 760
        }
      ]
    },
    {
      "metadata": {
        "id": "wJiMzxcDx-R3",
        "colab_type": "code",
        "colab": {
          "base_uri": "https://localhost:8080/",
          "height": 87
        },
        "outputId": "a0abbc0e-c3f8-4fd6-fd6a-c059b738d8e8"
      },
      "cell_type": "code",
      "source": [
        "logit.fit(X_train, y_train)"
      ],
      "execution_count": 761,
      "outputs": [
        {
          "output_type": "execute_result",
          "data": {
            "text/plain": [
              "LogisticRegression(C=1, class_weight=None, dual=False, fit_intercept=True,\n",
              "          intercept_scaling=1, max_iter=100, multi_class='warn',\n",
              "          n_jobs=None, penalty='l2', random_state=17, solver='liblinear',\n",
              "          tol=0.0001, verbose=0, warm_start=False)"
            ]
          },
          "metadata": {
            "tags": []
          },
          "execution_count": 761
        }
      ]
    },
    {
      "metadata": {
        "id": "aU3Rf9GTzoKu",
        "colab_type": "code",
        "colab": {}
      },
      "cell_type": "code",
      "source": [
        "logit_test_pred = logit.predict_proba(X_test)[:, 1]\n",
        "write_to_submission_file(logit_test_pred, 'subm1.csv') # 0.91288"
      ],
      "execution_count": 0,
      "outputs": []
    },
    {
      "metadata": {
        "id": "QoQ37LjeUWyP",
        "colab_type": "text"
      },
      "cell_type": "markdown",
      "source": [
        "In this part of the assignment, you have learned how to use sparse matrices, train logistic regression models, create new features and selected the best ones, learned why you need to scale features, and how to select hyperparameters. That's a lot!"
      ]
    },
    {
      "metadata": {
        "id": "drDMd9qgFkFP",
        "colab_type": "code",
        "colab": {
          "base_uri": "https://localhost:8080/",
          "height": 275
        },
        "outputId": "20045cc0-a53c-434e-ad81-ef19154f7efc"
      },
      "cell_type": "code",
      "source": [
        "full_time  =  full_df[times] \n",
        "full_time.head(3)"
      ],
      "execution_count": 763,
      "outputs": [
        {
          "output_type": "execute_result",
          "data": {
            "text/html": [
              "<div>\n",
              "<style scoped>\n",
              "    .dataframe tbody tr th:only-of-type {\n",
              "        vertical-align: middle;\n",
              "    }\n",
              "\n",
              "    .dataframe tbody tr th {\n",
              "        vertical-align: top;\n",
              "    }\n",
              "\n",
              "    .dataframe thead th {\n",
              "        text-align: right;\n",
              "    }\n",
              "</style>\n",
              "<table border=\"1\" class=\"dataframe\">\n",
              "  <thead>\n",
              "    <tr style=\"text-align: right;\">\n",
              "      <th></th>\n",
              "      <th>time1</th>\n",
              "      <th>time2</th>\n",
              "      <th>time3</th>\n",
              "      <th>time4</th>\n",
              "      <th>time5</th>\n",
              "      <th>time6</th>\n",
              "      <th>time7</th>\n",
              "      <th>time8</th>\n",
              "      <th>time9</th>\n",
              "      <th>time10</th>\n",
              "    </tr>\n",
              "    <tr>\n",
              "      <th>session_id</th>\n",
              "      <th></th>\n",
              "      <th></th>\n",
              "      <th></th>\n",
              "      <th></th>\n",
              "      <th></th>\n",
              "      <th></th>\n",
              "      <th></th>\n",
              "      <th></th>\n",
              "      <th></th>\n",
              "      <th></th>\n",
              "    </tr>\n",
              "  </thead>\n",
              "  <tbody>\n",
              "    <tr>\n",
              "      <th>21669</th>\n",
              "      <td>2013-01-12 08:05:57</td>\n",
              "      <td>2013-01-12 08:05:57</td>\n",
              "      <td>NaT</td>\n",
              "      <td>NaT</td>\n",
              "      <td>NaT</td>\n",
              "      <td>NaT</td>\n",
              "      <td>NaT</td>\n",
              "      <td>NaT</td>\n",
              "      <td>NaT</td>\n",
              "      <td>NaT</td>\n",
              "    </tr>\n",
              "    <tr>\n",
              "      <th>54843</th>\n",
              "      <td>2013-01-12 08:37:23</td>\n",
              "      <td>2013-01-12 08:37:23</td>\n",
              "      <td>2013-01-12 09:07:07</td>\n",
              "      <td>2013-01-12 09:07:09</td>\n",
              "      <td>NaT</td>\n",
              "      <td>NaT</td>\n",
              "      <td>NaT</td>\n",
              "      <td>NaT</td>\n",
              "      <td>NaT</td>\n",
              "      <td>NaT</td>\n",
              "    </tr>\n",
              "    <tr>\n",
              "      <th>77292</th>\n",
              "      <td>2013-01-12 08:50:13</td>\n",
              "      <td>2013-01-12 08:50:14</td>\n",
              "      <td>2013-01-12 08:50:15</td>\n",
              "      <td>2013-01-12 08:50:15</td>\n",
              "      <td>2013-01-12 08:50:16</td>\n",
              "      <td>2013-01-12 08:50:16</td>\n",
              "      <td>2013-01-12 08:50:16</td>\n",
              "      <td>2013-01-12 08:50:16</td>\n",
              "      <td>2013-01-12 08:50:17</td>\n",
              "      <td>2013-01-12 08:50:17</td>\n",
              "    </tr>\n",
              "  </tbody>\n",
              "</table>\n",
              "</div>"
            ],
            "text/plain": [
              "                         time1               time2               time3  \\\n",
              "session_id                                                               \n",
              "21669      2013-01-12 08:05:57 2013-01-12 08:05:57                 NaT   \n",
              "54843      2013-01-12 08:37:23 2013-01-12 08:37:23 2013-01-12 09:07:07   \n",
              "77292      2013-01-12 08:50:13 2013-01-12 08:50:14 2013-01-12 08:50:15   \n",
              "\n",
              "                         time4               time5               time6  \\\n",
              "session_id                                                               \n",
              "21669                      NaT                 NaT                 NaT   \n",
              "54843      2013-01-12 09:07:09                 NaT                 NaT   \n",
              "77292      2013-01-12 08:50:15 2013-01-12 08:50:16 2013-01-12 08:50:16   \n",
              "\n",
              "                         time7               time8               time9  \\\n",
              "session_id                                                               \n",
              "21669                      NaT                 NaT                 NaT   \n",
              "54843                      NaT                 NaT                 NaT   \n",
              "77292      2013-01-12 08:50:16 2013-01-12 08:50:16 2013-01-12 08:50:17   \n",
              "\n",
              "                        time10  \n",
              "session_id                      \n",
              "21669                      NaT  \n",
              "54843                      NaT  \n",
              "77292      2013-01-12 08:50:17  "
            ]
          },
          "metadata": {
            "tags": []
          },
          "execution_count": 763
        }
      ]
    },
    {
      "metadata": {
        "id": "R5YSXKK4GyDg",
        "colab_type": "code",
        "colab": {}
      },
      "cell_type": "code",
      "source": [
        "def get_total_time(row): \n",
        "    time_length = row.shape[0] - 1 \n",
        "    i = time_length \n",
        "    while pd.isnull( row [ i ]): \n",
        "        i -= 1 \n",
        "    return (row[i] - row[0]) / np.timedelta64(1,'s')"
      ],
      "execution_count": 0,
      "outputs": []
    },
    {
      "metadata": {
        "id": "wMuDugWE0xOM",
        "colab_type": "code",
        "colab": {
          "base_uri": "https://localhost:8080/",
          "height": 52
        },
        "outputId": "fa07e627-5a9e-42a5-c8f5-3dbce1d34ded"
      },
      "cell_type": "code",
      "source": [
        "%%time\n",
        "\n",
        "total_time = []\n",
        "for row in full_time.values:\n",
        "    total_time.append(get_total_time(row))\n",
        "total_time = np.array(total_time).reshape(-1,1).astype(int)"
      ],
      "execution_count": 765,
      "outputs": [
        {
          "output_type": "stream",
          "text": [
            "CPU times: user 2.41 s, sys: 3.98 ms, total: 2.41 s\n",
            "Wall time: 2.41 s\n"
          ],
          "name": "stdout"
        }
      ]
    },
    {
      "metadata": {
        "id": "KNHXzvDbFxg5",
        "colab_type": "code",
        "colab": {}
      },
      "cell_type": "code",
      "source": [
        "def  get_time_diff (row): \n",
        "    time_length = row.shape[0] - 1 \n",
        "    time_diff = [0]*time_length \n",
        "    i = 0 \n",
        "    while (i < time_length)and pd.notnull(row[i+1]): \n",
        "        time_diff[i] = (row[i+1] - row[i]) /np.timedelta64(1,'s') \n",
        "        i += 1 \n",
        "    return  time_diff"
      ],
      "execution_count": 0,
      "outputs": []
    },
    {
      "metadata": {
        "id": "v_ea1qgFFxC8",
        "colab_type": "code",
        "colab": {
          "base_uri": "https://localhost:8080/",
          "height": 52
        },
        "outputId": "63a0e2d8-7a74-40e2-9539-f85268800b14"
      },
      "cell_type": "code",
      "source": [
        "%%time\n",
        "time_diff = []\n",
        "for row in full_time.values:\n",
        "    time_diff.append (get_time_diff (row))\n",
        "time_diff = np.log1p(np.array(time_diff).astype(float))"
      ],
      "execution_count": 767,
      "outputs": [
        {
          "output_type": "stream",
          "text": [
            "CPU times: user 19.8 s, sys: 128 ms, total: 20 s\n",
            "Wall time: 20 s\n"
          ],
          "name": "stdout"
        }
      ]
    },
    {
      "metadata": {
        "id": "oH1ta4IiF8sO",
        "colab_type": "code",
        "colab": {}
      },
      "cell_type": "code",
      "source": [
        "## Appending The Newly Created Features\n",
        "time_names = ['time_diff'+str(j) for j in range(1,10)] \n",
        "for ind, column_name in enumerate(time_names): \n",
        "    full_new_feat[column_name] = time_diff[:,ind] "
      ],
      "execution_count": 0,
      "outputs": []
    },
    {
      "metadata": {
        "id": "ZsN-Lm4dIBJR",
        "colab_type": "code",
        "colab": {
          "base_uri": "https://localhost:8080/",
          "height": 161
        },
        "outputId": "17620508-df94-4ecf-a5bf-39ee33565a01"
      },
      "cell_type": "code",
      "source": [
        "full_new_feat.head(2)"
      ],
      "execution_count": 769,
      "outputs": [
        {
          "output_type": "execute_result",
          "data": {
            "text/html": [
              "<div>\n",
              "<style scoped>\n",
              "    .dataframe tbody tr th:only-of-type {\n",
              "        vertical-align: middle;\n",
              "    }\n",
              "\n",
              "    .dataframe tbody tr th {\n",
              "        vertical-align: top;\n",
              "    }\n",
              "\n",
              "    .dataframe thead th {\n",
              "        text-align: right;\n",
              "    }\n",
              "</style>\n",
              "<table border=\"1\" class=\"dataframe\">\n",
              "  <thead>\n",
              "    <tr style=\"text-align: right;\">\n",
              "      <th></th>\n",
              "      <th>start_month</th>\n",
              "      <th>n_unique_sites</th>\n",
              "      <th>start_hour</th>\n",
              "      <th>morning</th>\n",
              "      <th>time_diff1</th>\n",
              "      <th>time_diff2</th>\n",
              "      <th>time_diff3</th>\n",
              "      <th>time_diff4</th>\n",
              "      <th>time_diff5</th>\n",
              "      <th>time_diff6</th>\n",
              "      <th>time_diff7</th>\n",
              "      <th>time_diff8</th>\n",
              "      <th>time_diff9</th>\n",
              "    </tr>\n",
              "    <tr>\n",
              "      <th>session_id</th>\n",
              "      <th></th>\n",
              "      <th></th>\n",
              "      <th></th>\n",
              "      <th></th>\n",
              "      <th></th>\n",
              "      <th></th>\n",
              "      <th></th>\n",
              "      <th></th>\n",
              "      <th></th>\n",
              "      <th></th>\n",
              "      <th></th>\n",
              "      <th></th>\n",
              "      <th></th>\n",
              "    </tr>\n",
              "  </thead>\n",
              "  <tbody>\n",
              "    <tr>\n",
              "      <th>21669</th>\n",
              "      <td>201301.0</td>\n",
              "      <td>2</td>\n",
              "      <td>8</td>\n",
              "      <td>1</td>\n",
              "      <td>0.0</td>\n",
              "      <td>0.000000</td>\n",
              "      <td>0.000000</td>\n",
              "      <td>0.0</td>\n",
              "      <td>0.0</td>\n",
              "      <td>0.0</td>\n",
              "      <td>0.0</td>\n",
              "      <td>0.0</td>\n",
              "      <td>0.0</td>\n",
              "    </tr>\n",
              "    <tr>\n",
              "      <th>54843</th>\n",
              "      <td>201301.0</td>\n",
              "      <td>2</td>\n",
              "      <td>8</td>\n",
              "      <td>1</td>\n",
              "      <td>0.0</td>\n",
              "      <td>7.487174</td>\n",
              "      <td>1.098612</td>\n",
              "      <td>0.0</td>\n",
              "      <td>0.0</td>\n",
              "      <td>0.0</td>\n",
              "      <td>0.0</td>\n",
              "      <td>0.0</td>\n",
              "      <td>0.0</td>\n",
              "    </tr>\n",
              "  </tbody>\n",
              "</table>\n",
              "</div>"
            ],
            "text/plain": [
              "            start_month  n_unique_sites  start_hour  morning  time_diff1  \\\n",
              "session_id                                                                 \n",
              "21669          201301.0               2           8        1         0.0   \n",
              "54843          201301.0               2           8        1         0.0   \n",
              "\n",
              "            time_diff2  time_diff3  time_diff4  time_diff5  time_diff6  \\\n",
              "session_id                                                               \n",
              "21669         0.000000    0.000000         0.0         0.0         0.0   \n",
              "54843         7.487174    1.098612         0.0         0.0         0.0   \n",
              "\n",
              "            time_diff7  time_diff8  time_diff9  \n",
              "session_id                                      \n",
              "21669              0.0         0.0         0.0  \n",
              "54843              0.0         0.0         0.0  "
            ]
          },
          "metadata": {
            "tags": []
          },
          "execution_count": 769
        }
      ]
    },
    {
      "metadata": {
        "id": "gN6B6nECIRbD",
        "colab_type": "code",
        "colab": {}
      },
      "cell_type": "code",
      "source": [
        "def get_total_time(row): \n",
        "    time_length = row.shape[0] - 1 \n",
        "    i = time_length \n",
        "    while pd.isnull( row [ i ]): \n",
        "        i -= 1 \n",
        "    return (row[i] - row[0]) / np.timedelta64(1,'s')"
      ],
      "execution_count": 0,
      "outputs": []
    },
    {
      "metadata": {
        "id": "s2Wlle1FITw6",
        "colab_type": "code",
        "colab": {
          "base_uri": "https://localhost:8080/",
          "height": 52
        },
        "outputId": "cc0ad8b6-3e44-4936-b570-3e8561383aa1"
      },
      "cell_type": "code",
      "source": [
        "%%time\n",
        "total_time = []\n",
        "for row in full_time.values:\n",
        "    total_time.append(get_total_time(row))\n",
        "total_time = np.array(total_time).reshape(-1,1).astype(int)"
      ],
      "execution_count": 771,
      "outputs": [
        {
          "output_type": "stream",
          "text": [
            "CPU times: user 2.4 s, sys: 4.99 ms, total: 2.41 s\n",
            "Wall time: 2.41 s\n"
          ],
          "name": "stdout"
        }
      ]
    },
    {
      "metadata": {
        "id": "SvxnnN2zQXpG",
        "colab_type": "code",
        "colab": {
          "base_uri": "https://localhost:8080/",
          "height": 52
        },
        "outputId": "8cfdd28d-2d78-4df1-f981-a3641e9ff9fc"
      },
      "cell_type": "code",
      "source": [
        "for siteid, website in site_dict_2.items():\n",
        "  if siteid == 77:\n",
        "    print('{0} corresponds to {1}'.format(siteid, website))\n",
        "  if siteid == 80:\n",
        "    print('{0} corresponds to {1}'.format(siteid, website))"
      ],
      "execution_count": 772,
      "outputs": [
        {
          "output_type": "stream",
          "text": [
            "80 corresponds to s.youtube.com\n",
            "77 corresponds to i1.ytimg.com\n"
          ],
          "name": "stdout"
        }
      ]
    },
    {
      "metadata": {
        "id": "JApULCstNQJp",
        "colab_type": "code",
        "colab": {
          "base_uri": "https://localhost:8080/",
          "height": 55
        },
        "outputId": "413ae5f7-896d-4b48-8f3c-28cb0ef17255"
      },
      "cell_type": "code",
      "source": [
        "facebook_ids = []\n",
        "youtube_ids = []\n",
        "google_ids = []\n",
        "twitter_ids = []\n",
        "vk_ids = []\n",
        "youwatch_ids = []\n",
        "express_ids = []\n",
        "\n",
        "\n",
        "for siteid, website in site_dict_2.items():  \n",
        "    if 'facebook' in website:\n",
        "        facebook_ids.append(siteid)\n",
        "    if 'youtube' in website:\n",
        "        youtube_ids.append(siteid)\n",
        "    if 'twitter' in website:\n",
        "        twitter_ids.append(siteid)\n",
        "    if 'youwatch.org' in website:\n",
        "        youwatch_ids.append(siteid)\n",
        "    if 'vk.com' in website:\n",
        "        vk_ids.append(siteid)\n",
        " \n",
        "    if 'express.co' in website:\n",
        "        express_ids.append(siteid)\n",
        "print(youtube_ids)"
      ],
      "execution_count": 841,
      "outputs": [
        {
          "output_type": "stream",
          "text": [
            "[38132, 41285, 80, 38133, 15317, 656, 16672, 874, 6581, 38134, 24557, 1307, 12597, 76, 14774, 1345, 74, 16606, 28062, 2329, 1056, 676, 2574, 13347]\n"
          ],
          "name": "stdout"
        }
      ]
    },
    {
      "metadata": {
        "id": "VUFByTnvQ2UY",
        "colab_type": "code",
        "colab": {}
      },
      "cell_type": "code",
      "source": [
        "def is_site(x, l):\n",
        "    if x in l:\n",
        "      return 1 \n",
        "    return 0\n",
        "\n",
        "def is_long_session(x):\n",
        "    if x < 3:\n",
        "        return 0\n",
        "    elif x < 5:\n",
        "        return 1\n",
        "    elif x < 10:\n",
        "        return 2\n",
        "    elif x < 30:\n",
        "        return 3\n",
        "    elif x < 40:\n",
        "        return 4\n",
        "    return 5"
      ],
      "execution_count": 0,
      "outputs": []
    },
    {
      "metadata": {
        "id": "KT8jNkVgmqVu",
        "colab_type": "code",
        "colab": {
          "base_uri": "https://localhost:8080/",
          "height": 139
        },
        "outputId": "a12a9ddd-f08f-44d5-a69b-09828a1134cd"
      },
      "cell_type": "code",
      "source": [
        "full_sites.values"
      ],
      "execution_count": 775,
      "outputs": [
        {
          "output_type": "execute_result",
          "data": {
            "text/plain": [
              "array([[  56,   55,    0, ...,    0,    0,    0],\n",
              "       [  56,   55,   56, ...,    0,    0,    0],\n",
              "       [ 946,  946,  951, ...,  784,  949,  946],\n",
              "       ...,\n",
              "       [  29,   33,   35, ...,   21,   23, 6780],\n",
              "       [5828,   23,   21, ...,  894,   21,  961],\n",
              "       [  21, 1098, 1098, ..., 1098, 1098, 1098]])"
            ]
          },
          "metadata": {
            "tags": []
          },
          "execution_count": 775
        }
      ]
    },
    {
      "metadata": {
        "id": "RaTEyagrUDx8",
        "colab_type": "code",
        "colab": {
          "base_uri": "https://localhost:8080/",
          "height": 87
        },
        "outputId": "19bcb902-42bc-4a00-f74d-dd38f6d4a150"
      },
      "cell_type": "code",
      "source": [
        "full_df.columns"
      ],
      "execution_count": 776,
      "outputs": [
        {
          "output_type": "execute_result",
          "data": {
            "text/plain": [
              "Index(['site1', 'time1', 'site2', 'time2', 'site3', 'time3', 'site4', 'time4',\n",
              "       'site5', 'time5', 'site6', 'time6', 'site7', 'time7', 'site8', 'time8',\n",
              "       'site9', 'time9', 'site10', 'time10'],\n",
              "      dtype='object')"
            ]
          },
          "metadata": {
            "tags": []
          },
          "execution_count": 776
        }
      ]
    },
    {
      "metadata": {
        "id": "ChUamzmnQ6ZZ",
        "colab_type": "code",
        "colab": {
          "base_uri": "https://localhost:8080/",
          "height": 644
        },
        "outputId": "501852b9-b0a5-4dab-da67-c51073b61a5a"
      },
      "cell_type": "code",
      "source": [
        "X_add = full_df[['time1']]\n",
        "X_add['time1'] = full_df[['time1']].apply(pd.to_datetime)\n",
        "X_add['time10'] = full_df[['time10']].fillna('2014-02-20 10:02:45').apply(pd.to_datetime)\n",
        "\n",
        "# X_add['start_day'] = X_add['time1'].apply(pd.datetime.weekday)\n",
        "# X_add['start_hour'] = X_add['time1'].apply(pd.to_datetime).apply(lambda x: x.hour)\n",
        "# X_add['start_month'] = X_add['time1'].apply(lambda x: x.month)\n",
        "\n",
        "X_add['stop_day'] = X_add['time10'].apply(pd.datetime.weekday)\n",
        "X_add['stop_hour'] = X_add['time10'].apply(pd.to_datetime).apply(lambda x: x.hour)\n",
        "X_add['stop_month'] = X_add['time10'].apply(lambda x: x.month)\n",
        "\n",
        "# X_add['yb_start'] = full_df['site1'].apply(lambda x: is_site(x, youtube_ids))\n",
        "# X_add['fb_start'] = full_df['site1'].apply(lambda x: is_site(x, facebook_ids))\n",
        "# X_add['yw_start'] = full_df['site1'].apply(lambda x: is_site(x, youwatch_ids))\n",
        "# X_add['vk_start'] = full_df['site1'].apply(lambda x: is_site(x, vk_ids))\n",
        "# X_add['ex_start'] = full_df['site1'].apply(lambda x: is_site(x, express_ids))\n",
        "\n",
        "# X_add['yb_end'] = full_df['site10'].apply(lambda x: is_site(x, youtube_ids))\n",
        "# X_add['fb_end'] = full_df['site10'].apply(lambda x: is_site(x, facebook_ids))\n",
        "# X_add['yw_end'] = full_df['site10'].apply(lambda x: is_site(x, youwatch_ids))\n",
        "# X_add['vk_end'] = full_df['site10'].apply(lambda x: is_site(x, vk_ids))\n",
        "# X_add['ex_end'] = full_df['site10'].apply(lambda x: is_site(x, express_ids))\n",
        "\n",
        "X_add['duration'] = (X_add['time10'] - X_add['time1']).astype(int).apply(lambda x: x/10e8)\n",
        "\n",
        "X_add = X_add.drop(columns=['time1', 'time10'])\n",
        "\n",
        "X_add['duration'] = X_add['duration'].apply(is_long_session).astype(int)\n",
        "\n",
        "# X_add['n_unique_sites'] = full_new_feat['n_unique_sites'] "
      ],
      "execution_count": 906,
      "outputs": [
        {
          "output_type": "stream",
          "text": [
            "/usr/local/lib/python3.6/dist-packages/ipykernel_launcher.py:2: SettingWithCopyWarning: \n",
            "A value is trying to be set on a copy of a slice from a DataFrame.\n",
            "Try using .loc[row_indexer,col_indexer] = value instead\n",
            "\n",
            "See the caveats in the documentation: http://pandas.pydata.org/pandas-docs/stable/indexing.html#indexing-view-versus-copy\n",
            "  \n",
            "/usr/local/lib/python3.6/dist-packages/ipykernel_launcher.py:3: SettingWithCopyWarning: \n",
            "A value is trying to be set on a copy of a slice from a DataFrame.\n",
            "Try using .loc[row_indexer,col_indexer] = value instead\n",
            "\n",
            "See the caveats in the documentation: http://pandas.pydata.org/pandas-docs/stable/indexing.html#indexing-view-versus-copy\n",
            "  This is separate from the ipykernel package so we can avoid doing imports until\n",
            "/usr/local/lib/python3.6/dist-packages/ipykernel_launcher.py:9: SettingWithCopyWarning: \n",
            "A value is trying to be set on a copy of a slice from a DataFrame.\n",
            "Try using .loc[row_indexer,col_indexer] = value instead\n",
            "\n",
            "See the caveats in the documentation: http://pandas.pydata.org/pandas-docs/stable/indexing.html#indexing-view-versus-copy\n",
            "  if __name__ == '__main__':\n",
            "/usr/local/lib/python3.6/dist-packages/ipykernel_launcher.py:10: SettingWithCopyWarning: \n",
            "A value is trying to be set on a copy of a slice from a DataFrame.\n",
            "Try using .loc[row_indexer,col_indexer] = value instead\n",
            "\n",
            "See the caveats in the documentation: http://pandas.pydata.org/pandas-docs/stable/indexing.html#indexing-view-versus-copy\n",
            "  # Remove the CWD from sys.path while we load stuff.\n",
            "/usr/local/lib/python3.6/dist-packages/ipykernel_launcher.py:11: SettingWithCopyWarning: \n",
            "A value is trying to be set on a copy of a slice from a DataFrame.\n",
            "Try using .loc[row_indexer,col_indexer] = value instead\n",
            "\n",
            "See the caveats in the documentation: http://pandas.pydata.org/pandas-docs/stable/indexing.html#indexing-view-versus-copy\n",
            "  # This is added back by InteractiveShellApp.init_path()\n",
            "/usr/local/lib/python3.6/dist-packages/ipykernel_launcher.py:25: SettingWithCopyWarning: \n",
            "A value is trying to be set on a copy of a slice from a DataFrame.\n",
            "Try using .loc[row_indexer,col_indexer] = value instead\n",
            "\n",
            "See the caveats in the documentation: http://pandas.pydata.org/pandas-docs/stable/indexing.html#indexing-view-versus-copy\n"
          ],
          "name": "stderr"
        }
      ]
    },
    {
      "metadata": {
        "id": "FotGDWB5Ufb1",
        "colab_type": "code",
        "colab": {
          "base_uri": "https://localhost:8080/",
          "height": 35
        },
        "outputId": "b9f9a9a0-8522-465d-a003-7972142c0bfb"
      },
      "cell_type": "code",
      "source": [
        "X_add.columns"
      ],
      "execution_count": 907,
      "outputs": [
        {
          "output_type": "execute_result",
          "data": {
            "text/plain": [
              "Index(['stop_day', 'stop_hour', 'stop_month', 'duration'], dtype='object')"
            ]
          },
          "metadata": {
            "tags": []
          },
          "execution_count": 907
        }
      ]
    },
    {
      "metadata": {
        "id": "WM6X0iOaUqz-",
        "colab_type": "code",
        "colab": {}
      },
      "cell_type": "code",
      "source": [
        "#dummy encoding for additional features\n",
        "X_add = pd.get_dummies(X_add, columns=X_add.columns)"
      ],
      "execution_count": 0,
      "outputs": []
    },
    {
      "metadata": {
        "id": "c2hFBPkoUtGp",
        "colab_type": "code",
        "colab": {
          "base_uri": "https://localhost:8080/",
          "height": 208
        },
        "outputId": "fd06ad6c-f659-4012-d74b-ed637bafa3e1"
      },
      "cell_type": "code",
      "source": [
        "X_add.columns"
      ],
      "execution_count": 909,
      "outputs": [
        {
          "output_type": "execute_result",
          "data": {
            "text/plain": [
              "Index(['stop_day_0', 'stop_day_1', 'stop_day_2', 'stop_day_3', 'stop_day_4',\n",
              "       'stop_day_5', 'stop_day_6', 'stop_hour_7', 'stop_hour_8', 'stop_hour_9',\n",
              "       'stop_hour_10', 'stop_hour_11', 'stop_hour_12', 'stop_hour_13',\n",
              "       'stop_hour_14', 'stop_hour_15', 'stop_hour_16', 'stop_hour_17',\n",
              "       'stop_hour_18', 'stop_hour_19', 'stop_hour_20', 'stop_hour_21',\n",
              "       'stop_hour_22', 'stop_hour_23', 'stop_month_1', 'stop_month_2',\n",
              "       'stop_month_3', 'stop_month_4', 'stop_month_5', 'stop_month_6',\n",
              "       'stop_month_7', 'stop_month_8', 'stop_month_9', 'stop_month_10',\n",
              "       'stop_month_11', 'stop_month_12', 'duration_0', 'duration_1',\n",
              "       'duration_2', 'duration_3', 'duration_4', 'duration_5'],\n",
              "      dtype='object')"
            ]
          },
          "metadata": {
            "tags": []
          },
          "execution_count": 909
        }
      ]
    },
    {
      "metadata": {
        "id": "q2FXBGJjUxfR",
        "colab_type": "code",
        "colab": {
          "base_uri": "https://localhost:8080/",
          "height": 190
        },
        "outputId": "2d999fab-43f4-4753-b3fc-fabb4df534d6"
      },
      "cell_type": "code",
      "source": [
        "X_add.head(2)"
      ],
      "execution_count": 910,
      "outputs": [
        {
          "output_type": "execute_result",
          "data": {
            "text/html": [
              "<div>\n",
              "<style scoped>\n",
              "    .dataframe tbody tr th:only-of-type {\n",
              "        vertical-align: middle;\n",
              "    }\n",
              "\n",
              "    .dataframe tbody tr th {\n",
              "        vertical-align: top;\n",
              "    }\n",
              "\n",
              "    .dataframe thead th {\n",
              "        text-align: right;\n",
              "    }\n",
              "</style>\n",
              "<table border=\"1\" class=\"dataframe\">\n",
              "  <thead>\n",
              "    <tr style=\"text-align: right;\">\n",
              "      <th></th>\n",
              "      <th>stop_day_0</th>\n",
              "      <th>stop_day_1</th>\n",
              "      <th>stop_day_2</th>\n",
              "      <th>stop_day_3</th>\n",
              "      <th>stop_day_4</th>\n",
              "      <th>stop_day_5</th>\n",
              "      <th>stop_day_6</th>\n",
              "      <th>stop_hour_7</th>\n",
              "      <th>stop_hour_8</th>\n",
              "      <th>stop_hour_9</th>\n",
              "      <th>...</th>\n",
              "      <th>stop_month_9</th>\n",
              "      <th>stop_month_10</th>\n",
              "      <th>stop_month_11</th>\n",
              "      <th>stop_month_12</th>\n",
              "      <th>duration_0</th>\n",
              "      <th>duration_1</th>\n",
              "      <th>duration_2</th>\n",
              "      <th>duration_3</th>\n",
              "      <th>duration_4</th>\n",
              "      <th>duration_5</th>\n",
              "    </tr>\n",
              "    <tr>\n",
              "      <th>session_id</th>\n",
              "      <th></th>\n",
              "      <th></th>\n",
              "      <th></th>\n",
              "      <th></th>\n",
              "      <th></th>\n",
              "      <th></th>\n",
              "      <th></th>\n",
              "      <th></th>\n",
              "      <th></th>\n",
              "      <th></th>\n",
              "      <th></th>\n",
              "      <th></th>\n",
              "      <th></th>\n",
              "      <th></th>\n",
              "      <th></th>\n",
              "      <th></th>\n",
              "      <th></th>\n",
              "      <th></th>\n",
              "      <th></th>\n",
              "      <th></th>\n",
              "      <th></th>\n",
              "    </tr>\n",
              "  </thead>\n",
              "  <tbody>\n",
              "    <tr>\n",
              "      <th>21669</th>\n",
              "      <td>0</td>\n",
              "      <td>0</td>\n",
              "      <td>0</td>\n",
              "      <td>1</td>\n",
              "      <td>0</td>\n",
              "      <td>0</td>\n",
              "      <td>0</td>\n",
              "      <td>0</td>\n",
              "      <td>0</td>\n",
              "      <td>0</td>\n",
              "      <td>...</td>\n",
              "      <td>0</td>\n",
              "      <td>0</td>\n",
              "      <td>0</td>\n",
              "      <td>0</td>\n",
              "      <td>0</td>\n",
              "      <td>0</td>\n",
              "      <td>0</td>\n",
              "      <td>0</td>\n",
              "      <td>0</td>\n",
              "      <td>1</td>\n",
              "    </tr>\n",
              "    <tr>\n",
              "      <th>54843</th>\n",
              "      <td>0</td>\n",
              "      <td>0</td>\n",
              "      <td>0</td>\n",
              "      <td>1</td>\n",
              "      <td>0</td>\n",
              "      <td>0</td>\n",
              "      <td>0</td>\n",
              "      <td>0</td>\n",
              "      <td>0</td>\n",
              "      <td>0</td>\n",
              "      <td>...</td>\n",
              "      <td>0</td>\n",
              "      <td>0</td>\n",
              "      <td>0</td>\n",
              "      <td>0</td>\n",
              "      <td>0</td>\n",
              "      <td>0</td>\n",
              "      <td>0</td>\n",
              "      <td>0</td>\n",
              "      <td>0</td>\n",
              "      <td>1</td>\n",
              "    </tr>\n",
              "  </tbody>\n",
              "</table>\n",
              "<p>2 rows × 42 columns</p>\n",
              "</div>"
            ],
            "text/plain": [
              "            stop_day_0  stop_day_1  stop_day_2  stop_day_3  stop_day_4  \\\n",
              "session_id                                                               \n",
              "21669                0           0           0           1           0   \n",
              "54843                0           0           0           1           0   \n",
              "\n",
              "            stop_day_5  stop_day_6  stop_hour_7  stop_hour_8  stop_hour_9  \\\n",
              "session_id                                                                  \n",
              "21669                0           0            0            0            0   \n",
              "54843                0           0            0            0            0   \n",
              "\n",
              "               ...      stop_month_9  stop_month_10  stop_month_11  \\\n",
              "session_id     ...                                                   \n",
              "21669          ...                 0              0              0   \n",
              "54843          ...                 0              0              0   \n",
              "\n",
              "            stop_month_12  duration_0  duration_1  duration_2  duration_3  \\\n",
              "session_id                                                                  \n",
              "21669                   0           0           0           0           0   \n",
              "54843                   0           0           0           0           0   \n",
              "\n",
              "            duration_4  duration_5  \n",
              "session_id                          \n",
              "21669                0           1  \n",
              "54843                0           1  \n",
              "\n",
              "[2 rows x 42 columns]"
            ]
          },
          "metadata": {
            "tags": []
          },
          "execution_count": 910
        }
      ]
    },
    {
      "metadata": {
        "id": "3ZyYcqbkIaCu",
        "colab_type": "code",
        "colab": {}
      },
      "cell_type": "code",
      "source": [
        "full_new_feat['total_time'] =  total_time \n",
        "full_new_feat['total_time'] =  np.log1p(full_new_feat['total_time'].values)"
      ],
      "execution_count": 0,
      "outputs": []
    },
    {
      "metadata": {
        "id": "6v1ftXYj1dII",
        "colab_type": "code",
        "colab": {}
      },
      "cell_type": "code",
      "source": [
        "# Your code is here\n",
        "full_new_feat['day']  = full_new_feat['start_hour'].apply(lambda x: 1 if ((x >= 12) & (x <= 18)) else 0 )\n",
        "\n",
        "full_new_feat['evening']  = full_new_feat['start_hour'].apply(lambda x: 1 if ((x >= 19) & (x <= 23)) else 0 )\n",
        "\n",
        "full_new_feat['night']  = full_new_feat['start_hour'].apply(lambda x: 1 if ((x >= 0) & (x <= 6)) else 0 )\n",
        "\n",
        "full_new_feat['holiday']     = (full_df['time1'].dt.dayofweek >= 5).astype(int) \n",
        "\n",
        "full_new_feat['day_of_week'] = (full_df['time1'].dt.dayofweek).astype(int)\n",
        "\n",
        "full_new_feat['work_hours'] = full_df['time1'].apply(lambda ts: 1 if (ts.date().weekday() in (0,1,2,3,4)) &\n",
        "                                             ((ts.hour>=8)&(ts.hour<=17)&(ts.hour!=12)) else 0)\n",
        "\n",
        "full_new_feat['year'] = full_df['time1'].apply(lambda ts: ts.year)\n",
        "full_new_feat['month'] = full_df['time1'].apply(lambda ts: ts.month)"
      ],
      "execution_count": 0,
      "outputs": []
    },
    {
      "metadata": {
        "id": "UZFaDqwZIlAv",
        "colab_type": "code",
        "colab": {
          "base_uri": "https://localhost:8080/",
          "height": 221
        },
        "outputId": "3ffbc8c8-8b64-47dd-f034-f0e7883dd646"
      },
      "cell_type": "code",
      "source": [
        "full_new_feat.head(3)"
      ],
      "execution_count": 913,
      "outputs": [
        {
          "output_type": "execute_result",
          "data": {
            "text/html": [
              "<div>\n",
              "<style scoped>\n",
              "    .dataframe tbody tr th:only-of-type {\n",
              "        vertical-align: middle;\n",
              "    }\n",
              "\n",
              "    .dataframe tbody tr th {\n",
              "        vertical-align: top;\n",
              "    }\n",
              "\n",
              "    .dataframe thead th {\n",
              "        text-align: right;\n",
              "    }\n",
              "</style>\n",
              "<table border=\"1\" class=\"dataframe\">\n",
              "  <thead>\n",
              "    <tr style=\"text-align: right;\">\n",
              "      <th></th>\n",
              "      <th>start_month</th>\n",
              "      <th>n_unique_sites</th>\n",
              "      <th>start_hour</th>\n",
              "      <th>morning</th>\n",
              "      <th>time_diff1</th>\n",
              "      <th>time_diff2</th>\n",
              "      <th>time_diff3</th>\n",
              "      <th>time_diff4</th>\n",
              "      <th>time_diff5</th>\n",
              "      <th>time_diff6</th>\n",
              "      <th>...</th>\n",
              "      <th>day</th>\n",
              "      <th>evening</th>\n",
              "      <th>night</th>\n",
              "      <th>holiday</th>\n",
              "      <th>day_of_week</th>\n",
              "      <th>work_hours</th>\n",
              "      <th>year</th>\n",
              "      <th>month</th>\n",
              "      <th>unique_count</th>\n",
              "      <th>have_top_10</th>\n",
              "    </tr>\n",
              "    <tr>\n",
              "      <th>session_id</th>\n",
              "      <th></th>\n",
              "      <th></th>\n",
              "      <th></th>\n",
              "      <th></th>\n",
              "      <th></th>\n",
              "      <th></th>\n",
              "      <th></th>\n",
              "      <th></th>\n",
              "      <th></th>\n",
              "      <th></th>\n",
              "      <th></th>\n",
              "      <th></th>\n",
              "      <th></th>\n",
              "      <th></th>\n",
              "      <th></th>\n",
              "      <th></th>\n",
              "      <th></th>\n",
              "      <th></th>\n",
              "      <th></th>\n",
              "      <th></th>\n",
              "      <th></th>\n",
              "    </tr>\n",
              "  </thead>\n",
              "  <tbody>\n",
              "    <tr>\n",
              "      <th>21669</th>\n",
              "      <td>201301.0</td>\n",
              "      <td>2</td>\n",
              "      <td>8</td>\n",
              "      <td>1</td>\n",
              "      <td>0.000000</td>\n",
              "      <td>0.000000</td>\n",
              "      <td>0.000000</td>\n",
              "      <td>0.000000</td>\n",
              "      <td>0.0</td>\n",
              "      <td>0.0</td>\n",
              "      <td>...</td>\n",
              "      <td>0</td>\n",
              "      <td>0</td>\n",
              "      <td>0</td>\n",
              "      <td>1</td>\n",
              "      <td>5</td>\n",
              "      <td>0</td>\n",
              "      <td>2013</td>\n",
              "      <td>1</td>\n",
              "      <td>2</td>\n",
              "      <td>0</td>\n",
              "    </tr>\n",
              "    <tr>\n",
              "      <th>54843</th>\n",
              "      <td>201301.0</td>\n",
              "      <td>2</td>\n",
              "      <td>8</td>\n",
              "      <td>1</td>\n",
              "      <td>0.000000</td>\n",
              "      <td>7.487174</td>\n",
              "      <td>1.098612</td>\n",
              "      <td>0.000000</td>\n",
              "      <td>0.0</td>\n",
              "      <td>0.0</td>\n",
              "      <td>...</td>\n",
              "      <td>0</td>\n",
              "      <td>0</td>\n",
              "      <td>0</td>\n",
              "      <td>1</td>\n",
              "      <td>5</td>\n",
              "      <td>0</td>\n",
              "      <td>2013</td>\n",
              "      <td>1</td>\n",
              "      <td>2</td>\n",
              "      <td>0</td>\n",
              "    </tr>\n",
              "    <tr>\n",
              "      <th>77292</th>\n",
              "      <td>201301.0</td>\n",
              "      <td>6</td>\n",
              "      <td>8</td>\n",
              "      <td>1</td>\n",
              "      <td>0.693147</td>\n",
              "      <td>0.693147</td>\n",
              "      <td>0.000000</td>\n",
              "      <td>0.693147</td>\n",
              "      <td>0.0</td>\n",
              "      <td>0.0</td>\n",
              "      <td>...</td>\n",
              "      <td>0</td>\n",
              "      <td>0</td>\n",
              "      <td>0</td>\n",
              "      <td>1</td>\n",
              "      <td>5</td>\n",
              "      <td>0</td>\n",
              "      <td>2013</td>\n",
              "      <td>1</td>\n",
              "      <td>6</td>\n",
              "      <td>0</td>\n",
              "    </tr>\n",
              "  </tbody>\n",
              "</table>\n",
              "<p>3 rows × 24 columns</p>\n",
              "</div>"
            ],
            "text/plain": [
              "            start_month  n_unique_sites  start_hour  morning  time_diff1  \\\n",
              "session_id                                                                 \n",
              "21669          201301.0               2           8        1    0.000000   \n",
              "54843          201301.0               2           8        1    0.000000   \n",
              "77292          201301.0               6           8        1    0.693147   \n",
              "\n",
              "            time_diff2  time_diff3  time_diff4  time_diff5  time_diff6  \\\n",
              "session_id                                                               \n",
              "21669         0.000000    0.000000    0.000000         0.0         0.0   \n",
              "54843         7.487174    1.098612    0.000000         0.0         0.0   \n",
              "77292         0.693147    0.000000    0.693147         0.0         0.0   \n",
              "\n",
              "               ...       day  evening  night  holiday  day_of_week  \\\n",
              "session_id     ...                                                   \n",
              "21669          ...         0        0      0        1            5   \n",
              "54843          ...         0        0      0        1            5   \n",
              "77292          ...         0        0      0        1            5   \n",
              "\n",
              "            work_hours  year  month  unique_count  have_top_10  \n",
              "session_id                                                      \n",
              "21669                0  2013      1             2            0  \n",
              "54843                0  2013      1             2            0  \n",
              "77292                0  2013      1             6            0  \n",
              "\n",
              "[3 rows x 24 columns]"
            ]
          },
          "metadata": {
            "tags": []
          },
          "execution_count": 913
        }
      ]
    },
    {
      "metadata": {
        "id": "7IcXOu_ty91K",
        "colab_type": "code",
        "colab": {
          "base_uri": "https://localhost:8080/",
          "height": 52
        },
        "outputId": "668d53c5-27fc-4f1f-c48f-9fc88059f8f9"
      },
      "cell_type": "code",
      "source": [
        "%%time\n",
        "#Getting Unique Counts\n",
        "unique_count = []\n",
        "for row in full_sites.values:\n",
        "    unique = np.unique (row)\n",
        "    if 0 in unique:\n",
        "        unique_count.append(len(unique) - 1)\n",
        "    else:\n",
        "        unique_count.append(len(unique))\n",
        "unique_count = np.array(unique_count).reshape(-1,1)"
      ],
      "execution_count": 914,
      "outputs": [
        {
          "output_type": "stream",
          "text": [
            "CPU times: user 4.39 s, sys: 6.01 ms, total: 4.4 s\n",
            "Wall time: 4.39 s\n"
          ],
          "name": "stdout"
        }
      ]
    },
    {
      "metadata": {
        "id": "uSaHneuSzPmF",
        "colab_type": "code",
        "colab": {}
      },
      "cell_type": "code",
      "source": [
        "full_new_feat['unique_count'] = pd.DataFrame(data = unique_count ,columns = ['unique'],index = full_df.index ) #my features dataframe"
      ],
      "execution_count": 0,
      "outputs": []
    },
    {
      "metadata": {
        "id": "Xh0uV3AIBq9Y",
        "colab_type": "code",
        "colab": {}
      },
      "cell_type": "code",
      "source": [
        "full_new_feat['unique_count'] =  unique_count \n",
        "# full_new_feat['unique_count'] =  np.log1p(full_new_feat['unique_count'].values)"
      ],
      "execution_count": 0,
      "outputs": []
    },
    {
      "metadata": {
        "id": "gvaKUOcTzHxF",
        "colab_type": "code",
        "colab": {
          "base_uri": "https://localhost:8080/",
          "height": 121
        },
        "outputId": "c898e6ae-a407-4a16-a2a5-2941f8b45640"
      },
      "cell_type": "code",
      "source": [
        "full_new_feat.columns"
      ],
      "execution_count": 917,
      "outputs": [
        {
          "output_type": "execute_result",
          "data": {
            "text/plain": [
              "Index(['start_month', 'n_unique_sites', 'start_hour', 'morning', 'time_diff1',\n",
              "       'time_diff2', 'time_diff3', 'time_diff4', 'time_diff5', 'time_diff6',\n",
              "       'time_diff7', 'time_diff8', 'time_diff9', 'total_time', 'day',\n",
              "       'evening', 'night', 'holiday', 'day_of_week', 'work_hours', 'year',\n",
              "       'month', 'unique_count', 'have_top_10'],\n",
              "      dtype='object')"
            ]
          },
          "metadata": {
            "tags": []
          },
          "execution_count": 917
        }
      ]
    },
    {
      "metadata": {
        "id": "Ro_7jaPF1O4M",
        "colab_type": "code",
        "colab": {
          "base_uri": "https://localhost:8080/",
          "height": 35
        },
        "outputId": "06c8ac1b-7724-48b3-bd96-7ce650baecf9"
      },
      "cell_type": "code",
      "source": [
        "np.unique(full_new_feat['n_unique_sites'])"
      ],
      "execution_count": 918,
      "outputs": [
        {
          "output_type": "execute_result",
          "data": {
            "text/plain": [
              "array([ 1,  2,  3,  4,  5,  6,  7,  8,  9, 10])"
            ]
          },
          "metadata": {
            "tags": []
          },
          "execution_count": 918
        }
      ]
    },
    {
      "metadata": {
        "id": "3Fkzf_EJ19Xy",
        "colab_type": "code",
        "colab": {
          "base_uri": "https://localhost:8080/",
          "height": 141
        },
        "outputId": "c94b8cb0-a40d-4322-e332-93eb324df140"
      },
      "cell_type": "code",
      "source": [
        "full_sites.head(2)"
      ],
      "execution_count": 919,
      "outputs": [
        {
          "output_type": "execute_result",
          "data": {
            "text/html": [
              "<div>\n",
              "<style scoped>\n",
              "    .dataframe tbody tr th:only-of-type {\n",
              "        vertical-align: middle;\n",
              "    }\n",
              "\n",
              "    .dataframe tbody tr th {\n",
              "        vertical-align: top;\n",
              "    }\n",
              "\n",
              "    .dataframe thead th {\n",
              "        text-align: right;\n",
              "    }\n",
              "</style>\n",
              "<table border=\"1\" class=\"dataframe\">\n",
              "  <thead>\n",
              "    <tr style=\"text-align: right;\">\n",
              "      <th></th>\n",
              "      <th>site1</th>\n",
              "      <th>site2</th>\n",
              "      <th>site3</th>\n",
              "      <th>site4</th>\n",
              "      <th>site5</th>\n",
              "      <th>site6</th>\n",
              "      <th>site7</th>\n",
              "      <th>site8</th>\n",
              "      <th>site9</th>\n",
              "      <th>site10</th>\n",
              "    </tr>\n",
              "    <tr>\n",
              "      <th>session_id</th>\n",
              "      <th></th>\n",
              "      <th></th>\n",
              "      <th></th>\n",
              "      <th></th>\n",
              "      <th></th>\n",
              "      <th></th>\n",
              "      <th></th>\n",
              "      <th></th>\n",
              "      <th></th>\n",
              "      <th></th>\n",
              "    </tr>\n",
              "  </thead>\n",
              "  <tbody>\n",
              "    <tr>\n",
              "      <th>21669</th>\n",
              "      <td>56</td>\n",
              "      <td>55</td>\n",
              "      <td>0</td>\n",
              "      <td>0</td>\n",
              "      <td>0</td>\n",
              "      <td>0</td>\n",
              "      <td>0</td>\n",
              "      <td>0</td>\n",
              "      <td>0</td>\n",
              "      <td>0</td>\n",
              "    </tr>\n",
              "    <tr>\n",
              "      <th>54843</th>\n",
              "      <td>56</td>\n",
              "      <td>55</td>\n",
              "      <td>56</td>\n",
              "      <td>55</td>\n",
              "      <td>0</td>\n",
              "      <td>0</td>\n",
              "      <td>0</td>\n",
              "      <td>0</td>\n",
              "      <td>0</td>\n",
              "      <td>0</td>\n",
              "    </tr>\n",
              "  </tbody>\n",
              "</table>\n",
              "</div>"
            ],
            "text/plain": [
              "            site1  site2  site3  site4  site5  site6  site7  site8  site9  \\\n",
              "session_id                                                                  \n",
              "21669          56     55      0      0      0      0      0      0      0   \n",
              "54843          56     55     56     55      0      0      0      0      0   \n",
              "\n",
              "            site10  \n",
              "session_id          \n",
              "21669            0  \n",
              "54843            0  "
            ]
          },
          "metadata": {
            "tags": []
          },
          "execution_count": 919
        }
      ]
    },
    {
      "metadata": {
        "id": "YprufTTB0LZn",
        "colab_type": "code",
        "colab": {
          "base_uri": "https://localhost:8080/",
          "height": 35
        },
        "outputId": "5eedeaae-7b55-4511-e6e0-5d6f4a89e1a1"
      },
      "cell_type": "code",
      "source": [
        "site_dict  =  {} \n",
        "for  row  in  full_sites.values : \n",
        "    for  site_id  in  np.unique (row): \n",
        "        if  site_id  in  site_dict : \n",
        "            site_dict [site_id]  +=  1 \n",
        "        else : \n",
        "            site_dict [site_id]  =  1 \n",
        "site_dict.pop(0)"
      ],
      "execution_count": 920,
      "outputs": [
        {
          "output_type": "execute_result",
          "data": {
            "text/plain": [
              "30500"
            ]
          },
          "metadata": {
            "tags": []
          },
          "execution_count": 920
        }
      ]
    },
    {
      "metadata": {
        "id": "oJGlXk9R0ZVa",
        "colab_type": "code",
        "colab": {
          "base_uri": "https://localhost:8080/",
          "height": 35
        },
        "outputId": "31061f1a-73bb-4bb0-c3c9-2a59c1944863"
      },
      "cell_type": "code",
      "source": [
        "site_dict.pop(34)"
      ],
      "execution_count": 921,
      "outputs": [
        {
          "output_type": "execute_result",
          "data": {
            "text/plain": [
              "881"
            ]
          },
          "metadata": {
            "tags": []
          },
          "execution_count": 921
        }
      ]
    },
    {
      "metadata": {
        "id": "RMj1dCeW3RD4",
        "colab_type": "code",
        "colab": {
          "base_uri": "https://localhost:8080/",
          "height": 52
        },
        "outputId": "70b873b6-24f0-4baa-a700-38455cd870e9"
      },
      "cell_type": "code",
      "source": [
        "%%time\n",
        "top_10 = sorted (list (site_dict.items ()), key = lambda tup: tup [1], reverse = True) [: 10]\n",
        "top_10 = [element [0] for element in top_10]\n",
        "have_top_10 = np.zeros ((full_sites.shape [0], 1), dtype = int)\n",
        "ind = 0\n",
        "for row in full_sites.values:\n",
        "    unique = np.unique (row)\n",
        "    for site_id in unique:\n",
        "        if site_id in top_10:\n",
        "            have_top_10[ind] = 1\n",
        "    ind += 1\n",
        "\n",
        "have_top_10"
      ],
      "execution_count": 922,
      "outputs": [
        {
          "output_type": "stream",
          "text": [
            "CPU times: user 3.71 s, sys: 3.01 ms, total: 3.71 s\n",
            "Wall time: 3.72 s\n"
          ],
          "name": "stdout"
        }
      ]
    },
    {
      "metadata": {
        "id": "VB7pc9VL3lXS",
        "colab_type": "code",
        "colab": {}
      },
      "cell_type": "code",
      "source": [
        "full_new_feat ['have_top_10']  =  have_top_10"
      ],
      "execution_count": 0,
      "outputs": []
    },
    {
      "metadata": {
        "id": "F8ZoXVNxZEgv",
        "colab_type": "code",
        "colab": {
          "base_uri": "https://localhost:8080/",
          "height": 190
        },
        "outputId": "d16b9406-7966-46ca-fae0-715b009463a2"
      },
      "cell_type": "code",
      "source": [
        "full_new_feat.head(2)"
      ],
      "execution_count": 924,
      "outputs": [
        {
          "output_type": "execute_result",
          "data": {
            "text/html": [
              "<div>\n",
              "<style scoped>\n",
              "    .dataframe tbody tr th:only-of-type {\n",
              "        vertical-align: middle;\n",
              "    }\n",
              "\n",
              "    .dataframe tbody tr th {\n",
              "        vertical-align: top;\n",
              "    }\n",
              "\n",
              "    .dataframe thead th {\n",
              "        text-align: right;\n",
              "    }\n",
              "</style>\n",
              "<table border=\"1\" class=\"dataframe\">\n",
              "  <thead>\n",
              "    <tr style=\"text-align: right;\">\n",
              "      <th></th>\n",
              "      <th>start_month</th>\n",
              "      <th>n_unique_sites</th>\n",
              "      <th>start_hour</th>\n",
              "      <th>morning</th>\n",
              "      <th>time_diff1</th>\n",
              "      <th>time_diff2</th>\n",
              "      <th>time_diff3</th>\n",
              "      <th>time_diff4</th>\n",
              "      <th>time_diff5</th>\n",
              "      <th>time_diff6</th>\n",
              "      <th>...</th>\n",
              "      <th>day</th>\n",
              "      <th>evening</th>\n",
              "      <th>night</th>\n",
              "      <th>holiday</th>\n",
              "      <th>day_of_week</th>\n",
              "      <th>work_hours</th>\n",
              "      <th>year</th>\n",
              "      <th>month</th>\n",
              "      <th>unique_count</th>\n",
              "      <th>have_top_10</th>\n",
              "    </tr>\n",
              "    <tr>\n",
              "      <th>session_id</th>\n",
              "      <th></th>\n",
              "      <th></th>\n",
              "      <th></th>\n",
              "      <th></th>\n",
              "      <th></th>\n",
              "      <th></th>\n",
              "      <th></th>\n",
              "      <th></th>\n",
              "      <th></th>\n",
              "      <th></th>\n",
              "      <th></th>\n",
              "      <th></th>\n",
              "      <th></th>\n",
              "      <th></th>\n",
              "      <th></th>\n",
              "      <th></th>\n",
              "      <th></th>\n",
              "      <th></th>\n",
              "      <th></th>\n",
              "      <th></th>\n",
              "      <th></th>\n",
              "    </tr>\n",
              "  </thead>\n",
              "  <tbody>\n",
              "    <tr>\n",
              "      <th>21669</th>\n",
              "      <td>201301.0</td>\n",
              "      <td>2</td>\n",
              "      <td>8</td>\n",
              "      <td>1</td>\n",
              "      <td>0.0</td>\n",
              "      <td>0.000000</td>\n",
              "      <td>0.000000</td>\n",
              "      <td>0.0</td>\n",
              "      <td>0.0</td>\n",
              "      <td>0.0</td>\n",
              "      <td>...</td>\n",
              "      <td>0</td>\n",
              "      <td>0</td>\n",
              "      <td>0</td>\n",
              "      <td>1</td>\n",
              "      <td>5</td>\n",
              "      <td>0</td>\n",
              "      <td>2013</td>\n",
              "      <td>1</td>\n",
              "      <td>2</td>\n",
              "      <td>0</td>\n",
              "    </tr>\n",
              "    <tr>\n",
              "      <th>54843</th>\n",
              "      <td>201301.0</td>\n",
              "      <td>2</td>\n",
              "      <td>8</td>\n",
              "      <td>1</td>\n",
              "      <td>0.0</td>\n",
              "      <td>7.487174</td>\n",
              "      <td>1.098612</td>\n",
              "      <td>0.0</td>\n",
              "      <td>0.0</td>\n",
              "      <td>0.0</td>\n",
              "      <td>...</td>\n",
              "      <td>0</td>\n",
              "      <td>0</td>\n",
              "      <td>0</td>\n",
              "      <td>1</td>\n",
              "      <td>5</td>\n",
              "      <td>0</td>\n",
              "      <td>2013</td>\n",
              "      <td>1</td>\n",
              "      <td>2</td>\n",
              "      <td>0</td>\n",
              "    </tr>\n",
              "  </tbody>\n",
              "</table>\n",
              "<p>2 rows × 24 columns</p>\n",
              "</div>"
            ],
            "text/plain": [
              "            start_month  n_unique_sites  start_hour  morning  time_diff1  \\\n",
              "session_id                                                                 \n",
              "21669          201301.0               2           8        1         0.0   \n",
              "54843          201301.0               2           8        1         0.0   \n",
              "\n",
              "            time_diff2  time_diff3  time_diff4  time_diff5  time_diff6  \\\n",
              "session_id                                                               \n",
              "21669         0.000000    0.000000         0.0         0.0         0.0   \n",
              "54843         7.487174    1.098612         0.0         0.0         0.0   \n",
              "\n",
              "               ...       day  evening  night  holiday  day_of_week  \\\n",
              "session_id     ...                                                   \n",
              "21669          ...         0        0      0        1            5   \n",
              "54843          ...         0        0      0        1            5   \n",
              "\n",
              "            work_hours  year  month  unique_count  have_top_10  \n",
              "session_id                                                      \n",
              "21669                0  2013      1             2            0  \n",
              "54843                0  2013      1             2            0  \n",
              "\n",
              "[2 rows x 24 columns]"
            ]
          },
          "metadata": {
            "tags": []
          },
          "execution_count": 924
        }
      ]
    },
    {
      "metadata": {
        "id": "TA3SsPboZVHT",
        "colab_type": "code",
        "colab": {
          "base_uri": "https://localhost:8080/",
          "height": 139
        },
        "outputId": "4a167900-5e52-4d35-fa89-cea024157377"
      },
      "cell_type": "code",
      "source": [
        " X_add.values[:idx_split,:]"
      ],
      "execution_count": 925,
      "outputs": [
        {
          "output_type": "execute_result",
          "data": {
            "text/plain": [
              "array([[0, 0, 0, ..., 0, 0, 1],\n",
              "       [0, 0, 0, ..., 0, 0, 1],\n",
              "       [0, 0, 0, ..., 0, 0, 0],\n",
              "       ...,\n",
              "       [0, 0, 1, ..., 1, 0, 0],\n",
              "       [0, 0, 1, ..., 0, 0, 1],\n",
              "       [0, 0, 0, ..., 0, 0, 0]], dtype=uint8)"
            ]
          },
          "metadata": {
            "tags": []
          },
          "execution_count": 925
        }
      ]
    },
    {
      "metadata": {
        "id": "Lsdga12l008B",
        "colab_type": "code",
        "colab": {
          "base_uri": "https://localhost:8080/",
          "height": 124
        },
        "outputId": "24b22e7b-eb3e-48fa-a95e-38ba96a7d3b9"
      },
      "cell_type": "code",
      "source": [
        "# Prepare the training and test data\n",
        "tmp_scaled = StandardScaler().fit_transform(full_new_feat[['start_month','start_hour',\n",
        "                                                           'morning','day', 'evening',                                                           \n",
        "                                                          'holiday',\t'day_of_week','work_hours'\n",
        "                                                           ]])\n",
        "X_train = csr_matrix(hstack([full_sites_sparse[:idx_split,:], tmp_scaled[:idx_split,:],  X_add.values[:idx_split,:]]))\n",
        "X_test = csr_matrix(hstack([full_sites_sparse[idx_split:,:], tmp_scaled[idx_split:,:],  X_add.values[idx_split:,:]]))\n",
        "\n",
        "# Train the model on the whole training data set using optimal regularization parameter\n",
        "lr = LogisticRegression(C=C, random_state=17, solver='liblinear').fit(X_train, y_train)\n",
        "\n",
        "# Capture the quality with default parameters\n",
        "score_C_1 = get_auc_lr_valid(X_train, y_train)\n",
        "print(score_C_1)\n",
        "\n",
        "# with C = 0.09 -- 0.92718(LB)\n",
        "# Make a prediction for the test set\n",
        "y_test = lr.predict_proba(X_test)[:, 1]\n",
        "\n",
        "# Write it to the submission file\n",
        "write_to_submission_file(y_test, 'baseline_4.csv')\n",
        "# 0.9684064913844325\n",
        "# 0.9743164850320518\n",
        "# 0.9744605005096396\n",
        "# 0.9877728746093165\n",
        "#0.9878328055785015\n",
        "# 0.9880018803530282\n",
        "# 0.988139102647711"
      ],
      "execution_count": 926,
      "outputs": [
        {
          "output_type": "stream",
          "text": [
            "/usr/local/lib/python3.6/dist-packages/sklearn/preprocessing/data.py:625: DataConversionWarning: Data with input dtype int64, float64 were all converted to float64 by StandardScaler.\n",
            "  return self.partial_fit(X, y)\n",
            "/usr/local/lib/python3.6/dist-packages/sklearn/base.py:462: DataConversionWarning: Data with input dtype int64, float64 were all converted to float64 by StandardScaler.\n",
            "  return self.fit(X, **fit_params).transform(X)\n"
          ],
          "name": "stderr"
        },
        {
          "output_type": "stream",
          "text": [
            "0.988139102647711\n"
          ],
          "name": "stdout"
        }
      ]
    },
    {
      "metadata": {
        "id": "n8t9m6bQN6Cw",
        "colab_type": "code",
        "colab": {}
      },
      "cell_type": "code",
      "source": [
        "from sklearn import model_selection, preprocessing, metrics, ensemble\n",
        "import lightgbm as lgb"
      ],
      "execution_count": 0,
      "outputs": []
    },
    {
      "metadata": {
        "id": "9-yQudHDLGlw",
        "colab_type": "code",
        "colab": {}
      },
      "cell_type": "code",
      "source": [
        "def runLGB(train_X, train_y, test_X, test_y=None, test_X2=None): \n",
        "    params = {}\n",
        "    params[\"objective\"] = \"binary\"\n",
        "    params['metric'] = 'auc'\n",
        "    params[\"max_depth\"] = 4\n",
        "    params[\"min_data_in_leaf\"] = 100\n",
        "    params[\"learning_rate\"] = 0.001\n",
        "    params[\"bagging_fraction\"] = 0.7\n",
        "    params[\"feature_fraction\"] = 0.7\n",
        "    params[\"bagging_freq\"] = 5\n",
        "    params[\"bagging_seed\"] = 0\n",
        "    params[\"verbosity\"] = -1\n",
        "    num_rounds = 10000\n",
        "\n",
        "    plst = list(params.items())\n",
        "    lgtrain = lgb.Dataset(train_X, label=train_y)\n",
        "\n",
        "    if test_y is not None:\n",
        "        lgtest = lgb.Dataset(test_X, label=test_y)\n",
        "        model = lgb.train(params, lgtrain, num_rounds, valid_sets=[lgtest], early_stopping_rounds=100, verbose_eval=50)\n",
        "    else:\n",
        "        lgtest = lgb.DMatrix(test_X)\n",
        "        model = lgb.train(params, lgtrain, num_rounds)\n",
        "\n",
        "    pred_test_y = model.predict(test_X, num_iteration=model.best_iteration)\n",
        "    pred_test_y2 = model.predict(test_X2, num_iteration=model.best_iteration)\n",
        "\n",
        "    loss = 0\n",
        "    if test_y is not None:\n",
        "        loss = metrics.roc_auc_score(test_y, pred_test_y)\n",
        "        print(loss)\n",
        "        return pred_test_y, loss, pred_test_y2\n",
        "    else:\n",
        "        return pred_test_y, loss, pred_test_y2"
      ],
      "execution_count": 0,
      "outputs": []
    },
    {
      "metadata": {
        "id": "V1e32RyRNH6r",
        "colab_type": "code",
        "colab": {}
      },
      "cell_type": "code",
      "source": [
        "# train_new = train_df.reset_index()"
      ],
      "execution_count": 0,
      "outputs": []
    },
    {
      "metadata": {
        "id": "6-QlXX-vNqA5",
        "colab_type": "code",
        "colab": {
          "base_uri": "https://localhost:8080/",
          "height": 87
        },
        "outputId": "cdd96eab-8b89-403a-d4a8-0a2d657f5bef"
      },
      "cell_type": "code",
      "source": [
        "train_new.columns"
      ],
      "execution_count": 670,
      "outputs": [
        {
          "output_type": "execute_result",
          "data": {
            "text/plain": [
              "Index(['session_id', 'site1', 'time1', 'site2', 'time2', 'site3', 'time3',\n",
              "       'site4', 'time4', 'site5', 'time5', 'site6', 'time6', 'site7', 'time7',\n",
              "       'site8', 'time8', 'site9', 'time9', 'site10', 'time10', 'target'],\n",
              "      dtype='object')"
            ]
          },
          "metadata": {
            "tags": []
          },
          "execution_count": 670
        }
      ]
    },
    {
      "metadata": {
        "id": "tDsHJM2fMLT7",
        "colab_type": "code",
        "colab": {}
      },
      "cell_type": "code",
      "source": [
        "# cv_scores = []\n",
        "# pred_test_full = 0\n",
        "# kf = model_selection.GroupKFold(n_splits=5)\n",
        "# for dev_index, val_index in kf.split(train_new, train_new[\"target\"].values, train_new[\"session_id\"].values):\n",
        "#     print(train_new[\"session_id\"].loc[val_index].unique())\n",
        "#     dev_X, val_X = X_train[dev_index,:], X_train[val_index,:]\n",
        "#     dev_y, val_y = y_train[dev_index], y_train[val_index]\n",
        "    \n",
        "#     pred_val, loss, pred_test = runLGB(dev_X, dev_y, val_X, val_y, X_test)\n",
        "#     cv_scores.append(loss)\n",
        "#     pred_test_full += pred_test\n",
        "#     print(cv_scores)\n",
        "# pred_test_full /= 5."
      ],
      "execution_count": 0,
      "outputs": []
    },
    {
      "metadata": {
        "id": "Ehf90bddTK8N",
        "colab_type": "code",
        "colab": {}
      },
      "cell_type": "code",
      "source": [
        "def runXGB(train_X, train_y, test_X, test_y=None, test_X2=None, seed_val=0, rounds=500, dep=8, eta=0.05):\n",
        "    params = {}\n",
        "    params[\"objective\"] = \"binary:logistic\"\n",
        "    params['eval_metric'] = 'auc'\n",
        "    params[\"eta\"] = eta\n",
        "    params[\"subsample\"] = 0.7\n",
        "    params[\"min_child_weight\"] = 1\n",
        "    params[\"colsample_bytree\"] = 0.7\n",
        "    params[\"max_depth\"] = dep\n",
        "    params[\"silent\"] = 1\n",
        "    params[\"seed\"] = seed_val\n",
        "    #params[\"max_delta_step\"] = 2\n",
        "    #params[\"gamma\"] = 0.5\n",
        "    num_rounds = rounds\n",
        "\n",
        "    plst = list(params.items())\n",
        "    xgtrain = xgb.DMatrix(train_X, label=train_y)\n",
        "\n",
        "    xgtest = xgb.DMatrix(test_X, label=test_y)\n",
        "    watchlist = [ (xgtrain,'train'), (xgtest, 'test') ]\n",
        "    model = xgb.train(plst, xgtrain, num_rounds, watchlist, early_stopping_rounds=100, verbose_eval=20)\n",
        "\n",
        "\n",
        "    pred_test_y = model.predict(xgtest, ntree_limit=model.best_ntree_limit)\n",
        "    pred_test_y2 = model.predict(xgb.DMatrix(test_X2), ntree_limit=model.best_ntree_limit)\n",
        "    \n",
        "    loss = metrics.roc_auc_score(test_y, pred_test_y)\n",
        "    return pred_test_y, loss, pred_test_y2"
      ],
      "execution_count": 0,
      "outputs": []
    },
    {
      "metadata": {
        "id": "mkoNTa_VTRGe",
        "colab_type": "code",
        "colab": {}
      },
      "cell_type": "code",
      "source": [
        "# import xgboost as xgb\n",
        "# cv_scores = []\n",
        "# pred_test_full = 0\n",
        "# kf = model_selection.GroupKFold(n_splits=5)\n",
        "# for dev_index, val_index in kf.split(train_new, train_new[\"target\"].values, train_new[\"session_id\"].values):\n",
        "#     print(train_new[\"session_id\"].loc[val_index].unique())\n",
        "#     dev_X, val_X = X_train[dev_index,:], X_train[val_index,:]\n",
        "#     dev_y, val_y = y_train[dev_index], y_train[val_index]\n",
        "    \n",
        "#     pred_val, loss, pred_test = runXGB(dev_X, dev_y, val_X, val_y, X_test)\n",
        "#     cv_scores.append(loss)\n",
        "#     pred_test_full += pred_test\n",
        "#     print(cv_scores)\n",
        "# pred_test_full /= 5."
      ],
      "execution_count": 0,
      "outputs": []
    },
    {
      "metadata": {
        "id": "kUQuMLNmWf3Y",
        "colab_type": "code",
        "colab": {}
      },
      "cell_type": "code",
      "source": [
        "def runRF(train_X, train_y, test_X, test_y=None, test_X2=None, depth=20, leaf=10, feat=0.2):\n",
        "    model = ensemble.RandomForestClassifier(\n",
        "            n_estimators = 1000,\n",
        "                    max_depth = depth,\n",
        "                    min_samples_split = 2,\n",
        "                    min_samples_leaf = leaf,\n",
        "                    max_features =  feat,\n",
        "                    n_jobs = 4,\n",
        "                    random_state = 0)\n",
        "    model.fit(train_X, train_y)\n",
        "    train_preds = model.predict_proba(train_X)[:,1]\n",
        "    test_preds = model.predict_proba(test_X)[:,1]\n",
        "    test_preds2 = model.predict_proba(test_X2)[:,1]\n",
        "    test_loss = 0\n",
        "    \n",
        "    train_loss = metrics.log_loss(train_y, train_preds)\n",
        "    test_loss = metrics.log_loss(test_y, test_preds)\n",
        "    print(\"Train and Test loss : \", train_loss, test_loss)\n",
        "    return test_preds, test_loss, test_preds2"
      ],
      "execution_count": 0,
      "outputs": []
    },
    {
      "metadata": {
        "id": "BtD_4VgPWp2o",
        "colab_type": "code",
        "colab": {}
      },
      "cell_type": "code",
      "source": [
        "# # import RandomForestClassifier as rf\n",
        "# cv_scores = []\n",
        "# pred_test_full = 0\n",
        "# kf = model_selection.GroupKFold(n_splits=5)\n",
        "# for dev_index, val_index in kf.split(train_new, train_new[\"target\"].values, train_new[\"session_id\"].values):\n",
        "#     print(train_new[\"session_id\"].loc[val_index].unique())\n",
        "#     dev_X, val_X = X_train[dev_index,:], X_train[val_index,:]\n",
        "#     dev_y, val_y = y_train[dev_index], y_train[val_index]\n",
        "    \n",
        "#     pred_val, loss, pred_test = runRF(dev_X, dev_y, val_X, val_y, X_test)\n",
        "#     cv_scores.append(loss)\n",
        "#     pred_test_full += pred_test\n",
        "#     print(cv_scores)\n",
        "# pred_test_full /= 5."
      ],
      "execution_count": 0,
      "outputs": []
    },
    {
      "metadata": {
        "id": "NsmUrTDGaTS_",
        "colab_type": "code",
        "colab": {}
      },
      "cell_type": "code",
      "source": [
        "from sklearn.ensemble import RandomForestClassifier\n",
        "\n",
        "model_rf = RandomForestClassifier(random_state=1, max_depth=30, n_estimators=200)\n",
        "model_rf.fit(X_train, y_train)\n",
        "\n",
        "\n",
        "pred_test = model_rf.predict_proba(X_test)[:,1]\n",
        "# score = accuracy_score(Y_test,pred_test)\n",
        "# print('accuracy_score',score)"
      ],
      "execution_count": 0,
      "outputs": []
    },
    {
      "metadata": {
        "id": "MAWL-tfGuddo",
        "colab_type": "text"
      },
      "cell_type": "markdown",
      "source": [
        "### Check Class Imbalance"
      ]
    },
    {
      "metadata": {
        "id": "z6D4ekQkLFwX",
        "colab_type": "code",
        "colab": {}
      },
      "cell_type": "code",
      "source": [
        ""
      ],
      "execution_count": 0,
      "outputs": []
    },
    {
      "metadata": {
        "id": "irlRPQu6o4GZ",
        "colab_type": "code",
        "colab": {}
      },
      "cell_type": "code",
      "source": [
        "plt.figure(figsize=(9,7))\n",
        "train_df['target'].value_counts().plot(kind = 'bar', label = 'Intruder')\n",
        "plt.legend()\n",
        "print(train_df['target'].value_counts())"
      ],
      "execution_count": 0,
      "outputs": []
    },
    {
      "metadata": {
        "id": "mQgxO3XzusvN",
        "colab_type": "text"
      },
      "cell_type": "markdown",
      "source": [
        "### Correlation table of the dataset"
      ]
    },
    {
      "metadata": {
        "id": "jvRhS3EovE6O",
        "colab_type": "code",
        "colab": {}
      },
      "cell_type": "code",
      "source": [
        "full_new_feat.head(2)"
      ],
      "execution_count": 0,
      "outputs": []
    },
    {
      "metadata": {
        "id": "IhLzCAGgxDsU",
        "colab_type": "code",
        "colab": {}
      },
      "cell_type": "code",
      "source": [
        "corr = full_new_feat.corr('spearman') \n",
        "plt.figure(figsize = ( 12 , 12 )) \n",
        "sns.heatmap(corr,annot=True,fmt='.2f',cmap=\"YlGnBu\");"
      ],
      "execution_count": 0,
      "outputs": []
    },
    {
      "metadata": {
        "id": "jD7opFAa_p0B",
        "colab_type": "code",
        "colab": {}
      },
      "cell_type": "code",
      "source": [
        "# plt.figure(figsize=(20, 6))\n",
        "# plt.subplot(1, 3, 1)\n",
        "# sns.countplot(x=\"day_of_week\", hue=\"target\", data=time_df)\n",
        "# plt.subplot(1, 3, 2)\n",
        "# plt.title('Alice day of weeks')\n",
        "# sns.countplot(x=\"day_of_week\", data=time_df[time_df['target']==1])\n",
        "# plt.subplot(1, 3, 3)\n",
        "# plt.title('Intruder day of weeks')\n",
        "# sns.countplot(x=\"day_of_week\", data=time_df[time_df['target']==0])\n",
        "# plt.tight_layout()"
      ],
      "execution_count": 0,
      "outputs": []
    },
    {
      "metadata": {
        "id": "XRZpV2yVVvgE",
        "colab_type": "code",
        "colab": {
          "base_uri": "https://localhost:8080/",
          "height": 35
        },
        "outputId": "a0b9334f-5ee3-428b-e122-821442265cd9"
      },
      "cell_type": "code",
      "source": [
        "from imblearn.over_sampling import SMOTE\n",
        "from imblearn.pipeline import make_pipeline\n",
        "\n",
        "\n",
        "def get_auc_lr_valid_1(X, y, C=1.0, seed=17, ratio = 0.9):\n",
        "  # Split the data into the training and validation sets\n",
        "    idx = int(round(X.shape[0] * ratio))\n",
        "    pipe = make_pipeline(\n",
        "      SMOTE(),\n",
        "      LogisticRegression(C=C, random_state=seed, solver='liblinear').fit(X[:idx, :], y[:idx])\n",
        "    )\n",
        "    \n",
        "#     # Classifier training\n",
        "#     lr = LogisticRegression(C=C, random_state=seed, solver='liblinear').fit(X[:idx, :], y[:idx])\n",
        "    # Prediction for validation set\n",
        "    y_pred = pipe.predict_proba(X[idx:, :])[:, 1]\n",
        "    # Calculate the quality\n",
        "    score = roc_auc_score(y[idx:], y_pred)\n",
        "    \n",
        "    return score\n",
        "\n",
        "# Capture the quality with default parameters\n",
        "score_C_1 = get_auc_lr_valid_1(X_train, y_train,  1)\n",
        "print(score_C_1)\n",
        "\n",
        "# # with C = 0.09 -- 0.92718(LB)\n",
        "# # Make a prediction for the test set\n",
        "# y_test = lr.predict_proba(X_test)[:, 1]\n",
        "\n",
        "# # Write it to the submission file\n",
        "# write_to_submission_file(y_test, 'baseline_4.csv')\n",
        "\n",
        "#0.09 -- 0.9894011250718568"
      ],
      "execution_count": 942,
      "outputs": [
        {
          "output_type": "stream",
          "text": [
            "0.988139102647711\n"
          ],
          "name": "stdout"
        }
      ]
    },
    {
      "metadata": {
        "id": "nukOFwYd58Lg",
        "colab_type": "text"
      },
      "cell_type": "markdown",
      "source": [
        "## tune regularization parameter C."
      ]
    },
    {
      "metadata": {
        "id": "JjY_WyT_Nut4",
        "colab_type": "code",
        "colab": {
          "base_uri": "https://localhost:8080/",
          "height": 35
        },
        "outputId": "fd89e3db-c354-445e-8c3c-9185d999295a"
      },
      "cell_type": "code",
      "source": [
        "time_split"
      ],
      "execution_count": 943,
      "outputs": [
        {
          "output_type": "execute_result",
          "data": {
            "text/plain": [
              "TimeSeriesSplit(max_train_size=None, n_splits=10)"
            ]
          },
          "metadata": {
            "tags": []
          },
          "execution_count": 943
        }
      ]
    },
    {
      "metadata": {
        "id": "HlWGzh0955TI",
        "colab_type": "code",
        "colab": {}
      },
      "cell_type": "code",
      "source": [
        "# c_values = np.logspace(-2, 2, 10)\n",
        "c_values = np.logspace(-1, 1, 20)\n",
        "\n",
        "\n",
        "\n",
        "logit_grid_searcher = GridSearchCV(estimator=logit, param_grid={'C': c_values},\n",
        "                                  scoring='roc_auc', n_jobs=1, cv=time_split, verbose=1)\n",
        "\n",
        "\n"
      ],
      "execution_count": 0,
      "outputs": []
    },
    {
      "metadata": {
        "id": "kO6HNtcB6TSE",
        "colab_type": "code",
        "colab": {
          "base_uri": "https://localhost:8080/",
          "height": 104
        },
        "outputId": "b2a41c34-6525-40d8-acad-47bc8ab73a5d"
      },
      "cell_type": "code",
      "source": [
        "%%time\n",
        "logit_grid_searcher.fit(X_train, y_train)\n",
        "\n",
        "logit_grid_searcher.best_score_, logit_grid_searcher.best_params_\n",
        "\n",
        "logit_test_pred3 = logit_grid_searcher.predict_proba(X_test)[:, 1]\n",
        "write_to_submission_file(logit_test_pred3, 'subm7.csv') # 0.94242 #0.94201"
      ],
      "execution_count": 934,
      "outputs": [
        {
          "output_type": "stream",
          "text": [
            "Fitting 10 folds for each of 20 candidates, totalling 200 fits\n"
          ],
          "name": "stdout"
        },
        {
          "output_type": "stream",
          "text": [
            "[Parallel(n_jobs=1)]: Using backend SequentialBackend with 1 concurrent workers.\n",
            "[Parallel(n_jobs=1)]: Done 200 out of 200 | elapsed: 19.4min finished\n"
          ],
          "name": "stderr"
        },
        {
          "output_type": "stream",
          "text": [
            "CPU times: user 19min 28s, sys: 2.98 s, total: 19min 31s\n",
            "Wall time: 19min 32s\n"
          ],
          "name": "stdout"
        }
      ]
    },
    {
      "metadata": {
        "id": "Bg0I5N74hwmj",
        "colab_type": "code",
        "colab": {
          "base_uri": "https://localhost:8080/",
          "height": 35
        },
        "outputId": "86f9f035-3075-48f4-a1eb-2757d59f194a"
      },
      "cell_type": "code",
      "source": [
        "full_sites = full_df[sites].astype('str')\n",
        "lst = full_sites[sites].as_matrix().tolist()\n",
        "flat_list = [' '.join(sublist) for sublist in lst]\n",
        "vect = TfidfVectorizer(ngram_range=(1,4), max_features=100000,analyzer='char_wb')\n",
        "tfidf_matrix = vect.fit_transform(flat_list)\n",
        "\n",
        "X_train_tf = tfidf_matrix[:idx_split]\n",
        "X_test_tf  = tfidf_matrix[idx_split:]\n",
        "\n",
        "X_train_tf.shape, X_test_tf.shape"
      ],
      "execution_count": 953,
      "outputs": [
        {
          "output_type": "execute_result",
          "data": {
            "text/plain": [
              "((253561, 13321), (82797, 13321))"
            ]
          },
          "metadata": {
            "tags": []
          },
          "execution_count": 953
        }
      ]
    },
    {
      "metadata": {
        "id": "r48PFxgKieUU",
        "colab_type": "code",
        "colab": {
          "base_uri": "https://localhost:8080/",
          "height": 141
        },
        "outputId": "10ceb56e-388b-4650-83bb-a3be05002454"
      },
      "cell_type": "code",
      "source": [
        "# Prepare the training and test data\n",
        "tmp_scaled = StandardScaler().fit_transform(full_new_feat[['start_month','start_hour',\n",
        "                                                           'morning','day', 'evening',                                                           \n",
        "                                                          'holiday',\t'day_of_week','work_hours'\n",
        "                                                           ]])\n",
        "\n",
        "x_train_full  =  csr_matrix(hstack([X_train_tf,tmp_scaled[:idx_split,:],\n",
        "                                   X_add.values[:idx_split,:]])) \n",
        "x_test_full   =  csr_matrix(hstack([X_test_tf , tmp_scaled[idx_split:,:], \n",
        "                                   X_add.values[idx_split:,:]])) \n",
        "\n",
        "print(x_train_full.shape,x_test_full.shape)\n",
        "\n",
        "\n",
        "target = train_df['target']\n",
        "X_train , X_valid , y_train , y_valid = train_test_split(x_train_full,target ,test_size=0.2) \n",
        "tscv = TimeSeriesSplit(n_splits = 5);\n",
        "\n",
        "\n",
        "print(tscv)"
      ],
      "execution_count": 957,
      "outputs": [
        {
          "output_type": "stream",
          "text": [
            "/usr/local/lib/python3.6/dist-packages/sklearn/preprocessing/data.py:625: DataConversionWarning: Data with input dtype int64, float64 were all converted to float64 by StandardScaler.\n",
            "  return self.partial_fit(X, y)\n",
            "/usr/local/lib/python3.6/dist-packages/sklearn/base.py:462: DataConversionWarning: Data with input dtype int64, float64 were all converted to float64 by StandardScaler.\n",
            "  return self.fit(X, **fit_params).transform(X)\n"
          ],
          "name": "stderr"
        },
        {
          "output_type": "stream",
          "text": [
            "(253561, 13371) (82797, 13371)\n",
            "TimeSeriesSplit(max_train_size=None, n_splits=5)\n"
          ],
          "name": "stdout"
        }
      ]
    },
    {
      "metadata": {
        "id": "Xn1Dlht9jfQl",
        "colab_type": "code",
        "colab": {
          "base_uri": "https://localhost:8080/",
          "height": 104
        },
        "outputId": "75f3fcfe-ab44-4455-f8e7-8ac4e476c841"
      },
      "cell_type": "code",
      "source": [
        "[(el[0].shape, el[1].shape) for el in tscv.split(X_train)]"
      ],
      "execution_count": 958,
      "outputs": [
        {
          "output_type": "execute_result",
          "data": {
            "text/plain": [
              "[((33808,), (33808,)),\n",
              " ((67616,), (33808,)),\n",
              " ((101424,), (33808,)),\n",
              " ((135232,), (33808,)),\n",
              " ((169040,), (33808,))]"
            ]
          },
          "metadata": {
            "tags": []
          },
          "execution_count": 958
        }
      ]
    },
    {
      "metadata": {
        "id": "pWTHr33_huLp",
        "colab_type": "code",
        "colab": {
          "base_uri": "https://localhost:8080/",
          "height": 87
        },
        "outputId": "d72677a6-0985-4751-e189-5ba574e1eda7"
      },
      "cell_type": "code",
      "source": [
        "%%time\n",
        "clf_lr = LogisticRegression (random_state = 42, n_jobs=1, solver='lbfgs', max_iter=8000)\n",
        "clf_lr.fit (X_train, y_train)\n",
        "preds_lr = clf_lr.predict_proba (X_valid)[:, 1]\n",
        "print ('Train test split LogisticRegression score:% s ROC AUC'% round (roc_auc_score (y_valid, preds_lr), 4))\n",
        "cross_score_lr = np.mean (cross_val_score (clf_lr, x_train_full, target, scoring = 'roc_auc', cv = tscv))\n",
        "print ('Cross validation LogisticRegression score:% s ROC AUC'% round (cross_score_lr, 4))"
      ],
      "execution_count": 959,
      "outputs": [
        {
          "output_type": "stream",
          "text": [
            "Train test split LogisticRegression score:0.9836 ROC AUC\n",
            "Cross validation LogisticRegression score:0.9407 ROC AUC\n",
            "CPU times: user 2min 17s, sys: 1min 26s, total: 3min 43s\n",
            "Wall time: 1min 52s\n"
          ],
          "name": "stdout"
        }
      ]
    },
    {
      "metadata": {
        "id": "M0fXU2HgmTe0",
        "colab_type": "code",
        "colab": {
          "base_uri": "https://localhost:8080/",
          "height": 87
        },
        "outputId": "ae067cbf-0f0a-4f8f-e60f-864d3aaa3920"
      },
      "cell_type": "code",
      "source": [
        "%%time\n",
        "clf_rf = RandomForestClassifier (random_state = 42, n_estimators = 100)\n",
        "clf_rf.fit (X_train, y_train)\n",
        "preds_rf = clf_rf.predict_proba (X_valid) [:, 1]\n",
        "print ('Train test split RandomForestClassifier score:% s ROC AUC'% round (roc_auc_score (y_valid, preds_rf), 4))\n",
        "cross_score_rf = np.mean (cross_val_score (clf_rf, x_train_full, target, scoring = 'roc_auc', cv = tscv))\n",
        "print ('Cross validation RandomForestClassifier score:% s ROC AUC'% round (cross_score_rf, 4))"
      ],
      "execution_count": 960,
      "outputs": [
        {
          "output_type": "stream",
          "text": [
            "Train test split RandomForestClassifier score:0.9799 ROC AUC\n",
            "Cross validation RandomForestClassifier score:0.8585 ROC AUC\n",
            "CPU times: user 16min 1s, sys: 518 ms, total: 16min 1s\n",
            "Wall time: 16min 1s\n"
          ],
          "name": "stdout"
        }
      ]
    },
    {
      "metadata": {
        "id": "yI0rMLEfjl0b",
        "colab_type": "code",
        "colab": {
          "base_uri": "https://localhost:8080/",
          "height": 87
        },
        "outputId": "e1de5900-ea00-4b15-d570-c91d150c3cc1"
      },
      "cell_type": "code",
      "source": [
        "%%time\n",
        "reg_xgb = xgb.XGBRegressor(10, 0.1, 1000, objective= 'binary:logistic', random_state = 42, booster = 'gblinear',scale_pos_weight = 109)\n",
        "reg_xgb.fit(X_train, y_train)\n",
        "preds_xgb_reg = reg_xgb.predict(X_valid)\n",
        "print ('Train test split XGBRegressor score:% s ROC AUC'% round (roc_auc_score (y_valid, preds_xgb_reg), 4))\n",
        "cross_score_xgb_reg = np.mean (cross_val_score (reg_xgb, x_train_full, target, scoring = 'roc_auc', cv = tscv))\n",
        "print ('Cross validation XGBRegressor score:% s ROC AUC'% round (cross_score_xgb_reg, 4))"
      ],
      "execution_count": 961,
      "outputs": [
        {
          "output_type": "stream",
          "text": [
            "Train test split XGBRegressor score:0.9924 ROC AUC\n",
            "Cross validation XGBRegressor score:0.93 ROC AUC\n",
            "CPU times: user 11min 41s, sys: 1.11 s, total: 11min 42s\n",
            "Wall time: 11min 42s\n"
          ],
          "name": "stdout"
        }
      ]
    },
    {
      "metadata": {
        "id": "ZVnup56bn53b",
        "colab_type": "code",
        "colab": {
          "base_uri": "https://localhost:8080/",
          "height": 87
        },
        "outputId": "03716e78-0106-4ad7-df16-0aa9efc65e63"
      },
      "cell_type": "code",
      "source": [
        "%%time\n",
        "clf_xgb = xgb.XGBClassifier (random_state = 42, booster = 'gblinear')\n",
        "clf_xgb.fit (X_train, y_train)\n",
        "preds_xgb = clf_xgb.predict_proba (X_valid) [:, 1]\n",
        "print ('Train test split XGBClassifier score:% s ROC AUC'% round (roc_auc_score (y_valid, preds_xgb), 4))\n",
        "cross_score_xgb = np.mean (cross_val_score (clf_xgb, x_train_full, target, scoring = 'roc_auc', cv = tscv))\n",
        "print ('Cross validation XGBClassifier score:% s ROC AUC'% round (cross_score_xgb, 4))"
      ],
      "execution_count": 962,
      "outputs": [
        {
          "output_type": "stream",
          "text": [
            "Train test split XGBClassifier score:0.9833 ROC AUC\n",
            "Cross validation XGBClassifier score:0.9412 ROC AUC\n",
            "CPU times: user 1min 32s, sys: 911 ms, total: 1min 33s\n",
            "Wall time: 1min 33s\n"
          ],
          "name": "stdout"
        }
      ]
    },
    {
      "metadata": {
        "id": "IwPMIChkoH05",
        "colab_type": "code",
        "colab": {
          "base_uri": "https://localhost:8080/",
          "height": 513
        },
        "outputId": "41e78c00-b212-41f2-933c-7e52e25cddca"
      },
      "cell_type": "code",
      "source": [
        "fpr_lr,tpr_lr,threshold=roc_curve(y_valid,preds_lr)\n",
        "roc_auc_lr = auc(fpr_lr,tpr_lr)\n",
        "\n",
        "fpr_rf,tpr_rf,threshold=roc_curve(y_valid,preds_rf)\n",
        "roc_auc_rf = auc(fpr_rf,tpr_rf)\n",
        "\n",
        "fpr_xgb_reg,tpr_xgb_reg,threshold=roc_curve(y_valid,preds_xgb_reg)\n",
        "roc_auc_xgb_reg = auc(fpr_xgb_reg,tpr_xgb_reg)\n",
        "\n",
        "fpr_xgb,tpr_xgb,threshold=roc_curve(y_valid,preds_xgb)\n",
        "roc_auc_xgb = auc(fpr_xgb,tpr_xgb)\n",
        "\n",
        "plt.figure(figsize=(12,8))\n",
        "plt.title('Receiver Operating Characteristic Curve')\n",
        "plt.plot(fpr_lr, tpr_lr,'r', label='AUC LR=%0.4f'%roc_auc_lr)\n",
        "plt.plot(fpr_rf, tpr_rf,'b', label='AUC RF=%0.4f'%roc_auc_rf)\n",
        "plt.plot(fpr_xgb, tpr_xgb,'g', label='AUC XGB REG=%0.4f'%roc_auc_xgb_reg)\n",
        "plt.plot(fpr_xgb_reg, tpr_xgb_reg, 'y', label='AUC XGB=%0.4f'%roc_auc_xgb)\n",
        "plt.legend(loc='lowerright')\n",
        "plt.plot([0,1],[0,1],'r--')\n",
        "plt.xlim([0,1])\n",
        "plt.ylim([0,1])\n",
        "plt.ylabel('True Positive Rate')\n",
        "plt.xlabel('False Positive Rate');"
      ],
      "execution_count": 965,
      "outputs": [
        {
          "output_type": "display_data",
          "data": {
            "image/png": "[encoded data removed]",
            "text/plain": [
              "<Figure size 864x576 with 1 Axes>"
            ]
          },
          "metadata": {
            "tags": []
          }
        }
      ]
    },
    {
      "metadata": {
        "id": "6ibASMCG2V0r",
        "colab_type": "code",
        "colab": {}
      },
      "cell_type": "code",
      "source": [
        "def show_confusion_matrix(y_true,y_pred,title='Confusionmatrix'):\n",
        "    table=confusion_matrix(y_true.values,y_pred)\n",
        "    fig,ax=plt.subplots(frameon=False)\n",
        "    fig.set_size_inches(4,3)\n",
        "    fig.suptitle(title,fontsize=20)\n",
        "    ax.axis('off')\n",
        "    ax.xaxis.set_visible(False)\n",
        "    ax.yaxis.set_visible(False)\n",
        "\n",
        "    the_table=ax.table(cellText=table,\n",
        "                        colWidths=[0.5]*len([0,1]),\n",
        "                        rowLabels=['True 0','True 1'],colLabels=['Predicted 0','Predicted 1'],\n",
        "                        cellLoc='center',rowLoc='center',loc=\"center\")\n",
        "    the_table.set_fontsize(34)\n",
        "    the_table.scale(1,4)\n",
        "    plt.show()"
      ],
      "execution_count": 0,
      "outputs": []
    },
    {
      "metadata": {
        "id": "AynrYcn72bJ5",
        "colab_type": "code",
        "colab": {
          "base_uri": "https://localhost:8080/",
          "height": 217
        },
        "outputId": "8f1726d2-4066-46d4-df76-5efce3198afe"
      },
      "cell_type": "code",
      "source": [
        "show_confusion_matrix(y_valid, clf_lr.predict(X_valid))"
      ],
      "execution_count": 967,
      "outputs": [
        {
          "output_type": "display_data",
          "data": {
            "image/png": "[encoded data removed]",
            "text/plain": [
              "<Figure size 288x216 with 1 Axes>"
            ]
          },
          "metadata": {
            "tags": []
          }
        }
      ]
    },
    {
      "metadata": {
        "id": "zpqD9fKM2idQ",
        "colab_type": "code",
        "colab": {
          "base_uri": "https://localhost:8080/",
          "height": 217
        },
        "outputId": "919f54a9-43fc-4a31-9667-5104436c4f0e"
      },
      "cell_type": "code",
      "source": [
        "show_confusion_matrix(y_valid, clf_xgb.predict(X_valid))"
      ],
      "execution_count": 968,
      "outputs": [
        {
          "output_type": "display_data",
          "data": {
            "image/png": "[encoded data removed]",
            "text/plain": [
              "<Figure size 288x216 with 1 Axes>"
            ]
          },
          "metadata": {
            "tags": []
          }
        }
      ]
    },
    {
      "metadata": {
        "id": "YFW1Ahvg2mn-",
        "colab_type": "code",
        "colab": {
          "base_uri": "https://localhost:8080/",
          "height": 217
        },
        "outputId": "d3744b22-0a12-433b-e316-84042a1f75fc"
      },
      "cell_type": "code",
      "source": [
        "show_confusion_matrix(y_valid, clf_rf.predict(X_valid))"
      ],
      "execution_count": 971,
      "outputs": [
        {
          "output_type": "display_data",
          "data": {
            "image/png": "[encoded data removed]",
            "text/plain": [
              "<Figure size 288x216 with 1 Axes>"
            ]
          },
          "metadata": {
            "tags": []
          }
        }
      ]
    },
    {
      "metadata": {
        "id": "HhuOvz-vzt4c",
        "colab_type": "code",
        "colab": {}
      },
      "cell_type": "code",
      "source": [
        "def get_auc_lr_valid(X, y, C=1.0, seed=17, ratio = 0.9):\n",
        "    # Split the data into the training and validation sets\n",
        "    idx = int(round(X.shape[0] * ratio))\n",
        "    # Classifier training\n",
        "    lr = LogisticRegression(C=C, random_state=seed,max_iter=8000,n_jobs=1,solver='lbfgs').fit(X[:idx, :], y[:idx])\n",
        "    # Prediction for validation set\n",
        "    y_pred = lr.predict_proba(X[idx:, :])[:, 1]\n",
        "    # Calculate the quality\n",
        "    score = roc_auc_score(y[idx:], y_pred)\n",
        "    return score"
      ],
      "execution_count": 0,
      "outputs": []
    },
    {
      "metadata": {
        "id": "gtT9Nglx31c6",
        "colab_type": "code",
        "colab": {
          "base_uri": "https://localhost:8080/",
          "height": 619
        },
        "outputId": "a94a8610-fe53-4708-dabc-0207d1c972a2"
      },
      "cell_type": "code",
      "source": [
        "%%time\n",
        "from tqdm import tqdm\n",
        "# List of possible C-values\n",
        "Cs = np.logspace(-1, 1, 20)\n",
        "\n",
        "scores = []\n",
        "\n",
        "for C in tqdm(Cs):\n",
        "     scores.append(get_auc_lr_valid(X_train, y_train, C=C))"
      ],
      "execution_count": 1,
      "outputs": [
        {
          "output_type": "error",
          "ename": "NameError",
          "evalue": "ignored",
          "traceback": [
            "\u001b[0;31m---------------------------------------------------------------------------\u001b[0m",
            "\u001b[0;31mNameError\u001b[0m                                 Traceback (most recent call last)",
            "\u001b[0;32m<ipython-input-1-c5c1e3d13591>\u001b[0m in \u001b[0;36m<module>\u001b[0;34m()\u001b[0m\n\u001b[0;32m----> 1\u001b[0;31m \u001b[0mget_ipython\u001b[0m\u001b[0;34m(\u001b[0m\u001b[0;34m)\u001b[0m\u001b[0;34m.\u001b[0m\u001b[0mrun_cell_magic\u001b[0m\u001b[0;34m(\u001b[0m\u001b[0;34m'time'\u001b[0m\u001b[0;34m,\u001b[0m \u001b[0;34m''\u001b[0m\u001b[0;34m,\u001b[0m \u001b[0;34m'from tqdm import tqdm\\n# List of possible C-values\\nCs = np.logspace(-1, 1, 20)\\n\\nscores = []\\n\\nfor C in tqdm(Cs):\\n     scores.append(get_auc_lr_valid(X_train, y_train, C=C))'\u001b[0m\u001b[0;34m)\u001b[0m\u001b[0;34m\u001b[0m\u001b[0;34m\u001b[0m\u001b[0m\n\u001b[0m",
            "\u001b[0;32m/usr/local/lib/python3.6/dist-packages/IPython/core/interactiveshell.py\u001b[0m in \u001b[0;36mrun_cell_magic\u001b[0;34m(self, magic_name, line, cell)\u001b[0m\n\u001b[1;32m   2115\u001b[0m             \u001b[0mmagic_arg_s\u001b[0m \u001b[0;34m=\u001b[0m \u001b[0mself\u001b[0m\u001b[0;34m.\u001b[0m\u001b[0mvar_expand\u001b[0m\u001b[0;34m(\u001b[0m\u001b[0mline\u001b[0m\u001b[0;34m,\u001b[0m \u001b[0mstack_depth\u001b[0m\u001b[0;34m)\u001b[0m\u001b[0;34m\u001b[0m\u001b[0;34m\u001b[0m\u001b[0m\n\u001b[1;32m   2116\u001b[0m             \u001b[0;32mwith\u001b[0m \u001b[0mself\u001b[0m\u001b[0;34m.\u001b[0m\u001b[0mbuiltin_trap\u001b[0m\u001b[0;34m:\u001b[0m\u001b[0;34m\u001b[0m\u001b[0;34m\u001b[0m\u001b[0m\n\u001b[0;32m-> 2117\u001b[0;31m                 \u001b[0mresult\u001b[0m \u001b[0;34m=\u001b[0m \u001b[0mfn\u001b[0m\u001b[0;34m(\u001b[0m\u001b[0mmagic_arg_s\u001b[0m\u001b[0;34m,\u001b[0m \u001b[0mcell\u001b[0m\u001b[0;34m)\u001b[0m\u001b[0;34m\u001b[0m\u001b[0;34m\u001b[0m\u001b[0m\n\u001b[0m\u001b[1;32m   2118\u001b[0m             \u001b[0;32mreturn\u001b[0m \u001b[0mresult\u001b[0m\u001b[0;34m\u001b[0m\u001b[0;34m\u001b[0m\u001b[0m\n\u001b[1;32m   2119\u001b[0m \u001b[0;34m\u001b[0m\u001b[0m\n",
            "\u001b[0;32m</usr/local/lib/python3.6/dist-packages/decorator.py:decorator-gen-60>\u001b[0m in \u001b[0;36mtime\u001b[0;34m(self, line, cell, local_ns)\u001b[0m\n",
            "\u001b[0;32m/usr/local/lib/python3.6/dist-packages/IPython/core/magic.py\u001b[0m in \u001b[0;36m<lambda>\u001b[0;34m(f, *a, **k)\u001b[0m\n\u001b[1;32m    186\u001b[0m     \u001b[0;31m# but it's overkill for just that one bit of state.\u001b[0m\u001b[0;34m\u001b[0m\u001b[0;34m\u001b[0m\u001b[0;34m\u001b[0m\u001b[0m\n\u001b[1;32m    187\u001b[0m     \u001b[0;32mdef\u001b[0m \u001b[0mmagic_deco\u001b[0m\u001b[0;34m(\u001b[0m\u001b[0marg\u001b[0m\u001b[0;34m)\u001b[0m\u001b[0;34m:\u001b[0m\u001b[0;34m\u001b[0m\u001b[0;34m\u001b[0m\u001b[0m\n\u001b[0;32m--> 188\u001b[0;31m         \u001b[0mcall\u001b[0m \u001b[0;34m=\u001b[0m \u001b[0;32mlambda\u001b[0m \u001b[0mf\u001b[0m\u001b[0;34m,\u001b[0m \u001b[0;34m*\u001b[0m\u001b[0ma\u001b[0m\u001b[0;34m,\u001b[0m \u001b[0;34m**\u001b[0m\u001b[0mk\u001b[0m\u001b[0;34m:\u001b[0m \u001b[0mf\u001b[0m\u001b[0;34m(\u001b[0m\u001b[0;34m*\u001b[0m\u001b[0ma\u001b[0m\u001b[0;34m,\u001b[0m \u001b[0;34m**\u001b[0m\u001b[0mk\u001b[0m\u001b[0;34m)\u001b[0m\u001b[0;34m\u001b[0m\u001b[0;34m\u001b[0m\u001b[0m\n\u001b[0m\u001b[1;32m    189\u001b[0m \u001b[0;34m\u001b[0m\u001b[0m\n\u001b[1;32m    190\u001b[0m         \u001b[0;32mif\u001b[0m \u001b[0mcallable\u001b[0m\u001b[0;34m(\u001b[0m\u001b[0marg\u001b[0m\u001b[0;34m)\u001b[0m\u001b[0;34m:\u001b[0m\u001b[0;34m\u001b[0m\u001b[0;34m\u001b[0m\u001b[0m\n",
            "\u001b[0;32m/usr/local/lib/python3.6/dist-packages/IPython/core/magics/execution.py\u001b[0m in \u001b[0;36mtime\u001b[0;34m(self, line, cell, local_ns)\u001b[0m\n\u001b[1;32m   1191\u001b[0m         \u001b[0;32melse\u001b[0m\u001b[0;34m:\u001b[0m\u001b[0;34m\u001b[0m\u001b[0;34m\u001b[0m\u001b[0m\n\u001b[1;32m   1192\u001b[0m             \u001b[0mst\u001b[0m \u001b[0;34m=\u001b[0m \u001b[0mclock2\u001b[0m\u001b[0;34m(\u001b[0m\u001b[0;34m)\u001b[0m\u001b[0;34m\u001b[0m\u001b[0;34m\u001b[0m\u001b[0m\n\u001b[0;32m-> 1193\u001b[0;31m             \u001b[0mexec\u001b[0m\u001b[0;34m(\u001b[0m\u001b[0mcode\u001b[0m\u001b[0;34m,\u001b[0m \u001b[0mglob\u001b[0m\u001b[0;34m,\u001b[0m \u001b[0mlocal_ns\u001b[0m\u001b[0;34m)\u001b[0m\u001b[0;34m\u001b[0m\u001b[0;34m\u001b[0m\u001b[0m\n\u001b[0m\u001b[1;32m   1194\u001b[0m             \u001b[0mend\u001b[0m \u001b[0;34m=\u001b[0m \u001b[0mclock2\u001b[0m\u001b[0;34m(\u001b[0m\u001b[0;34m)\u001b[0m\u001b[0;34m\u001b[0m\u001b[0;34m\u001b[0m\u001b[0m\n\u001b[1;32m   1195\u001b[0m             \u001b[0mout\u001b[0m \u001b[0;34m=\u001b[0m \u001b[0;32mNone\u001b[0m\u001b[0;34m\u001b[0m\u001b[0;34m\u001b[0m\u001b[0m\n",
            "\u001b[0;32m<timed exec>\u001b[0m in \u001b[0;36m<module>\u001b[0;34m()\u001b[0m\n",
            "\u001b[0;31mNameError\u001b[0m: name 'np' is not defined"
          ]
        }
      ]
    },
    {
      "metadata": {
        "id": "1wZV0gVq39_x",
        "colab_type": "code",
        "colab": {}
      },
      "cell_type": "code",
      "source": [
        "3scores, max(scores), Cs[np.argmax(scores)]"
      ],
      "execution_count": 0,
      "outputs": []
    },
    {
      "metadata": {
        "id": "x-QrtpmL3_eh",
        "colab_type": "code",
        "colab": {}
      },
      "cell_type": "code",
      "source": [
        "final_model = LogisticRegression(random_state = 17, C = Cs[np.argmax(scores)],n_jobs=1) \n",
        "final_model.fit(X_train,y_train) \n",
        "print('ROC_AUC on the test sample: {} '.format(round(roc_auc_score(y_valid,final_model.predict_proba(X_valid)[:,1]),4)))"
      ],
      "execution_count": 0,
      "outputs": []
    },
    {
      "metadata": {
        "id": "WwFKVjmX4M_f",
        "colab_type": "code",
        "colab": {}
      },
      "cell_type": "code",
      "source": [
        "# Function for writing predictions to a file\n",
        "def write_to_submission_file(predicted_labels, out_file,\n",
        "                             target='target', index_label=\"session_id\"):\n",
        "    predicted_df = pd.DataFrame(predicted_labels,\n",
        "                                index = np.arange(1, predicted_labels.shape[0] + 1),\n",
        "                                columns=[target])\n",
        "    predicted_df.to_csv(out_file, index_label=index_label)"
      ],
      "execution_count": 0,
      "outputs": []
    },
    {
      "metadata": {
        "id": "B2ckq2eG4OtH",
        "colab_type": "code",
        "colab": {}
      },
      "cell_type": "code",
      "source": [
        "preds = final_model.predict_proba(x_test_full)[:,1]"
      ],
      "execution_count": 0,
      "outputs": []
    },
    {
      "metadata": {
        "id": "r4B1JheR4VyT",
        "colab_type": "code",
        "colab": {}
      },
      "cell_type": "code",
      "source": [
        "preds = np.where(preds > 0.945, 0.985, preds)"
      ],
      "execution_count": 0,
      "outputs": []
    },
    {
      "metadata": {
        "id": "Sbyo_rZY4eC0",
        "colab_type": "code",
        "colab": {}
      },
      "cell_type": "code",
      "source": [
        "write_to_submission_file(preds,'re-git_v4.csv')"
      ],
      "execution_count": 0,
      "outputs": []
    },
    {
      "metadata": {
        "id": "tFr8C_yzUWyQ",
        "colab_type": "text"
      },
      "cell_type": "markdown",
      "source": [
        "# Part 2. Freeride"
      ]
    },
    {
      "metadata": {
        "id": "JiS4s2StUWyQ",
        "colab_type": "text"
      },
      "cell_type": "markdown",
      "source": [
        "<img src='https://github.com/shravankoninti/mlcourse.ai-1/blob/master/img/snowboard.jpg?raw=1' width=70%>\n",
        "\n",
        "*Yorko in Sheregesh, the best place in Russia for snowboarding and skiing.*"
      ]
    },
    {
      "metadata": {
        "id": "zqY3eapFUWyR",
        "colab_type": "text"
      },
      "cell_type": "markdown",
      "source": [
        "In this part, you'll need to beat the 2 more baselines mentioned in the beginning of this assignment. No more step-by-step instructions. But it'll be very helpful for you to study the Kernel \"[Correct time-aware cross-validation scheme](https://www.kaggle.com/kashnitsky/correct-time-aware-cross-validation-scheme)\".\n",
        "\n",
        "Here are a few tips for finding new features: think about what you can come up with using existing features, try multiplying or dividing two of them, justify or decline your hypotheses with plots, extract useful information from time series data (time1 ... time10), do not hesitate to convert an existing feature (for example, take a logarithm), etc. Checkout other [Kernels](https://www.kaggle.com/c/catch-me-if-you-can-intruder-detection-through-webpage-session-tracking2/kernels). We encourage you to try new ideas and models - it's fun!\n",
        "\n",
        "*For discussions, please stick to [ODS Slack](https://opendatascience.slack.com/), channel #mlcourse_ai, pinned thread __#a2_alice__*\n",
        "\n",
        "When you get into Kaggle and Xgboost, you'll feel like that, and it's OK :)\n",
        "\n",
        "<img src='https://github.com/shravankoninti/mlcourse.ai-1/blob/master/img/xgboost_meme.jpg?raw=1' width=50%>\n",
        "\n",
        "*More nerdy jokes in the thread [\"Nerd Laughing Loud\"](https://www.kaggle.com/general/76963)*\n",
        "\n",
        "# Relax? Not yet\n",
        "\n",
        "That's it for this part of assignment 2. More credits will be given to the top 10 performers in this competition (from among current participants), check [course roadmap](https://mlcourse.ai/roadmap). Do not spoil the assignment and the competition - don't share high-performing kernels (with LB ROC AUC >= 0.95)."
      ]
    }
  ]
}